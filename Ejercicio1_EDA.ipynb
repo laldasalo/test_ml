{
  "nbformat": 4,
  "nbformat_minor": 5,
  "metadata": {
    "kernelspec": {
      "display_name": "Python 3",
      "language": "python",
      "name": "python3"
    },
    "language_info": {
      "codemirror_mode": {
        "name": "ipython",
        "version": 3
      },
      "file_extension": ".py",
      "mimetype": "text/x-python",
      "name": "python",
      "nbconvert_exporter": "python",
      "pygments_lexer": "ipython3",
      "version": "3.8.8"
    },
    "colab": {
      "name": "Ejercicio 1.ipynb",
      "provenance": []
    }
  },
  "cells": [
    {
      "cell_type": "markdown",
      "metadata": {
        "id": "5OgZmR0qqxT5"
      },
      "source": [
        "## **DATA SCIENCE CHALLENGE - MERCADO LIBRE**\n",
        "\n",
        "Autor= Lorena Aldasalo"
      ],
      "id": "5OgZmR0qqxT5"
    },
    {
      "cell_type": "markdown",
      "metadata": {
        "id": "xxrO51SUhq_Q"
      },
      "source": [
        "# **1.Instalamos los requerimientos.**"
      ],
      "id": "xxrO51SUhq_Q"
    },
    {
      "cell_type": "code",
      "metadata": {
        "colab": {
          "base_uri": "https://localhost:8080/"
        },
        "id": "8V8Yh2Guek9E",
        "outputId": "e923d694-6b0b-4576-f28f-128af85c6775"
      },
      "source": [
        "!pip install plotly==5.1.0\n",
        "!pip install plotly_express==0.4.0 "
      ],
      "id": "8V8Yh2Guek9E",
      "execution_count": 1,
      "outputs": [
        {
          "output_type": "stream",
          "text": [
            "Requirement already satisfied: plotly==5.1.0 in /usr/local/lib/python3.7/dist-packages (5.1.0)\n",
            "Requirement already satisfied: tenacity>=6.2.0 in /usr/local/lib/python3.7/dist-packages (from plotly==5.1.0) (8.0.0)\n",
            "Requirement already satisfied: six in /usr/local/lib/python3.7/dist-packages (from plotly==5.1.0) (1.15.0)\n",
            "Requirement already satisfied: plotly_express==0.4.0 in /usr/local/lib/python3.7/dist-packages (0.4.0)\n",
            "Requirement already satisfied: statsmodels>=0.9.0 in /usr/local/lib/python3.7/dist-packages (from plotly_express==0.4.0) (0.10.2)\n",
            "Requirement already satisfied: patsy>=0.5 in /usr/local/lib/python3.7/dist-packages (from plotly_express==0.4.0) (0.5.1)\n",
            "Requirement already satisfied: scipy>=0.18 in /usr/local/lib/python3.7/dist-packages (from plotly_express==0.4.0) (1.4.1)\n",
            "Requirement already satisfied: plotly>=4.0.0 in /usr/local/lib/python3.7/dist-packages (from plotly_express==0.4.0) (5.1.0)\n",
            "Requirement already satisfied: numpy>=1.11 in /usr/local/lib/python3.7/dist-packages (from plotly_express==0.4.0) (1.19.5)\n",
            "Requirement already satisfied: pandas>=0.20.0 in /usr/local/lib/python3.7/dist-packages (from plotly_express==0.4.0) (1.1.5)\n",
            "Requirement already satisfied: six in /usr/local/lib/python3.7/dist-packages (from patsy>=0.5->plotly_express==0.4.0) (1.15.0)\n",
            "Requirement already satisfied: tenacity>=6.2.0 in /usr/local/lib/python3.7/dist-packages (from plotly>=4.0.0->plotly_express==0.4.0) (8.0.0)\n",
            "Requirement already satisfied: pytz>=2017.2 in /usr/local/lib/python3.7/dist-packages (from pandas>=0.20.0->plotly_express==0.4.0) (2018.9)\n",
            "Requirement already satisfied: python-dateutil>=2.7.3 in /usr/local/lib/python3.7/dist-packages (from pandas>=0.20.0->plotly_express==0.4.0) (2.8.1)\n"
          ],
          "name": "stdout"
        }
      ]
    },
    {
      "cell_type": "markdown",
      "metadata": {
        "id": "HUcvC3m2rBH6"
      },
      "source": [
        "# **2. Importamos las librerías de Python a utilizar**"
      ],
      "id": "HUcvC3m2rBH6"
    },
    {
      "cell_type": "code",
      "metadata": {
        "id": "ca74b760-5d05-4540-bf87-8db26129641f"
      },
      "source": [
        "import requests as rq\n",
        "import pandas as pd\n",
        "import numpy as np\n",
        "import plotly.express as px"
      ],
      "id": "ca74b760-5d05-4540-bf87-8db26129641f",
      "execution_count": 2,
      "outputs": []
    },
    {
      "cell_type": "markdown",
      "metadata": {
        "id": "UzI2FJ1hwZH0"
      },
      "source": [
        "# **3. Descargamos los datos de la API de mercado libre**\n",
        "\n",
        "Nota= Recibí ayuda en éste punto, dado que no tengo experiencia previa en el manejo de API consumidas por red. Mi mayor experiencia es en el consumo de datos en bases de datos, utilizando SQL (Oracle, SQL Server, Teradata, etc)."
      ],
      "id": "UzI2FJ1hwZH0"
    },
    {
      "cell_type": "code",
      "metadata": {
        "id": "36cc1e09-6974-4722-8326-3bb5a5279b47"
      },
      "source": [
        "def busqueda(text, type_search=\"q\", n=50):\n",
        "    result = pd.DataFrame()\n",
        "    for i in range(n//50+1):\n",
        "        params = {type_search:text, \"offset\":i*50, \"limit\":min(50, n-i*50)}\n",
        "        response = rq.get(\"https://api.mercadolibre.com/sites/MLA/search\", params=params)\n",
        "        if len(response.json()[\"results\"]) > 0:\n",
        "            tmp = pd.json_normalize(response.json()[\"results\"])\n",
        "            tmp[\"query\"] = text\n",
        "            result = result.append(tmp)\n",
        "        else:\n",
        "            break\n",
        "    return result"
      ],
      "id": "36cc1e09-6974-4722-8326-3bb5a5279b47",
      "execution_count": 3,
      "outputs": []
    },
    {
      "cell_type": "code",
      "metadata": {
        "id": "ea7e5c9b-10f4-4911-81fb-932947edd9c3"
      },
      "source": [
        "def busqueda_multiple(query_list, n=50):\n",
        "    result = pd.DataFrame()\n",
        "    for query in query_list:\n",
        "        result = result.append(busqueda(query, n=n))\n",
        "    return result"
      ],
      "id": "ea7e5c9b-10f4-4911-81fb-932947edd9c3",
      "execution_count": 4,
      "outputs": []
    },
    {
      "cell_type": "code",
      "metadata": {
        "id": "67708cb6-8b54-4afa-8453-037f5a6451de"
      },
      "source": [
        "# Toma las categorías de Argentina y su primera subcategoría \n",
        "def categorias():\n",
        "    result = pd.DataFrame()\n",
        "    resp1 = rq.get(\"https://api.mercadolibre.com/sites/MLA/categories\")\n",
        "    for subcat1 in resp1.json():\n",
        "        resp2 = rq.get(\"https://api.mercadolibre.com/categories/\" + subcat1[\"id\"])\n",
        "        tmp = pd.json_normalize(resp2.json()[\"children_categories\"])\n",
        "        tmp[\"categoria\"] = subcat1[\"name\"]\n",
        "        result = result.append(tmp)\n",
        "    return result"
      ],
      "id": "67708cb6-8b54-4afa-8453-037f5a6451de",
      "execution_count": 5,
      "outputs": []
    },
    {
      "cell_type": "markdown",
      "metadata": {
        "id": "IBjoOQBWreY3"
      },
      "source": [
        "# **4. Análisis de publicaciones por categoría**\n",
        "Observamos cuales son las categorías y subcategorías con mayor cantidad de publicaciones"
      ],
      "id": "IBjoOQBWreY3"
    },
    {
      "cell_type": "code",
      "metadata": {
        "id": "46faaad7-bef3-42dd-8050-7dd71df78603"
      },
      "source": [
        "cat = categorias()"
      ],
      "id": "46faaad7-bef3-42dd-8050-7dd71df78603",
      "execution_count": 6,
      "outputs": []
    },
    {
      "cell_type": "code",
      "metadata": {
        "colab": {
          "base_uri": "https://localhost:8080/",
          "height": 419
        },
        "id": "f4e9449c-c3b6-4ac9-a12f-f2f54db7bdcd",
        "outputId": "5398f520-774a-4dd6-c48b-df9dfc740106"
      },
      "source": [
        "cat.sort_values(by='total_items_in_this_category', ascending=False)"
      ],
      "id": "f4e9449c-c3b6-4ac9-a12f-f2f54db7bdcd",
      "execution_count": 7,
      "outputs": [
        {
          "output_type": "execute_result",
          "data": {
            "text/html": [
              "<div>\n",
              "<style scoped>\n",
              "    .dataframe tbody tr th:only-of-type {\n",
              "        vertical-align: middle;\n",
              "    }\n",
              "\n",
              "    .dataframe tbody tr th {\n",
              "        vertical-align: top;\n",
              "    }\n",
              "\n",
              "    .dataframe thead th {\n",
              "        text-align: right;\n",
              "    }\n",
              "</style>\n",
              "<table border=\"1\" class=\"dataframe\">\n",
              "  <thead>\n",
              "    <tr style=\"text-align: right;\">\n",
              "      <th></th>\n",
              "      <th>id</th>\n",
              "      <th>name</th>\n",
              "      <th>total_items_in_this_category</th>\n",
              "      <th>categoria</th>\n",
              "    </tr>\n",
              "  </thead>\n",
              "  <tbody>\n",
              "    <tr>\n",
              "      <th>13</th>\n",
              "      <td>MLA1747</td>\n",
              "      <td>Repuestos Autos y Camionetas</td>\n",
              "      <td>8501552</td>\n",
              "      <td>Accesorios para Vehículos</td>\n",
              "    </tr>\n",
              "    <tr>\n",
              "      <th>2</th>\n",
              "      <td>MLA412445</td>\n",
              "      <td>Libros</td>\n",
              "      <td>7605141</td>\n",
              "      <td>Libros, Revistas y Comics</td>\n",
              "    </tr>\n",
              "    <tr>\n",
              "      <th>1</th>\n",
              "      <td>MLA1174</td>\n",
              "      <td>Música</td>\n",
              "      <td>1181277</td>\n",
              "      <td>Música, Películas y Series</td>\n",
              "    </tr>\n",
              "    <tr>\n",
              "      <th>2</th>\n",
              "      <td>MLA1592</td>\n",
              "      <td>Bazar y Cocina</td>\n",
              "      <td>633981</td>\n",
              "      <td>Hogar, Muebles y Jardín</td>\n",
              "    </tr>\n",
              "    <tr>\n",
              "      <th>15</th>\n",
              "      <td>MLA1771</td>\n",
              "      <td>Repuestos Motos y Cuatriciclos</td>\n",
              "      <td>617424</td>\n",
              "      <td>Accesorios para Vehículos</td>\n",
              "    </tr>\n",
              "    <tr>\n",
              "      <th>...</th>\n",
              "      <td>...</td>\n",
              "      <td>...</td>\n",
              "      <td>...</td>\n",
              "      <td>...</td>\n",
              "    </tr>\n",
              "    <tr>\n",
              "      <th>2</th>\n",
              "      <td>MLA10434</td>\n",
              "      <td>Eventos Deportivos</td>\n",
              "      <td>37</td>\n",
              "      <td>Entradas para Eventos</td>\n",
              "    </tr>\n",
              "    <tr>\n",
              "      <th>0</th>\n",
              "      <td>MLA455033</td>\n",
              "      <td>Ácido Clorhídrico</td>\n",
              "      <td>18</td>\n",
              "      <td>Otras categorías</td>\n",
              "    </tr>\n",
              "    <tr>\n",
              "      <th>1</th>\n",
              "      <td>MLA454714</td>\n",
              "      <td>Eventos a Beneficio</td>\n",
              "      <td>8</td>\n",
              "      <td>Entradas para Eventos</td>\n",
              "    </tr>\n",
              "    <tr>\n",
              "      <th>7</th>\n",
              "      <td>MLA432903</td>\n",
              "      <td>Hornos Crematorios</td>\n",
              "      <td>6</td>\n",
              "      <td>Otras categorías</td>\n",
              "    </tr>\n",
              "    <tr>\n",
              "      <th>5</th>\n",
              "      <td>MLA455216</td>\n",
              "      <td>Dispositivos para TelePASE</td>\n",
              "      <td>0</td>\n",
              "      <td>Accesorios para Vehículos</td>\n",
              "    </tr>\n",
              "  </tbody>\n",
              "</table>\n",
              "<p>410 rows × 4 columns</p>\n",
              "</div>"
            ],
            "text/plain": [
              "           id  ...                   categoria\n",
              "13    MLA1747  ...   Accesorios para Vehículos\n",
              "2   MLA412445  ...   Libros, Revistas y Comics\n",
              "1     MLA1174  ...  Música, Películas y Series\n",
              "2     MLA1592  ...     Hogar, Muebles y Jardín\n",
              "15    MLA1771  ...   Accesorios para Vehículos\n",
              "..        ...  ...                         ...\n",
              "2    MLA10434  ...       Entradas para Eventos\n",
              "0   MLA455033  ...            Otras categorías\n",
              "1   MLA454714  ...       Entradas para Eventos\n",
              "7   MLA432903  ...            Otras categorías\n",
              "5   MLA455216  ...   Accesorios para Vehículos\n",
              "\n",
              "[410 rows x 4 columns]"
            ]
          },
          "metadata": {
            "tags": []
          },
          "execution_count": 7
        }
      ]
    },
    {
      "cell_type": "markdown",
      "metadata": {
        "id": "Kns2LIlPbT3d"
      },
      "source": [
        "A continuación se puede observar gráficamente cuales son las 10 categorías con mayor cantidad de items con un sencillo gráfico de barras"
      ],
      "id": "Kns2LIlPbT3d"
    },
    {
      "cell_type": "code",
      "metadata": {
        "colab": {
          "base_uri": "https://localhost:8080/",
          "height": 542
        },
        "id": "74ibdtn_Y89z",
        "outputId": "981af69b-fdb1-4e62-92fd-4279dd87ef5f"
      },
      "source": [
        "cat_grafico = (cat.sort_values(by='total_items_in_this_category', ascending=False)).head(n=10)\n",
        "fig = px.bar(cat_grafico, x=\"name\", y=\"total_items_in_this_category\")\n",
        "fig.show()"
      ],
      "id": "74ibdtn_Y89z",
      "execution_count": 8,
      "outputs": [
        {
          "output_type": "display_data",
          "data": {
            "text/html": [
              "<html>\n",
              "<head><meta charset=\"utf-8\" /></head>\n",
              "<body>\n",
              "    <div>            <script src=\"https://cdnjs.cloudflare.com/ajax/libs/mathjax/2.7.5/MathJax.js?config=TeX-AMS-MML_SVG\"></script><script type=\"text/javascript\">if (window.MathJax) {MathJax.Hub.Config({SVG: {font: \"STIX-Web\"}});}</script>                <script type=\"text/javascript\">window.PlotlyConfig = {MathJaxConfig: 'local'};</script>\n",
              "        <script src=\"https://cdn.plot.ly/plotly-2.2.0.min.js\"></script>                <div id=\"425c7e80-2afe-472d-a9bf-4a3a0858b6ee\" class=\"plotly-graph-div\" style=\"height:525px; width:100%;\"></div>            <script type=\"text/javascript\">                                    window.PLOTLYENV=window.PLOTLYENV || {};                                    if (document.getElementById(\"425c7e80-2afe-472d-a9bf-4a3a0858b6ee\")) {                    Plotly.newPlot(                        \"425c7e80-2afe-472d-a9bf-4a3a0858b6ee\",                        [{\"alignmentgroup\":\"True\",\"hovertemplate\":\"name=%{x}<br>total_items_in_this_category=%{y}<extra></extra>\",\"legendgroup\":\"\",\"marker\":{\"color\":\"#636efa\",\"pattern\":{\"shape\":\"\"}},\"name\":\"\",\"offsetgroup\":\"\",\"orientation\":\"v\",\"showlegend\":false,\"textposition\":\"auto\",\"type\":\"bar\",\"x\":[\"Repuestos Autos y Camionetas\",\"Libros\",\"M\\u00fasica\",\"Bazar y Cocina\",\"Repuestos Motos y Cuatriciclos\",\"Otros\",\"Adornos y Decoraci\\u00f3n del Hogar\",\"Calzado\",\"Remeras, Musculosas y Chombas\",\"Muebles para el Hogar\"],\"xaxis\":\"x\",\"y\":[8501552,7605141,1181277,633981,617424,557106,538769,423141,400495,375015],\"yaxis\":\"y\"}],                        {\"barmode\":\"relative\",\"legend\":{\"tracegroupgap\":0},\"margin\":{\"t\":60},\"template\":{\"data\":{\"bar\":[{\"error_x\":{\"color\":\"#2a3f5f\"},\"error_y\":{\"color\":\"#2a3f5f\"},\"marker\":{\"line\":{\"color\":\"#E5ECF6\",\"width\":0.5},\"pattern\":{\"fillmode\":\"overlay\",\"size\":10,\"solidity\":0.2}},\"type\":\"bar\"}],\"barpolar\":[{\"marker\":{\"line\":{\"color\":\"#E5ECF6\",\"width\":0.5},\"pattern\":{\"fillmode\":\"overlay\",\"size\":10,\"solidity\":0.2}},\"type\":\"barpolar\"}],\"carpet\":[{\"aaxis\":{\"endlinecolor\":\"#2a3f5f\",\"gridcolor\":\"white\",\"linecolor\":\"white\",\"minorgridcolor\":\"white\",\"startlinecolor\":\"#2a3f5f\"},\"baxis\":{\"endlinecolor\":\"#2a3f5f\",\"gridcolor\":\"white\",\"linecolor\":\"white\",\"minorgridcolor\":\"white\",\"startlinecolor\":\"#2a3f5f\"},\"type\":\"carpet\"}],\"choropleth\":[{\"colorbar\":{\"outlinewidth\":0,\"ticks\":\"\"},\"type\":\"choropleth\"}],\"contour\":[{\"colorbar\":{\"outlinewidth\":0,\"ticks\":\"\"},\"colorscale\":[[0.0,\"#0d0887\"],[0.1111111111111111,\"#46039f\"],[0.2222222222222222,\"#7201a8\"],[0.3333333333333333,\"#9c179e\"],[0.4444444444444444,\"#bd3786\"],[0.5555555555555556,\"#d8576b\"],[0.6666666666666666,\"#ed7953\"],[0.7777777777777778,\"#fb9f3a\"],[0.8888888888888888,\"#fdca26\"],[1.0,\"#f0f921\"]],\"type\":\"contour\"}],\"contourcarpet\":[{\"colorbar\":{\"outlinewidth\":0,\"ticks\":\"\"},\"type\":\"contourcarpet\"}],\"heatmap\":[{\"colorbar\":{\"outlinewidth\":0,\"ticks\":\"\"},\"colorscale\":[[0.0,\"#0d0887\"],[0.1111111111111111,\"#46039f\"],[0.2222222222222222,\"#7201a8\"],[0.3333333333333333,\"#9c179e\"],[0.4444444444444444,\"#bd3786\"],[0.5555555555555556,\"#d8576b\"],[0.6666666666666666,\"#ed7953\"],[0.7777777777777778,\"#fb9f3a\"],[0.8888888888888888,\"#fdca26\"],[1.0,\"#f0f921\"]],\"type\":\"heatmap\"}],\"heatmapgl\":[{\"colorbar\":{\"outlinewidth\":0,\"ticks\":\"\"},\"colorscale\":[[0.0,\"#0d0887\"],[0.1111111111111111,\"#46039f\"],[0.2222222222222222,\"#7201a8\"],[0.3333333333333333,\"#9c179e\"],[0.4444444444444444,\"#bd3786\"],[0.5555555555555556,\"#d8576b\"],[0.6666666666666666,\"#ed7953\"],[0.7777777777777778,\"#fb9f3a\"],[0.8888888888888888,\"#fdca26\"],[1.0,\"#f0f921\"]],\"type\":\"heatmapgl\"}],\"histogram\":[{\"marker\":{\"pattern\":{\"fillmode\":\"overlay\",\"size\":10,\"solidity\":0.2}},\"type\":\"histogram\"}],\"histogram2d\":[{\"colorbar\":{\"outlinewidth\":0,\"ticks\":\"\"},\"colorscale\":[[0.0,\"#0d0887\"],[0.1111111111111111,\"#46039f\"],[0.2222222222222222,\"#7201a8\"],[0.3333333333333333,\"#9c179e\"],[0.4444444444444444,\"#bd3786\"],[0.5555555555555556,\"#d8576b\"],[0.6666666666666666,\"#ed7953\"],[0.7777777777777778,\"#fb9f3a\"],[0.8888888888888888,\"#fdca26\"],[1.0,\"#f0f921\"]],\"type\":\"histogram2d\"}],\"histogram2dcontour\":[{\"colorbar\":{\"outlinewidth\":0,\"ticks\":\"\"},\"colorscale\":[[0.0,\"#0d0887\"],[0.1111111111111111,\"#46039f\"],[0.2222222222222222,\"#7201a8\"],[0.3333333333333333,\"#9c179e\"],[0.4444444444444444,\"#bd3786\"],[0.5555555555555556,\"#d8576b\"],[0.6666666666666666,\"#ed7953\"],[0.7777777777777778,\"#fb9f3a\"],[0.8888888888888888,\"#fdca26\"],[1.0,\"#f0f921\"]],\"type\":\"histogram2dcontour\"}],\"mesh3d\":[{\"colorbar\":{\"outlinewidth\":0,\"ticks\":\"\"},\"type\":\"mesh3d\"}],\"parcoords\":[{\"line\":{\"colorbar\":{\"outlinewidth\":0,\"ticks\":\"\"}},\"type\":\"parcoords\"}],\"pie\":[{\"automargin\":true,\"type\":\"pie\"}],\"scatter\":[{\"marker\":{\"colorbar\":{\"outlinewidth\":0,\"ticks\":\"\"}},\"type\":\"scatter\"}],\"scatter3d\":[{\"line\":{\"colorbar\":{\"outlinewidth\":0,\"ticks\":\"\"}},\"marker\":{\"colorbar\":{\"outlinewidth\":0,\"ticks\":\"\"}},\"type\":\"scatter3d\"}],\"scattercarpet\":[{\"marker\":{\"colorbar\":{\"outlinewidth\":0,\"ticks\":\"\"}},\"type\":\"scattercarpet\"}],\"scattergeo\":[{\"marker\":{\"colorbar\":{\"outlinewidth\":0,\"ticks\":\"\"}},\"type\":\"scattergeo\"}],\"scattergl\":[{\"marker\":{\"colorbar\":{\"outlinewidth\":0,\"ticks\":\"\"}},\"type\":\"scattergl\"}],\"scattermapbox\":[{\"marker\":{\"colorbar\":{\"outlinewidth\":0,\"ticks\":\"\"}},\"type\":\"scattermapbox\"}],\"scatterpolar\":[{\"marker\":{\"colorbar\":{\"outlinewidth\":0,\"ticks\":\"\"}},\"type\":\"scatterpolar\"}],\"scatterpolargl\":[{\"marker\":{\"colorbar\":{\"outlinewidth\":0,\"ticks\":\"\"}},\"type\":\"scatterpolargl\"}],\"scatterternary\":[{\"marker\":{\"colorbar\":{\"outlinewidth\":0,\"ticks\":\"\"}},\"type\":\"scatterternary\"}],\"surface\":[{\"colorbar\":{\"outlinewidth\":0,\"ticks\":\"\"},\"colorscale\":[[0.0,\"#0d0887\"],[0.1111111111111111,\"#46039f\"],[0.2222222222222222,\"#7201a8\"],[0.3333333333333333,\"#9c179e\"],[0.4444444444444444,\"#bd3786\"],[0.5555555555555556,\"#d8576b\"],[0.6666666666666666,\"#ed7953\"],[0.7777777777777778,\"#fb9f3a\"],[0.8888888888888888,\"#fdca26\"],[1.0,\"#f0f921\"]],\"type\":\"surface\"}],\"table\":[{\"cells\":{\"fill\":{\"color\":\"#EBF0F8\"},\"line\":{\"color\":\"white\"}},\"header\":{\"fill\":{\"color\":\"#C8D4E3\"},\"line\":{\"color\":\"white\"}},\"type\":\"table\"}]},\"layout\":{\"annotationdefaults\":{\"arrowcolor\":\"#2a3f5f\",\"arrowhead\":0,\"arrowwidth\":1},\"autotypenumbers\":\"strict\",\"coloraxis\":{\"colorbar\":{\"outlinewidth\":0,\"ticks\":\"\"}},\"colorscale\":{\"diverging\":[[0,\"#8e0152\"],[0.1,\"#c51b7d\"],[0.2,\"#de77ae\"],[0.3,\"#f1b6da\"],[0.4,\"#fde0ef\"],[0.5,\"#f7f7f7\"],[0.6,\"#e6f5d0\"],[0.7,\"#b8e186\"],[0.8,\"#7fbc41\"],[0.9,\"#4d9221\"],[1,\"#276419\"]],\"sequential\":[[0.0,\"#0d0887\"],[0.1111111111111111,\"#46039f\"],[0.2222222222222222,\"#7201a8\"],[0.3333333333333333,\"#9c179e\"],[0.4444444444444444,\"#bd3786\"],[0.5555555555555556,\"#d8576b\"],[0.6666666666666666,\"#ed7953\"],[0.7777777777777778,\"#fb9f3a\"],[0.8888888888888888,\"#fdca26\"],[1.0,\"#f0f921\"]],\"sequentialminus\":[[0.0,\"#0d0887\"],[0.1111111111111111,\"#46039f\"],[0.2222222222222222,\"#7201a8\"],[0.3333333333333333,\"#9c179e\"],[0.4444444444444444,\"#bd3786\"],[0.5555555555555556,\"#d8576b\"],[0.6666666666666666,\"#ed7953\"],[0.7777777777777778,\"#fb9f3a\"],[0.8888888888888888,\"#fdca26\"],[1.0,\"#f0f921\"]]},\"colorway\":[\"#636efa\",\"#EF553B\",\"#00cc96\",\"#ab63fa\",\"#FFA15A\",\"#19d3f3\",\"#FF6692\",\"#B6E880\",\"#FF97FF\",\"#FECB52\"],\"font\":{\"color\":\"#2a3f5f\"},\"geo\":{\"bgcolor\":\"white\",\"lakecolor\":\"white\",\"landcolor\":\"#E5ECF6\",\"showlakes\":true,\"showland\":true,\"subunitcolor\":\"white\"},\"hoverlabel\":{\"align\":\"left\"},\"hovermode\":\"closest\",\"mapbox\":{\"style\":\"light\"},\"paper_bgcolor\":\"white\",\"plot_bgcolor\":\"#E5ECF6\",\"polar\":{\"angularaxis\":{\"gridcolor\":\"white\",\"linecolor\":\"white\",\"ticks\":\"\"},\"bgcolor\":\"#E5ECF6\",\"radialaxis\":{\"gridcolor\":\"white\",\"linecolor\":\"white\",\"ticks\":\"\"}},\"scene\":{\"xaxis\":{\"backgroundcolor\":\"#E5ECF6\",\"gridcolor\":\"white\",\"gridwidth\":2,\"linecolor\":\"white\",\"showbackground\":true,\"ticks\":\"\",\"zerolinecolor\":\"white\"},\"yaxis\":{\"backgroundcolor\":\"#E5ECF6\",\"gridcolor\":\"white\",\"gridwidth\":2,\"linecolor\":\"white\",\"showbackground\":true,\"ticks\":\"\",\"zerolinecolor\":\"white\"},\"zaxis\":{\"backgroundcolor\":\"#E5ECF6\",\"gridcolor\":\"white\",\"gridwidth\":2,\"linecolor\":\"white\",\"showbackground\":true,\"ticks\":\"\",\"zerolinecolor\":\"white\"}},\"shapedefaults\":{\"line\":{\"color\":\"#2a3f5f\"}},\"ternary\":{\"aaxis\":{\"gridcolor\":\"white\",\"linecolor\":\"white\",\"ticks\":\"\"},\"baxis\":{\"gridcolor\":\"white\",\"linecolor\":\"white\",\"ticks\":\"\"},\"bgcolor\":\"#E5ECF6\",\"caxis\":{\"gridcolor\":\"white\",\"linecolor\":\"white\",\"ticks\":\"\"}},\"title\":{\"x\":0.05},\"xaxis\":{\"automargin\":true,\"gridcolor\":\"white\",\"linecolor\":\"white\",\"ticks\":\"\",\"title\":{\"standoff\":15},\"zerolinecolor\":\"white\",\"zerolinewidth\":2},\"yaxis\":{\"automargin\":true,\"gridcolor\":\"white\",\"linecolor\":\"white\",\"ticks\":\"\",\"title\":{\"standoff\":15},\"zerolinecolor\":\"white\",\"zerolinewidth\":2}}},\"xaxis\":{\"anchor\":\"y\",\"domain\":[0.0,1.0],\"title\":{\"text\":\"name\"}},\"yaxis\":{\"anchor\":\"x\",\"domain\":[0.0,1.0],\"title\":{\"text\":\"total_items_in_this_category\"}}},                        {\"responsive\": true}                    ).then(function(){\n",
              "                            \n",
              "var gd = document.getElementById('425c7e80-2afe-472d-a9bf-4a3a0858b6ee');\n",
              "var x = new MutationObserver(function (mutations, observer) {{\n",
              "        var display = window.getComputedStyle(gd).display;\n",
              "        if (!display || display === 'none') {{\n",
              "            console.log([gd, 'removed!']);\n",
              "            Plotly.purge(gd);\n",
              "            observer.disconnect();\n",
              "        }}\n",
              "}});\n",
              "\n",
              "// Listen for the removal of the full notebook cells\n",
              "var notebookContainer = gd.closest('#notebook-container');\n",
              "if (notebookContainer) {{\n",
              "    x.observe(notebookContainer, {childList: true});\n",
              "}}\n",
              "\n",
              "// Listen for the clearing of the current output cell\n",
              "var outputEl = gd.closest('.output');\n",
              "if (outputEl) {{\n",
              "    x.observe(outputEl, {childList: true});\n",
              "}}\n",
              "\n",
              "                        })                };                            </script>        </div>\n",
              "</body>\n",
              "</html>"
            ]
          },
          "metadata": {
            "tags": []
          }
        }
      ]
    },
    {
      "cell_type": "markdown",
      "metadata": {
        "id": "ec06z9hIidCD"
      },
      "source": [
        "Ahora no queremos ver sólo las 10 categorías con más item, sino queremos ver un mapa que nos ilustre todo. Para eso usamos un **Treemap**\n"
      ],
      "id": "ec06z9hIidCD"
    },
    {
      "cell_type": "code",
      "metadata": {
        "colab": {
          "base_uri": "https://localhost:8080/",
          "height": 542
        },
        "id": "8lLMBo9rdymn",
        "outputId": "97f997e9-2339-4363-c6a7-afad3149ec54"
      },
      "source": [
        "fig = px.treemap(cat, path=[px.Constant(\"Todo\"), 'categoria','name'], values='total_items_in_this_category')\n",
        "fig.show()"
      ],
      "id": "8lLMBo9rdymn",
      "execution_count": 9,
      "outputs": [
        {
          "output_type": "display_data",
          "data": {
            "text/html": [
              "<html>\n",
              "<head><meta charset=\"utf-8\" /></head>\n",
              "<body>\n",
              "    <div>            <script src=\"https://cdnjs.cloudflare.com/ajax/libs/mathjax/2.7.5/MathJax.js?config=TeX-AMS-MML_SVG\"></script><script type=\"text/javascript\">if (window.MathJax) {MathJax.Hub.Config({SVG: {font: \"STIX-Web\"}});}</script>                <script type=\"text/javascript\">window.PlotlyConfig = {MathJaxConfig: 'local'};</script>\n",
              "        <script src=\"https://cdn.plot.ly/plotly-2.2.0.min.js\"></script>                <div id=\"1f8d3d51-502a-43dc-867a-b1990b7e6096\" class=\"plotly-graph-div\" style=\"height:525px; width:100%;\"></div>            <script type=\"text/javascript\">                                    window.PLOTLYENV=window.PLOTLYENV || {};                                    if (document.getElementById(\"1f8d3d51-502a-43dc-867a-b1990b7e6096\")) {                    Plotly.newPlot(                        \"1f8d3d51-502a-43dc-867a-b1990b7e6096\",                        [{\"branchvalues\":\"total\",\"domain\":{\"x\":[0.0,1.0],\"y\":[0.0,1.0]},\"hovertemplate\":\"labels=%{label}<br>total_items_in_this_category=%{value}<br>parent=%{parent}<br>id=%{id}<extra></extra>\",\"ids\":[\"Todo/Construcci\\u00f3n/Aberturas\",\"Todo/Ropa y Accesorios/Abrigos\",\"Todo/Accesorios para Veh\\u00edculos/Acc. para Motos y Cuatriciclos\",\"Todo/Accesorios para Veh\\u00edculos/Acc. y Repuestos N\\u00e1uticos\",\"Todo/Computaci\\u00f3n/Accesorios de Antiest\\u00e1tica\",\"Todo/Accesorios para Veh\\u00edculos/Accesorios de Auto y Camioneta\",\"Todo/Construcci\\u00f3n/Accesorios de Construcci\\u00f3n\",\"Todo/Ropa y Accesorios/Accesorios de Moda\",\"Todo/Electr\\u00f3nica, Audio y Video/Accesorios para Audio y Video\",\"Todo/Accesorios para Veh\\u00edculos/Accesorios para Camiones\",\"Todo/Celulares y Tel\\u00e9fonos/Accesorios para Celulares\",\"Todo/Consolas y Videojuegos/Accesorios para Consolas\",\"Todo/C\\u00e1maras y Accesorios/Accesorios para C\\u00e1maras\",\"Todo/Herramientas/Accesorios para Herramientas\",\"Todo/Computaci\\u00f3n/Accesorios para PC Gaming\",\"Todo/Consolas y Videojuegos/Accesorios para PC Gaming\",\"Todo/Electr\\u00f3nica, Audio y Video/Accesorios para TV\",\"Todo/Hogar, Muebles y Jard\\u00edn/Adornos y Decoraci\\u00f3n del Hogar\",\"Todo/Otras categor\\u00edas/Adultos\",\"Todo/Computaci\\u00f3n/Almacenamiento\",\"Todo/Alimentos y Bebidas/Almac\\u00e9n\",\"Todo/Beb\\u00e9s/Andadores y Veh\\u00edculos de Beb\\u00e9s\",\"Todo/Agro/Animales\",\"Todo/Antig\\u00fcedades y Colecciones/Antig\\u00fcedades\",\"Todo/Juegos y Juguetes/Armas y Lanzadores de Juguete\",\"Todo/Industrias y Oficinas/Arquitectura y Dise\\u00f1o\",\"Todo/Arte, Librer\\u00eda y Mercer\\u00eda/Arte\",\"Todo/Juegos y Juguetes/Arte y Manualidades\",\"Todo/Electrodom\\u00e9sticos y Aires Ac./Artefactos de Cuidado Personal\",\"Todo/Deportes y Fitness/Artes Marciales y Boxeo\",\"Todo/Beb\\u00e9s/Art\\u00edculos de Beb\\u00e9s para Ba\\u00f1o\",\"Todo/Beb\\u00e9s/Art\\u00edculos de Maternidad\",\"Todo/Belleza y Cuidado Personal/Art\\u00edculos de Peluquer\\u00eda\",\"Todo/Otras categor\\u00edas/Art\\u00edculos para Fumadores\",\"Todo/Servicios/Asesoramiento Contable y Legal\",\"Todo/Electr\\u00f3nica, Audio y Video/Audio\",\"Todo/Accesorios para Veh\\u00edculos/Audio para Veh\\u00edculos\",\"Todo/Autos, Motos y Otros/Autos Chocados y Averiados\",\"Todo/Autos, Motos y Otros/Autos de Colecci\\u00f3n\",\"Todo/Autos, Motos y Otros/Autos y Camionetas\",\"Todo/Animales y Mascotas/Aves\",\"Todo/Belleza y Cuidado Personal/Barber\\u00eda\",\"Todo/Instrumentos Musicales/Bater\\u00edas y Percusi\\u00f3n\",\"Todo/Hogar, Muebles y Jard\\u00edn/Bazar y Cocina\",\"Todo/Hogar, Muebles y Jard\\u00edn/Ba\\u00f1os\",\"Todo/Construcci\\u00f3n/Ba\\u00f1os y Sanitarios\",\"Todo/Alimentos y Bebidas/Bebidas\",\"Todo/Servicios/Belleza y Cuidado Personal\",\"Todo/Ropa y Accesorios/Bermudas y Shorts\",\"Todo/Ropa y Accesorios/Blusas\",\"Todo/Deportes y Fitness/Buceo\",\"Todo/Deportes y Fitness/B\\u00e1dminton\",\"Todo/Deportes y Fitness/B\\u00e1squet\",\"Todo/Animales y Mascotas/Caballos\",\"Todo/C\\u00e1maras y Accesorios/Cables\",\"Todo/Electr\\u00f3nica, Audio y Video/Cables\",\"Todo/Computaci\\u00f3n/Cables y Hubs USB\",\"Todo/Herramientas/Cajas y Organizadores\",\"Todo/Computaci\\u00f3n/Cajas, Sobres y Porta CDs\",\"Todo/Ropa y Accesorios/Calzado\",\"Todo/Ropa y Accesorios/Calzas\",\"Todo/Inmuebles/Camas N\\u00e1uticas\",\"Todo/Hogar, Muebles y Jard\\u00edn/Camas, Colchones y Accesorios\",\"Todo/Autos, Motos y Otros/Camiones\",\"Todo/Ropa y Accesorios/Camisas\",\"Todo/Deportes y Fitness/Camping, Caza y Pesca\",\"Todo/Inmuebles/Campos\",\"Todo/Deportes y Fitness/Canoas, Kayaks e Inflables\",\"Todo/Inmuebles/Casas\",\"Todo/Juegos y Juguetes/Casas y Carpas para Ni\\u00f1os\",\"Todo/Libros, Revistas y Comics/Cat\\u00e1logos\",\"Todo/Celulares y Tel\\u00e9fonos/Celulares y Smartphones\",\"Todo/Beb\\u00e9s/Chupetes y Mordillos\",\"Todo/Deportes y Fitness/Ciclismo\",\"Todo/Electrodom\\u00e9sticos y Aires Ac./Climatizaci\\u00f3n\",\"Todo/Otras categor\\u00edas/Coberturas Extendidas\",\"Todo/Electrodom\\u00e9sticos y Aires Ac./Cocci\\u00f3n\",\"Todo/Inmuebles/Cocheras\",\"Todo/Antig\\u00fcedades y Colecciones/Coleccionables de Deportes\",\"Todo/Autos, Motos y Otros/Colectivos\",\"Todo/Libros, Revistas y Comics/Comics e Historietas\",\"Todo/Alimentos y Bebidas/Comida Preparada\",\"Todo/Beb\\u00e9s/Comida para Beb\\u00e9s\",\"Todo/Alimentos y Bebidas/Comidas Calientes\",\"Todo/Electr\\u00f3nica, Audio y Video/Componentes Electr\\u00f3nicos\",\"Todo/Computaci\\u00f3n/Componentes de PC\",\"Todo/Servicios/Comunicaci\\u00f3n y dise\\u00f1o\",\"Todo/Computaci\\u00f3n/Conectividad y Redes\",\"Todo/Animales y Mascotas/Conejos\",\"Todo/Alimentos y Bebidas/Congelados\",\"Todo/Consolas y Videojuegos/Consolas\",\"Todo/Inmuebles/Consultorios\",\"Todo/Electr\\u00f3nica, Audio y Video/Controles Remotos\",\"Todo/Beb\\u00e9s/Corralitos\",\"Todo/Souvenirs, Cotill\\u00f3n y Fiestas/Cotill\\u00f3n\",\"Todo/Otras categor\\u00edas/Criptomonedas\",\"Todo/Beb\\u00e9s/Cuarto del Beb\\u00e9\",\"Todo/Belleza y Cuidado Personal/Cuidado de la Piel\",\"Todo/Salud y Equipamiento M\\u00e9dico/Cuidado de la Salud\",\"Todo/Belleza y Cuidado Personal/Cuidado del Cabello\",\"Todo/Hogar, Muebles y Jard\\u00edn/Cuidado del Hogar y Lavander\\u00eda\",\"Todo/M\\u00fasica, Pel\\u00edculas y Series/Cursos\",\"Todo/Servicios/Cursos y Clases\",\"Todo/C\\u00e1maras y Accesorios/C\\u00e1maras\",\"Todo/Souvenirs, Cotill\\u00f3n y Fiestas/Decoraci\\u00f3n para Fiestas\",\"Todo/Servicios/Delivery\",\"Todo/Inmuebles/Departamentos\",\"Todo/Belleza y Cuidado Personal/Depilaci\\u00f3n\",\"Todo/Inmuebles/Dep\\u00f3sitos y Galpones\",\"Todo/Souvenirs, Cotill\\u00f3n y Fiestas/Descartables para Fiestas\",\"Todo/Souvenirs, Cotill\\u00f3n y Fiestas/Disfraces\",\"Todo/Electrodom\\u00e9sticos y Aires Ac./Dispensadores y Purificadores\",\"Todo/Accesorios para Veh\\u00edculos/Dispositivos para TelePASE\",\"Todo/C\\u00e1maras y Accesorios/Drones y Accesorios\",\"Todo/Electr\\u00f3nica, Audio y Video/Drones y Accesorios\",\"Todo/Construcci\\u00f3n/Electricidad\",\"Todo/Belleza y Cuidado Personal/Electrodom\\u00e9sticos de Belleza\",\"Todo/Juegos y Juguetes/Electr\\u00f3nicos para Ni\\u00f1os\",\"Todo/Industrias y Oficinas/Embalaje y Log\\u00edstica\",\"Todo/Ropa y Accesorios/Enteritos\",\"Todo/Entradas para Eventos/Entradas de Colecci\\u00f3n\",\"Todo/Ropa y Accesorios/Equipaje, Bolsos y Carteras\",\"Todo/Industrias y Oficinas/Equipamiento M\\u00e9dico\",\"Todo/Salud y Equipamiento M\\u00e9dico/Equipamiento M\\u00e9dico\",\"Todo/Industrias y Oficinas/Equipamiento para Comercios\",\"Todo/Industrias y Oficinas/Equipamiento para Oficinas\",\"Todo/Instrumentos Musicales/Equipos de DJ y Accesorios\",\"Todo/Deportes y Fitness/Equitaci\\u00f3n y Polo\",\"Todo/Antig\\u00fcedades y Colecciones/Esculturas\",\"Todo/Deportes y Fitness/Esgrima\",\"Todo/Otras categor\\u00edas/Esoterismo\",\"Todo/Arte, Librer\\u00eda y Mercer\\u00eda/Espejos Venecitas\",\"Todo/Souvenirs, Cotill\\u00f3n y Fiestas/Espuma, Serpentina y Confeti\",\"Todo/Deportes y Fitness/Esqui y Snowboard\",\"Todo/Computaci\\u00f3n/Estabilizadores y UPS\",\"Todo/Instrumentos Musicales/Estudio de Grabaci\\u00f3n\",\"Todo/Entradas para Eventos/Eventos Deportivos\",\"Todo/Entradas para Eventos/Eventos a Beneficio\",\"Todo/Joyas y Relojes/Exhibidores y Joyeros\",\"Todo/Entradas para Eventos/Exposiciones\",\"Todo/Belleza y Cuidado Personal/Farmacia\",\"Todo/Servicios/Fiestas y Eventos\",\"Todo/Juegos y Juguetes/Figuritas, \\u00c1lbumes y Cromos\",\"Todo/Antig\\u00fcedades y Colecciones/Filatelia\",\"Todo/C\\u00e1maras y Accesorios/Filmadoras y C\\u00e1maras de Acci\\u00f3n\",\"Todo/Deportes y Fitness/Fitness y Musculaci\\u00f3n\",\"Todo/Consolas y Videojuegos/Flippers y Arcade\",\"Todo/Inmuebles/Fondo de Comercio\",\"Todo/Servicios/Fotograf\\u00eda, M\\u00fasica y Cine\",\"Todo/Alimentos y Bebidas/Frescos\",\"Todo/Electr\\u00f3nica, Audio y Video/Fundas y Bolsos\",\"Todo/Deportes y Fitness/F\\u00fatbol\",\"Todo/Deportes y Fitness/F\\u00fatbol Americano\",\"Todo/Accesorios para Veh\\u00edculos/GNC\",\"Todo/Industrias y Oficinas/Gastronom\\u00eda y Hoteler\\u00eda\",\"Todo/Animales y Mascotas/Gatos\",\"Todo/Agro/Generadores de Energ\\u00eda\",\"Todo/Otras categor\\u00edas/Gift Cards\",\"Todo/Deportes y Fitness/Golf\",\"Todo/Industrias y Oficinas/Gr\\u00e1fica e Impresi\\u00f3n\",\"Todo/Deportes y Fitness/Handball\",\"Todo/Celulares y Tel\\u00e9fonos/Handies y Radiofrecuencia\",\"Todo/Accesorios para Veh\\u00edculos/Herramientas\",\"Todo/Herramientas/Herramientas El\\u00e9ctricas\",\"Todo/Herramientas/Herramientas Industriales\",\"Todo/Industrias y Oficinas/Herramientas Industriales\",\"Todo/Herramientas/Herramientas Manuales\",\"Todo/Herramientas/Herramientas Neum\\u00e1ticas\",\"Todo/Herramientas/Herramientas para Jard\\u00edn\",\"Todo/Belleza y Cuidado Personal/Higiene Personal\",\"Todo/Beb\\u00e9s/Higiene y Cuidado del Beb\\u00e9\",\"Todo/Juegos y Juguetes/Hobbies\",\"Todo/Deportes y Fitness/Hockey\",\"Todo/Servicios/Hogar y Construcci\\u00f3n\",\"Todo/Otras categor\\u00edas/Hornos Crematorios\",\"Todo/Hogar, Muebles y Jard\\u00edn/Iluminaci\\u00f3n para el Hogar\",\"Todo/Servicios/Imprenta\",\"Todo/Computaci\\u00f3n/Impresi\\u00f3n\",\"Todo/Ropa y Accesorios/Indumentaria Laboral y Escolar\",\"Todo/Agro/Infraestructura Rural\",\"Todo/Animales y Mascotas/Insectos\",\"Todo/Juegos y Juguetes/Instrumentos Musicales\",\"Todo/Instrumentos Musicales/Instrumentos de Cuerdas\",\"Todo/Instrumentos Musicales/Instrumentos de Viento\",\"Todo/C\\u00e1maras y Accesorios/Instrumentos \\u00d3pticos\",\"Todo/Agro/Insumos Agr\\u00edcolas\",\"Todo/Agro/Insumos Ganaderos\",\"Todo/Arte, Librer\\u00eda y Mercer\\u00eda/Insumos para Hacer Velas\",\"Todo/Joyas y Relojes/Insumos para Joyer\\u00eda\",\"Todo/Otras categor\\u00edas/Insumos para Tatuajes\",\"Todo/Souvenirs, Cotill\\u00f3n y Fiestas/Invitaciones y Tarjetas\",\"Todo/Hogar, Muebles y Jard\\u00edn/Jardin y Aire Libre\",\"Todo/Joyas y Relojes/Joyas y Bijouterie\",\"Todo/Juegos y Juguetes/Juegos de Agua y Playa\",\"Todo/Juegos y Juguetes/Juegos de Mesa y Cartas\",\"Todo/Juegos y Juguetes/Juegos de Plaza y Aire Libre\",\"Todo/Deportes y Fitness/Juegos de Sal\\u00f3n\",\"Todo/Juegos y Juguetes/Juegos de Sal\\u00f3n\",\"Todo/Beb\\u00e9s/Juegos y Juguetes para Beb\\u00e9s\",\"Todo/Juegos y Juguetes/Juguetes Antiestr\\u00e9s e Ingenio\",\"Todo/Juegos y Juguetes/Juguetes de Bromas\",\"Todo/Juegos y Juguetes/Juguetes de Construcci\\u00f3n\",\"Todo/Juegos y Juguetes/Juguetes de Oficios\",\"Todo/Juegos y Juguetes/Juguetes para Beb\\u00e9s\",\"Todo/Ropa y Accesorios/Kimonos\",\"Todo/Deportes y Fitness/Kitesurf\",\"Todo/Souvenirs, Cotill\\u00f3n y Fiestas/Kits Imprimibles para Fiestas\",\"Todo/Otras categor\\u00edas/Kits de Criminal\\u00edstica\",\"Todo/Alimentos y Bebidas/K\\u00e9fir\",\"Todo/Beb\\u00e9s/Lactancia y Alimentaci\\u00f3n\",\"Todo/Computaci\\u00f3n/Laptops y Accesorios\",\"Todo/Electrodom\\u00e9sticos y Aires Ac./Lavado\",\"Todo/Computaci\\u00f3n/Lectores y Scanners\",\"Todo/Celulares y Tel\\u00e9fonos/Lentes de Realidad Virtual\",\"Todo/C\\u00e1maras y Accesorios/Lentes y Filtros\",\"Todo/Arte, Librer\\u00eda y Mercer\\u00eda/Librer\\u00eda\",\"Todo/Libros, Revistas y Comics/Libros\",\"Todo/Otras categor\\u00edas/Licencias para Taxis\",\"Todo/Accesorios para Veh\\u00edculos/Limpieza de Veh\\u00edculos\",\"Todo/Computaci\\u00f3n/Limpieza y Cuidado de PCs\",\"Todo/Accesorios para Veh\\u00edculos/Llantas\",\"Todo/Inmuebles/Locales\",\"Todo/Ropa y Accesorios/Lotes de Ropa\",\"Todo/Libros, Revistas y Comics/Manga\",\"Todo/Otras categor\\u00edas/Mangas de Viento\",\"Todo/Belleza y Cuidado Personal/Manicur\\u00eda y Pedicur\\u00eda\",\"Todo/Servicios/Mantenimiento de Veh\\u00edculos\",\"Todo/Belleza y Cuidado Personal/Maquillaje\",\"Todo/Autos, Motos y Otros/Maquinaria Agr\\u00edcola\",\"Todo/Autos, Motos y Otros/Maquinaria Vial\",\"Todo/Construcci\\u00f3n/Maquinarias para Construcci\\u00f3n\",\"Todo/Salud y Equipamiento M\\u00e9dico/Masajes\",\"Todo/Construcci\\u00f3n/Materiales de Obra\",\"Todo/Electr\\u00f3nica, Audio y Video/Media Streaming\",\"Todo/Servicios/Medicina y Salud\",\"Todo/Arte, Librer\\u00eda y Mercer\\u00eda/Mercer\\u00eda\",\"Todo/Juegos y Juguetes/Mesas y Sillas para Ni\\u00f1os\",\"Todo/Instrumentos Musicales/Metr\\u00f3nomos\",\"Todo/Instrumentos Musicales/Micr\\u00f3fonos y Amplificadores\",\"Todo/Antig\\u00fcedades y Colecciones/Militar\\u00eda y Afines\",\"Todo/Construcci\\u00f3n/Mobiliario para Cocinas\",\"Todo/Arte, Librer\\u00eda y Mercer\\u00eda/Moldes para Jabones\",\"Todo/Antig\\u00fcedades y Colecciones/Monedas y Billetes\",\"Todo/Computaci\\u00f3n/Monitores y Accesorios\",\"Todo/Deportes y Fitness/Monopatines y Scooters\",\"Todo/Deportes y Fitness/Monta\\u00f1ismo y Trekking\",\"Todo/Autos, Motos y Otros/Motorhomes\",\"Todo/Autos, Motos y Otros/Motos\",\"Todo/Salud y Equipamiento M\\u00e9dico/Movilidad\",\"Todo/Hogar, Muebles y Jard\\u00edn/Muebles para el Hogar\",\"Todo/Juegos y Juguetes/Mu\\u00f1ecos y Mu\\u00f1ecas\",\"Todo/Agro/M\\u00e1quinas y Herramientas\",\"Todo/M\\u00fasica, Pel\\u00edculas y Series/M\\u00fasica\",\"Todo/Deportes y Fitness/Nataci\\u00f3n\",\"Todo/Accesorios para Veh\\u00edculos/Navegadores GPS\",\"Todo/Accesorios para Veh\\u00edculos/Neum\\u00e1ticos\",\"Todo/Autos, Motos y Otros/N\\u00e1utica\",\"Todo/Inmuebles/Oficinas\",\"Todo/Hogar, Muebles y Jard\\u00edn/Organizaci\\u00f3n para el Hogar\",\"Todo/Salud y Equipamiento M\\u00e9dico/Ortopedia\",\"Todo/Entradas para Eventos/Otras Entradas\",\"Todo/Accesorios para Veh\\u00edculos/Otros\",\"Todo/Agro/Otros\",\"Todo/Alimentos y Bebidas/Otros\",\"Todo/Animales y Mascotas/Otros\",\"Todo/Antig\\u00fcedades y Colecciones/Otros\",\"Todo/Arte, Librer\\u00eda y Mercer\\u00eda/Otros\",\"Todo/Beb\\u00e9s/Otros\",\"Todo/Belleza y Cuidado Personal/Otros\",\"Todo/Celulares y Tel\\u00e9fonos/Otros\",\"Todo/Computaci\\u00f3n/Otros\",\"Todo/Consolas y Videojuegos/Otros\",\"Todo/Construcci\\u00f3n/Otros\",\"Todo/C\\u00e1maras y Accesorios/Otros\",\"Todo/Deportes y Fitness/Otros\",\"Todo/Electrodom\\u00e9sticos y Aires Ac./Otros\",\"Todo/Electr\\u00f3nica, Audio y Video/Otros\",\"Todo/Herramientas/Otros\",\"Todo/Hogar, Muebles y Jard\\u00edn/Otros\",\"Todo/Industrias y Oficinas/Otros\",\"Todo/Instrumentos Musicales/Otros\",\"Todo/Joyas y Relojes/Otros\",\"Todo/Juegos y Juguetes/Otros\",\"Todo/Libros, Revistas y Comics/Otros\",\"Todo/M\\u00fasica, Pel\\u00edculas y Series/Otros\",\"Todo/Otras categor\\u00edas/Otros\",\"Todo/Ropa y Accesorios/Otros\",\"Todo/Salud y Equipamiento M\\u00e9dico/Otros\",\"Todo/Souvenirs, Cotill\\u00f3n y Fiestas/Otros\",\"Todo/Inmuebles/Otros Inmuebles\",\"Todo/Servicios/Otros Servicios\",\"Todo/Autos, Motos y Otros/Otros Veh\\u00edculos\",\"Todo/Computaci\\u00f3n/PC de Escritorio\",\"Todo/Inmuebles/PH\",\"Todo/Deportes y Fitness/Paintball\",\"Todo/Computaci\\u00f3n/Palms y Handhelds\",\"Todo/Ropa y Accesorios/Pantalones, Jeans y Joggings\",\"Todo/Deportes y Fitness/Parapente\",\"Todo/Inmuebles/Parcelas, Nichos y B\\u00f3vedas\",\"Todo/Instrumentos Musicales/Parlantes y Bafles\",\"Todo/Instrumentos Musicales/Partituras y Letras\",\"Todo/Beb\\u00e9s/Paseo del Beb\\u00e9\",\"Todo/Juegos y Juguetes/Patines y Patinetas\",\"Todo/Deportes y Fitness/Pat\\u00edn y Skateboard\",\"Todo/Animales y Mascotas/Peces\",\"Todo/Instrumentos Musicales/Pedales y Accesorios\",\"Todo/Juegos y Juguetes/Peloteros y Castillos\",\"Todo/Juegos y Juguetes/Peluches\",\"Todo/M\\u00fasica, Pel\\u00edculas y Series/Pel\\u00edculas\",\"Todo/Electrodom\\u00e9sticos y Aires Ac./Peque\\u00f1os Electrodom\\u00e9sticos\",\"Todo/Accesorios para Veh\\u00edculos/Performance\",\"Todo/Belleza y Cuidado Personal/Perfumes y Fragancias\",\"Todo/Computaci\\u00f3n/Perif\\u00e9ricos de PC\",\"Todo/Animales y Mascotas/Perros\",\"Todo/Joyas y Relojes/Piedras Preciosas\",\"Todo/Joyas y Relojes/Piercings\",\"Todo/Arte, Librer\\u00eda y Mercer\\u00eda/Piezas para Llaveros\",\"Todo/Electr\\u00f3nica, Audio y Video/Pilas y Cargadores\",\"Todo/Deportes y Fitness/Pilates y Yoga\",\"Todo/Construcci\\u00f3n/Pinturer\\u00eda\",\"Todo/Otras categor\\u00edas/Pirotecnia\",\"Todo/Construcci\\u00f3n/Pisos y Revestimientos\",\"Todo/Autos, Motos y Otros/Planes de Ahorro\",\"Todo/Construcci\\u00f3n/Plomer\\u00eda\",\"Todo/Joyas y Relojes/Plumas y Lapiceras de Lujo\",\"Todo/Ropa y Accesorios/Polleras\",\"Todo/Antig\\u00fcedades y Colecciones/Posters\",\"Todo/Souvenirs, Cotill\\u00f3n y Fiestas/Props para Photo Booths\",\"Todo/Computaci\\u00f3n/Proyectores y Pantallas\",\"Todo/Electr\\u00f3nica, Audio y Video/Proyectores y Pantallas\",\"Todo/Industrias y Oficinas/Publicidad y Promoci\\u00f3n\",\"Todo/Deportes y Fitness/Puls\\u00f3metros y Cron\\u00f3metros\",\"Todo/Inmuebles/Quintas\",\"Todo/Entradas para Eventos/Recitales\",\"Todo/Electrodom\\u00e9sticos y Aires Ac./Refrigeraci\\u00f3n\",\"Todo/Joyas y Relojes/Relojes\",\"Todo/Ropa y Accesorios/Remeras, Musculosas y Chombas\",\"Todo/Animales y Mascotas/Reptiles y Anfibios\",\"Todo/Accesorios para Veh\\u00edculos/Repuestos Autos y Camionetas\",\"Todo/Agro/Repuestos Maquinaria Agr\\u00edcola\",\"Todo/Accesorios para Veh\\u00edculos/Repuestos Motos y Cuatriciclos\",\"Todo/Celulares y Tel\\u00e9fonos/Repuestos de Celulares\",\"Todo/Accesorios para Veh\\u00edculos/Repuestos de L\\u00ednea Pesada\",\"Todo/Consolas y Videojuegos/Repuestos para Consolas\",\"Todo/C\\u00e1maras y Accesorios/Repuestos para C\\u00e1maras\",\"Todo/Joyas y Relojes/Repuestos para Relojes\",\"Todo/Electr\\u00f3nica, Audio y Video/Repuestos para TV\",\"Todo/C\\u00e1maras y Accesorios/Revelado y Laboratorio\",\"Todo/Libros, Revistas y Comics/Revistas\",\"Todo/Animales y Mascotas/Roedores\",\"Todo/Deportes y Fitness/Ropa Deportiva\",\"Todo/Ropa y Accesorios/Ropa Deportiva\",\"Todo/Ropa y Accesorios/Ropa Interior y de Dormir\",\"Todo/Beb\\u00e9s/Ropa y Calzado para Beb\\u00e9s\",\"Todo/Ropa y Accesorios/Ropa y Calzado para Beb\\u00e9s\",\"Todo/Servicios/Ropa y Moda\",\"Todo/Deportes y Fitness/Rugby\",\"Todo/Beb\\u00e9s/Salud del Beb\\u00e9\",\"Todo/Industrias y Oficinas/Seguridad Laboral\",\"Todo/Accesorios para Veh\\u00edculos/Seguridad Vehicular\",\"Todo/Beb\\u00e9s/Seguridad para Beb\\u00e9s\",\"Todo/Hogar, Muebles y Jard\\u00edn/Seguridad para el Hogar\",\"Todo/Autos, Motos y Otros/Semirremolques\",\"Todo/M\\u00fasica, Pel\\u00edculas y Series/Series de TV\",\"Todo/Accesorios para Veh\\u00edculos/Servicio Programado\",\"Todo/Servicios/Servicios para Mascotas\",\"Todo/Servicios/Servicios para Oficinas\",\"Todo/Deportes y Fitness/Slackline\",\"Todo/Celulares y Tel\\u00e9fonos/Smartwatches y Accesorios\",\"Todo/Deportes y Fitness/Softball y Beisbol\",\"Todo/Computaci\\u00f3n/Software\",\"Todo/Souvenirs, Cotill\\u00f3n y Fiestas/Souvenirs\",\"Todo/Salud y Equipamiento M\\u00e9dico/Suplementos Alimenticios\",\"Todo/Deportes y Fitness/Suplementos y Shakers\",\"Todo/Deportes y Fitness/Surf y Bodyboard\",\"Todo/Computaci\\u00f3n/Tablets y Accesorios\",\"Todo/Celulares y Tel\\u00e9fonos/Tarifadores y Cabinas\",\"Todo/Entradas para Eventos/Teatro\",\"Todo/Instrumentos Musicales/Teclados y Pianos\",\"Todo/Servicios/Tecnolog\\u00eda\",\"Todo/Celulares y Tel\\u00e9fonos/Telefon\\u00eda Fija e Inal\\u00e1mbrica\",\"Todo/Celulares y Tel\\u00e9fonos/Telefon\\u00eda IP\",\"Todo/Electr\\u00f3nica, Audio y Video/Televisores\",\"Todo/Deportes y Fitness/Tenis, Padel y Squash \",\"Todo/Salud y Equipamiento M\\u00e9dico/Terapias Alternativas\",\"Todo/Inmuebles/Terrenos y Lotes\",\"Todo/Herramientas/Testers y Equipos de Medici\\u00f3n\",\"Todo/Industrias y Oficinas/Textil y Calzado\",\"Todo/Hogar, Muebles y Jard\\u00edn/Textiles de Hogar y Decoraci\\u00f3n\",\"Todo/Inmuebles/Tiempo Compartido\",\"Todo/Deportes y Fitness/Tiro Deportivo\",\"Todo/Ropa y Accesorios/Trajes\",\"Todo/Ropa y Accesorios/Trajes de Ba\\u00f1o\",\"Todo/Servicios/Transporte\",\"Todo/Belleza y Cuidado Personal/Tratamientos de Belleza\",\"Todo/Accesorios para Veh\\u00edculos/Tuning\",\"Todo/Juegos y Juguetes/T\\u00edteres y Marionetas\",\"Todo/Industrias y Oficinas/Uniformes y Ropa de Trabajo\",\"Todo/Juegos y Juguetes/Veh\\u00edculos Montables para Ni\\u00f1os\",\"Todo/Juegos y Juguetes/Veh\\u00edculos de Juguete\",\"Todo/Ropa y Accesorios/Vestidos\",\"Todo/Servicios/Viajes y Turismo\",\"Todo/Electr\\u00f3nica, Audio y Video/Video\",\"Todo/Consolas y Videojuegos/Videojuegos\",\"Todo/Deportes y Fitness/Voley\",\"Todo/Deportes y Fitness/Wakeboard y Esqui Acu\\u00e1tico\",\"Todo/Deportes y Fitness/Windsurf\",\"Todo/Deportes y Fitness/Zapatillas\",\"Todo/Otras categor\\u00edas/\\u00c1cido Clorh\\u00eddrico\",\"Todo/C\\u00e1maras y Accesorios/\\u00c1lbumes y Portarretratos\",\"Todo/Accesorios para Veh\\u00edculos\",\"Todo/Agro\",\"Todo/Alimentos y Bebidas\",\"Todo/Animales y Mascotas\",\"Todo/Antig\\u00fcedades y Colecciones\",\"Todo/Arte, Librer\\u00eda y Mercer\\u00eda\",\"Todo/Autos, Motos y Otros\",\"Todo/Beb\\u00e9s\",\"Todo/Belleza y Cuidado Personal\",\"Todo/Celulares y Tel\\u00e9fonos\",\"Todo/Computaci\\u00f3n\",\"Todo/Consolas y Videojuegos\",\"Todo/Construcci\\u00f3n\",\"Todo/C\\u00e1maras y Accesorios\",\"Todo/Deportes y Fitness\",\"Todo/Electrodom\\u00e9sticos y Aires Ac.\",\"Todo/Electr\\u00f3nica, Audio y Video\",\"Todo/Entradas para Eventos\",\"Todo/Herramientas\",\"Todo/Hogar, Muebles y Jard\\u00edn\",\"Todo/Industrias y Oficinas\",\"Todo/Inmuebles\",\"Todo/Instrumentos Musicales\",\"Todo/Joyas y Relojes\",\"Todo/Juegos y Juguetes\",\"Todo/Libros, Revistas y Comics\",\"Todo/M\\u00fasica, Pel\\u00edculas y Series\",\"Todo/Otras categor\\u00edas\",\"Todo/Ropa y Accesorios\",\"Todo/Salud y Equipamiento M\\u00e9dico\",\"Todo/Servicios\",\"Todo/Souvenirs, Cotill\\u00f3n y Fiestas\",\"Todo\"],\"labels\":[\"Aberturas\",\"Abrigos\",\"Acc. para Motos y Cuatriciclos\",\"Acc. y Repuestos N\\u00e1uticos\",\"Accesorios de Antiest\\u00e1tica\",\"Accesorios de Auto y Camioneta\",\"Accesorios de Construcci\\u00f3n\",\"Accesorios de Moda\",\"Accesorios para Audio y Video\",\"Accesorios para Camiones\",\"Accesorios para Celulares\",\"Accesorios para Consolas\",\"Accesorios para C\\u00e1maras\",\"Accesorios para Herramientas\",\"Accesorios para PC Gaming\",\"Accesorios para PC Gaming\",\"Accesorios para TV\",\"Adornos y Decoraci\\u00f3n del Hogar\",\"Adultos\",\"Almacenamiento\",\"Almac\\u00e9n\",\"Andadores y Veh\\u00edculos de Beb\\u00e9s\",\"Animales\",\"Antig\\u00fcedades\",\"Armas y Lanzadores de Juguete\",\"Arquitectura y Dise\\u00f1o\",\"Arte\",\"Arte y Manualidades\",\"Artefactos de Cuidado Personal\",\"Artes Marciales y Boxeo\",\"Art\\u00edculos de Beb\\u00e9s para Ba\\u00f1o\",\"Art\\u00edculos de Maternidad\",\"Art\\u00edculos de Peluquer\\u00eda\",\"Art\\u00edculos para Fumadores\",\"Asesoramiento Contable y Legal\",\"Audio\",\"Audio para Veh\\u00edculos\",\"Autos Chocados y Averiados\",\"Autos de Colecci\\u00f3n\",\"Autos y Camionetas\",\"Aves\",\"Barber\\u00eda\",\"Bater\\u00edas y Percusi\\u00f3n\",\"Bazar y Cocina\",\"Ba\\u00f1os\",\"Ba\\u00f1os y Sanitarios\",\"Bebidas\",\"Belleza y Cuidado Personal\",\"Bermudas y Shorts\",\"Blusas\",\"Buceo\",\"B\\u00e1dminton\",\"B\\u00e1squet\",\"Caballos\",\"Cables\",\"Cables\",\"Cables y Hubs USB\",\"Cajas y Organizadores\",\"Cajas, Sobres y Porta CDs\",\"Calzado\",\"Calzas\",\"Camas N\\u00e1uticas\",\"Camas, Colchones y Accesorios\",\"Camiones\",\"Camisas\",\"Camping, Caza y Pesca\",\"Campos\",\"Canoas, Kayaks e Inflables\",\"Casas\",\"Casas y Carpas para Ni\\u00f1os\",\"Cat\\u00e1logos\",\"Celulares y Smartphones\",\"Chupetes y Mordillos\",\"Ciclismo\",\"Climatizaci\\u00f3n\",\"Coberturas Extendidas\",\"Cocci\\u00f3n\",\"Cocheras\",\"Coleccionables de Deportes\",\"Colectivos\",\"Comics e Historietas\",\"Comida Preparada\",\"Comida para Beb\\u00e9s\",\"Comidas Calientes\",\"Componentes Electr\\u00f3nicos\",\"Componentes de PC\",\"Comunicaci\\u00f3n y dise\\u00f1o\",\"Conectividad y Redes\",\"Conejos\",\"Congelados\",\"Consolas\",\"Consultorios\",\"Controles Remotos\",\"Corralitos\",\"Cotill\\u00f3n\",\"Criptomonedas\",\"Cuarto del Beb\\u00e9\",\"Cuidado de la Piel\",\"Cuidado de la Salud\",\"Cuidado del Cabello\",\"Cuidado del Hogar y Lavander\\u00eda\",\"Cursos\",\"Cursos y Clases\",\"C\\u00e1maras\",\"Decoraci\\u00f3n para Fiestas\",\"Delivery\",\"Departamentos\",\"Depilaci\\u00f3n\",\"Dep\\u00f3sitos y Galpones\",\"Descartables para Fiestas\",\"Disfraces\",\"Dispensadores y Purificadores\",\"Dispositivos para TelePASE\",\"Drones y Accesorios\",\"Drones y Accesorios\",\"Electricidad\",\"Electrodom\\u00e9sticos de Belleza\",\"Electr\\u00f3nicos para Ni\\u00f1os\",\"Embalaje y Log\\u00edstica\",\"Enteritos\",\"Entradas de Colecci\\u00f3n\",\"Equipaje, Bolsos y Carteras\",\"Equipamiento M\\u00e9dico\",\"Equipamiento M\\u00e9dico\",\"Equipamiento para Comercios\",\"Equipamiento para Oficinas\",\"Equipos de DJ y Accesorios\",\"Equitaci\\u00f3n y Polo\",\"Esculturas\",\"Esgrima\",\"Esoterismo\",\"Espejos Venecitas\",\"Espuma, Serpentina y Confeti\",\"Esqui y Snowboard\",\"Estabilizadores y UPS\",\"Estudio de Grabaci\\u00f3n\",\"Eventos Deportivos\",\"Eventos a Beneficio\",\"Exhibidores y Joyeros\",\"Exposiciones\",\"Farmacia\",\"Fiestas y Eventos\",\"Figuritas, \\u00c1lbumes y Cromos\",\"Filatelia\",\"Filmadoras y C\\u00e1maras de Acci\\u00f3n\",\"Fitness y Musculaci\\u00f3n\",\"Flippers y Arcade\",\"Fondo de Comercio\",\"Fotograf\\u00eda, M\\u00fasica y Cine\",\"Frescos\",\"Fundas y Bolsos\",\"F\\u00fatbol\",\"F\\u00fatbol Americano\",\"GNC\",\"Gastronom\\u00eda y Hoteler\\u00eda\",\"Gatos\",\"Generadores de Energ\\u00eda\",\"Gift Cards\",\"Golf\",\"Gr\\u00e1fica e Impresi\\u00f3n\",\"Handball\",\"Handies y Radiofrecuencia\",\"Herramientas\",\"Herramientas El\\u00e9ctricas\",\"Herramientas Industriales\",\"Herramientas Industriales\",\"Herramientas Manuales\",\"Herramientas Neum\\u00e1ticas\",\"Herramientas para Jard\\u00edn\",\"Higiene Personal\",\"Higiene y Cuidado del Beb\\u00e9\",\"Hobbies\",\"Hockey\",\"Hogar y Construcci\\u00f3n\",\"Hornos Crematorios\",\"Iluminaci\\u00f3n para el Hogar\",\"Imprenta\",\"Impresi\\u00f3n\",\"Indumentaria Laboral y Escolar\",\"Infraestructura Rural\",\"Insectos\",\"Instrumentos Musicales\",\"Instrumentos de Cuerdas\",\"Instrumentos de Viento\",\"Instrumentos \\u00d3pticos\",\"Insumos Agr\\u00edcolas\",\"Insumos Ganaderos\",\"Insumos para Hacer Velas\",\"Insumos para Joyer\\u00eda\",\"Insumos para Tatuajes\",\"Invitaciones y Tarjetas\",\"Jardin y Aire Libre\",\"Joyas y Bijouterie\",\"Juegos de Agua y Playa\",\"Juegos de Mesa y Cartas\",\"Juegos de Plaza y Aire Libre\",\"Juegos de Sal\\u00f3n\",\"Juegos de Sal\\u00f3n\",\"Juegos y Juguetes para Beb\\u00e9s\",\"Juguetes Antiestr\\u00e9s e Ingenio\",\"Juguetes de Bromas\",\"Juguetes de Construcci\\u00f3n\",\"Juguetes de Oficios\",\"Juguetes para Beb\\u00e9s\",\"Kimonos\",\"Kitesurf\",\"Kits Imprimibles para Fiestas\",\"Kits de Criminal\\u00edstica\",\"K\\u00e9fir\",\"Lactancia y Alimentaci\\u00f3n\",\"Laptops y Accesorios\",\"Lavado\",\"Lectores y Scanners\",\"Lentes de Realidad Virtual\",\"Lentes y Filtros\",\"Librer\\u00eda\",\"Libros\",\"Licencias para Taxis\",\"Limpieza de Veh\\u00edculos\",\"Limpieza y Cuidado de PCs\",\"Llantas\",\"Locales\",\"Lotes de Ropa\",\"Manga\",\"Mangas de Viento\",\"Manicur\\u00eda y Pedicur\\u00eda\",\"Mantenimiento de Veh\\u00edculos\",\"Maquillaje\",\"Maquinaria Agr\\u00edcola\",\"Maquinaria Vial\",\"Maquinarias para Construcci\\u00f3n\",\"Masajes\",\"Materiales de Obra\",\"Media Streaming\",\"Medicina y Salud\",\"Mercer\\u00eda\",\"Mesas y Sillas para Ni\\u00f1os\",\"Metr\\u00f3nomos\",\"Micr\\u00f3fonos y Amplificadores\",\"Militar\\u00eda y Afines\",\"Mobiliario para Cocinas\",\"Moldes para Jabones\",\"Monedas y Billetes\",\"Monitores y Accesorios\",\"Monopatines y Scooters\",\"Monta\\u00f1ismo y Trekking\",\"Motorhomes\",\"Motos\",\"Movilidad\",\"Muebles para el Hogar\",\"Mu\\u00f1ecos y Mu\\u00f1ecas\",\"M\\u00e1quinas y Herramientas\",\"M\\u00fasica\",\"Nataci\\u00f3n\",\"Navegadores GPS\",\"Neum\\u00e1ticos\",\"N\\u00e1utica\",\"Oficinas\",\"Organizaci\\u00f3n para el Hogar\",\"Ortopedia\",\"Otras Entradas\",\"Otros\",\"Otros\",\"Otros\",\"Otros\",\"Otros\",\"Otros\",\"Otros\",\"Otros\",\"Otros\",\"Otros\",\"Otros\",\"Otros\",\"Otros\",\"Otros\",\"Otros\",\"Otros\",\"Otros\",\"Otros\",\"Otros\",\"Otros\",\"Otros\",\"Otros\",\"Otros\",\"Otros\",\"Otros\",\"Otros\",\"Otros\",\"Otros\",\"Otros Inmuebles\",\"Otros Servicios\",\"Otros Veh\\u00edculos\",\"PC de Escritorio\",\"PH\",\"Paintball\",\"Palms y Handhelds\",\"Pantalones, Jeans y Joggings\",\"Parapente\",\"Parcelas, Nichos y B\\u00f3vedas\",\"Parlantes y Bafles\",\"Partituras y Letras\",\"Paseo del Beb\\u00e9\",\"Patines y Patinetas\",\"Pat\\u00edn y Skateboard\",\"Peces\",\"Pedales y Accesorios\",\"Peloteros y Castillos\",\"Peluches\",\"Pel\\u00edculas\",\"Peque\\u00f1os Electrodom\\u00e9sticos\",\"Performance\",\"Perfumes y Fragancias\",\"Perif\\u00e9ricos de PC\",\"Perros\",\"Piedras Preciosas\",\"Piercings\",\"Piezas para Llaveros\",\"Pilas y Cargadores\",\"Pilates y Yoga\",\"Pinturer\\u00eda\",\"Pirotecnia\",\"Pisos y Revestimientos\",\"Planes de Ahorro\",\"Plomer\\u00eda\",\"Plumas y Lapiceras de Lujo\",\"Polleras\",\"Posters\",\"Props para Photo Booths\",\"Proyectores y Pantallas\",\"Proyectores y Pantallas\",\"Publicidad y Promoci\\u00f3n\",\"Puls\\u00f3metros y Cron\\u00f3metros\",\"Quintas\",\"Recitales\",\"Refrigeraci\\u00f3n\",\"Relojes\",\"Remeras, Musculosas y Chombas\",\"Reptiles y Anfibios\",\"Repuestos Autos y Camionetas\",\"Repuestos Maquinaria Agr\\u00edcola\",\"Repuestos Motos y Cuatriciclos\",\"Repuestos de Celulares\",\"Repuestos de L\\u00ednea Pesada\",\"Repuestos para Consolas\",\"Repuestos para C\\u00e1maras\",\"Repuestos para Relojes\",\"Repuestos para TV\",\"Revelado y Laboratorio\",\"Revistas\",\"Roedores\",\"Ropa Deportiva\",\"Ropa Deportiva\",\"Ropa Interior y de Dormir\",\"Ropa y Calzado para Beb\\u00e9s\",\"Ropa y Calzado para Beb\\u00e9s\",\"Ropa y Moda\",\"Rugby\",\"Salud del Beb\\u00e9\",\"Seguridad Laboral\",\"Seguridad Vehicular\",\"Seguridad para Beb\\u00e9s\",\"Seguridad para el Hogar\",\"Semirremolques\",\"Series de TV\",\"Servicio Programado\",\"Servicios para Mascotas\",\"Servicios para Oficinas\",\"Slackline\",\"Smartwatches y Accesorios\",\"Softball y Beisbol\",\"Software\",\"Souvenirs\",\"Suplementos Alimenticios\",\"Suplementos y Shakers\",\"Surf y Bodyboard\",\"Tablets y Accesorios\",\"Tarifadores y Cabinas\",\"Teatro\",\"Teclados y Pianos\",\"Tecnolog\\u00eda\",\"Telefon\\u00eda Fija e Inal\\u00e1mbrica\",\"Telefon\\u00eda IP\",\"Televisores\",\"Tenis, Padel y Squash \",\"Terapias Alternativas\",\"Terrenos y Lotes\",\"Testers y Equipos de Medici\\u00f3n\",\"Textil y Calzado\",\"Textiles de Hogar y Decoraci\\u00f3n\",\"Tiempo Compartido\",\"Tiro Deportivo\",\"Trajes\",\"Trajes de Ba\\u00f1o\",\"Transporte\",\"Tratamientos de Belleza\",\"Tuning\",\"T\\u00edteres y Marionetas\",\"Uniformes y Ropa de Trabajo\",\"Veh\\u00edculos Montables para Ni\\u00f1os\",\"Veh\\u00edculos de Juguete\",\"Vestidos\",\"Viajes y Turismo\",\"Video\",\"Videojuegos\",\"Voley\",\"Wakeboard y Esqui Acu\\u00e1tico\",\"Windsurf\",\"Zapatillas\",\"\\u00c1cido Clorh\\u00eddrico\",\"\\u00c1lbumes y Portarretratos\",\"Accesorios para Veh\\u00edculos\",\"Agro\",\"Alimentos y Bebidas\",\"Animales y Mascotas\",\"Antig\\u00fcedades y Colecciones\",\"Arte, Librer\\u00eda y Mercer\\u00eda\",\"Autos, Motos y Otros\",\"Beb\\u00e9s\",\"Belleza y Cuidado Personal\",\"Celulares y Tel\\u00e9fonos\",\"Computaci\\u00f3n\",\"Consolas y Videojuegos\",\"Construcci\\u00f3n\",\"C\\u00e1maras y Accesorios\",\"Deportes y Fitness\",\"Electrodom\\u00e9sticos y Aires Ac.\",\"Electr\\u00f3nica, Audio y Video\",\"Entradas para Eventos\",\"Herramientas\",\"Hogar, Muebles y Jard\\u00edn\",\"Industrias y Oficinas\",\"Inmuebles\",\"Instrumentos Musicales\",\"Joyas y Relojes\",\"Juegos y Juguetes\",\"Libros, Revistas y Comics\",\"M\\u00fasica, Pel\\u00edculas y Series\",\"Otras categor\\u00edas\",\"Ropa y Accesorios\",\"Salud y Equipamiento M\\u00e9dico\",\"Servicios\",\"Souvenirs, Cotill\\u00f3n y Fiestas\",\"Todo\"],\"name\":\"\",\"parents\":[\"Todo/Construcci\\u00f3n\",\"Todo/Ropa y Accesorios\",\"Todo/Accesorios para Veh\\u00edculos\",\"Todo/Accesorios para Veh\\u00edculos\",\"Todo/Computaci\\u00f3n\",\"Todo/Accesorios para Veh\\u00edculos\",\"Todo/Construcci\\u00f3n\",\"Todo/Ropa y Accesorios\",\"Todo/Electr\\u00f3nica, Audio y Video\",\"Todo/Accesorios para Veh\\u00edculos\",\"Todo/Celulares y Tel\\u00e9fonos\",\"Todo/Consolas y Videojuegos\",\"Todo/C\\u00e1maras y Accesorios\",\"Todo/Herramientas\",\"Todo/Computaci\\u00f3n\",\"Todo/Consolas y Videojuegos\",\"Todo/Electr\\u00f3nica, Audio y Video\",\"Todo/Hogar, Muebles y Jard\\u00edn\",\"Todo/Otras categor\\u00edas\",\"Todo/Computaci\\u00f3n\",\"Todo/Alimentos y Bebidas\",\"Todo/Beb\\u00e9s\",\"Todo/Agro\",\"Todo/Antig\\u00fcedades y Colecciones\",\"Todo/Juegos y Juguetes\",\"Todo/Industrias y Oficinas\",\"Todo/Arte, Librer\\u00eda y Mercer\\u00eda\",\"Todo/Juegos y Juguetes\",\"Todo/Electrodom\\u00e9sticos y Aires Ac.\",\"Todo/Deportes y Fitness\",\"Todo/Beb\\u00e9s\",\"Todo/Beb\\u00e9s\",\"Todo/Belleza y Cuidado Personal\",\"Todo/Otras categor\\u00edas\",\"Todo/Servicios\",\"Todo/Electr\\u00f3nica, Audio y Video\",\"Todo/Accesorios para Veh\\u00edculos\",\"Todo/Autos, Motos y Otros\",\"Todo/Autos, Motos y Otros\",\"Todo/Autos, Motos y Otros\",\"Todo/Animales y Mascotas\",\"Todo/Belleza y Cuidado Personal\",\"Todo/Instrumentos Musicales\",\"Todo/Hogar, Muebles y Jard\\u00edn\",\"Todo/Hogar, Muebles y Jard\\u00edn\",\"Todo/Construcci\\u00f3n\",\"Todo/Alimentos y Bebidas\",\"Todo/Servicios\",\"Todo/Ropa y Accesorios\",\"Todo/Ropa y Accesorios\",\"Todo/Deportes y Fitness\",\"Todo/Deportes y Fitness\",\"Todo/Deportes y Fitness\",\"Todo/Animales y Mascotas\",\"Todo/C\\u00e1maras y Accesorios\",\"Todo/Electr\\u00f3nica, Audio y Video\",\"Todo/Computaci\\u00f3n\",\"Todo/Herramientas\",\"Todo/Computaci\\u00f3n\",\"Todo/Ropa y Accesorios\",\"Todo/Ropa y Accesorios\",\"Todo/Inmuebles\",\"Todo/Hogar, Muebles y Jard\\u00edn\",\"Todo/Autos, Motos y Otros\",\"Todo/Ropa y Accesorios\",\"Todo/Deportes y Fitness\",\"Todo/Inmuebles\",\"Todo/Deportes y Fitness\",\"Todo/Inmuebles\",\"Todo/Juegos y Juguetes\",\"Todo/Libros, Revistas y Comics\",\"Todo/Celulares y Tel\\u00e9fonos\",\"Todo/Beb\\u00e9s\",\"Todo/Deportes y Fitness\",\"Todo/Electrodom\\u00e9sticos y Aires Ac.\",\"Todo/Otras categor\\u00edas\",\"Todo/Electrodom\\u00e9sticos y Aires Ac.\",\"Todo/Inmuebles\",\"Todo/Antig\\u00fcedades y Colecciones\",\"Todo/Autos, Motos y Otros\",\"Todo/Libros, Revistas y Comics\",\"Todo/Alimentos y Bebidas\",\"Todo/Beb\\u00e9s\",\"Todo/Alimentos y Bebidas\",\"Todo/Electr\\u00f3nica, Audio y Video\",\"Todo/Computaci\\u00f3n\",\"Todo/Servicios\",\"Todo/Computaci\\u00f3n\",\"Todo/Animales y Mascotas\",\"Todo/Alimentos y Bebidas\",\"Todo/Consolas y Videojuegos\",\"Todo/Inmuebles\",\"Todo/Electr\\u00f3nica, Audio y Video\",\"Todo/Beb\\u00e9s\",\"Todo/Souvenirs, Cotill\\u00f3n y Fiestas\",\"Todo/Otras categor\\u00edas\",\"Todo/Beb\\u00e9s\",\"Todo/Belleza y Cuidado Personal\",\"Todo/Salud y Equipamiento M\\u00e9dico\",\"Todo/Belleza y Cuidado Personal\",\"Todo/Hogar, Muebles y Jard\\u00edn\",\"Todo/M\\u00fasica, Pel\\u00edculas y Series\",\"Todo/Servicios\",\"Todo/C\\u00e1maras y Accesorios\",\"Todo/Souvenirs, Cotill\\u00f3n y Fiestas\",\"Todo/Servicios\",\"Todo/Inmuebles\",\"Todo/Belleza y Cuidado Personal\",\"Todo/Inmuebles\",\"Todo/Souvenirs, Cotill\\u00f3n y Fiestas\",\"Todo/Souvenirs, Cotill\\u00f3n y Fiestas\",\"Todo/Electrodom\\u00e9sticos y Aires Ac.\",\"Todo/Accesorios para Veh\\u00edculos\",\"Todo/C\\u00e1maras y Accesorios\",\"Todo/Electr\\u00f3nica, Audio y Video\",\"Todo/Construcci\\u00f3n\",\"Todo/Belleza y Cuidado Personal\",\"Todo/Juegos y Juguetes\",\"Todo/Industrias y Oficinas\",\"Todo/Ropa y Accesorios\",\"Todo/Entradas para Eventos\",\"Todo/Ropa y Accesorios\",\"Todo/Industrias y Oficinas\",\"Todo/Salud y Equipamiento M\\u00e9dico\",\"Todo/Industrias y Oficinas\",\"Todo/Industrias y Oficinas\",\"Todo/Instrumentos Musicales\",\"Todo/Deportes y Fitness\",\"Todo/Antig\\u00fcedades y Colecciones\",\"Todo/Deportes y Fitness\",\"Todo/Otras categor\\u00edas\",\"Todo/Arte, Librer\\u00eda y Mercer\\u00eda\",\"Todo/Souvenirs, Cotill\\u00f3n y Fiestas\",\"Todo/Deportes y Fitness\",\"Todo/Computaci\\u00f3n\",\"Todo/Instrumentos Musicales\",\"Todo/Entradas para Eventos\",\"Todo/Entradas para Eventos\",\"Todo/Joyas y Relojes\",\"Todo/Entradas para Eventos\",\"Todo/Belleza y Cuidado Personal\",\"Todo/Servicios\",\"Todo/Juegos y Juguetes\",\"Todo/Antig\\u00fcedades y Colecciones\",\"Todo/C\\u00e1maras y Accesorios\",\"Todo/Deportes y Fitness\",\"Todo/Consolas y Videojuegos\",\"Todo/Inmuebles\",\"Todo/Servicios\",\"Todo/Alimentos y Bebidas\",\"Todo/Electr\\u00f3nica, Audio y Video\",\"Todo/Deportes y Fitness\",\"Todo/Deportes y Fitness\",\"Todo/Accesorios para Veh\\u00edculos\",\"Todo/Industrias y Oficinas\",\"Todo/Animales y Mascotas\",\"Todo/Agro\",\"Todo/Otras categor\\u00edas\",\"Todo/Deportes y Fitness\",\"Todo/Industrias y Oficinas\",\"Todo/Deportes y Fitness\",\"Todo/Celulares y Tel\\u00e9fonos\",\"Todo/Accesorios para Veh\\u00edculos\",\"Todo/Herramientas\",\"Todo/Herramientas\",\"Todo/Industrias y Oficinas\",\"Todo/Herramientas\",\"Todo/Herramientas\",\"Todo/Herramientas\",\"Todo/Belleza y Cuidado Personal\",\"Todo/Beb\\u00e9s\",\"Todo/Juegos y Juguetes\",\"Todo/Deportes y Fitness\",\"Todo/Servicios\",\"Todo/Otras categor\\u00edas\",\"Todo/Hogar, Muebles y Jard\\u00edn\",\"Todo/Servicios\",\"Todo/Computaci\\u00f3n\",\"Todo/Ropa y Accesorios\",\"Todo/Agro\",\"Todo/Animales y Mascotas\",\"Todo/Juegos y Juguetes\",\"Todo/Instrumentos Musicales\",\"Todo/Instrumentos Musicales\",\"Todo/C\\u00e1maras y Accesorios\",\"Todo/Agro\",\"Todo/Agro\",\"Todo/Arte, Librer\\u00eda y Mercer\\u00eda\",\"Todo/Joyas y Relojes\",\"Todo/Otras categor\\u00edas\",\"Todo/Souvenirs, Cotill\\u00f3n y Fiestas\",\"Todo/Hogar, Muebles y Jard\\u00edn\",\"Todo/Joyas y Relojes\",\"Todo/Juegos y Juguetes\",\"Todo/Juegos y Juguetes\",\"Todo/Juegos y Juguetes\",\"Todo/Deportes y Fitness\",\"Todo/Juegos y Juguetes\",\"Todo/Beb\\u00e9s\",\"Todo/Juegos y Juguetes\",\"Todo/Juegos y Juguetes\",\"Todo/Juegos y Juguetes\",\"Todo/Juegos y Juguetes\",\"Todo/Juegos y Juguetes\",\"Todo/Ropa y Accesorios\",\"Todo/Deportes y Fitness\",\"Todo/Souvenirs, Cotill\\u00f3n y Fiestas\",\"Todo/Otras categor\\u00edas\",\"Todo/Alimentos y Bebidas\",\"Todo/Beb\\u00e9s\",\"Todo/Computaci\\u00f3n\",\"Todo/Electrodom\\u00e9sticos y Aires Ac.\",\"Todo/Computaci\\u00f3n\",\"Todo/Celulares y Tel\\u00e9fonos\",\"Todo/C\\u00e1maras y Accesorios\",\"Todo/Arte, Librer\\u00eda y Mercer\\u00eda\",\"Todo/Libros, Revistas y Comics\",\"Todo/Otras categor\\u00edas\",\"Todo/Accesorios para Veh\\u00edculos\",\"Todo/Computaci\\u00f3n\",\"Todo/Accesorios para Veh\\u00edculos\",\"Todo/Inmuebles\",\"Todo/Ropa y Accesorios\",\"Todo/Libros, Revistas y Comics\",\"Todo/Otras categor\\u00edas\",\"Todo/Belleza y Cuidado Personal\",\"Todo/Servicios\",\"Todo/Belleza y Cuidado Personal\",\"Todo/Autos, Motos y Otros\",\"Todo/Autos, Motos y Otros\",\"Todo/Construcci\\u00f3n\",\"Todo/Salud y Equipamiento M\\u00e9dico\",\"Todo/Construcci\\u00f3n\",\"Todo/Electr\\u00f3nica, Audio y Video\",\"Todo/Servicios\",\"Todo/Arte, Librer\\u00eda y Mercer\\u00eda\",\"Todo/Juegos y Juguetes\",\"Todo/Instrumentos Musicales\",\"Todo/Instrumentos Musicales\",\"Todo/Antig\\u00fcedades y Colecciones\",\"Todo/Construcci\\u00f3n\",\"Todo/Arte, Librer\\u00eda y Mercer\\u00eda\",\"Todo/Antig\\u00fcedades y Colecciones\",\"Todo/Computaci\\u00f3n\",\"Todo/Deportes y Fitness\",\"Todo/Deportes y Fitness\",\"Todo/Autos, Motos y Otros\",\"Todo/Autos, Motos y Otros\",\"Todo/Salud y Equipamiento M\\u00e9dico\",\"Todo/Hogar, Muebles y Jard\\u00edn\",\"Todo/Juegos y Juguetes\",\"Todo/Agro\",\"Todo/M\\u00fasica, Pel\\u00edculas y Series\",\"Todo/Deportes y Fitness\",\"Todo/Accesorios para Veh\\u00edculos\",\"Todo/Accesorios para Veh\\u00edculos\",\"Todo/Autos, Motos y Otros\",\"Todo/Inmuebles\",\"Todo/Hogar, Muebles y Jard\\u00edn\",\"Todo/Salud y Equipamiento M\\u00e9dico\",\"Todo/Entradas para Eventos\",\"Todo/Accesorios para Veh\\u00edculos\",\"Todo/Agro\",\"Todo/Alimentos y Bebidas\",\"Todo/Animales y Mascotas\",\"Todo/Antig\\u00fcedades y Colecciones\",\"Todo/Arte, Librer\\u00eda y Mercer\\u00eda\",\"Todo/Beb\\u00e9s\",\"Todo/Belleza y Cuidado Personal\",\"Todo/Celulares y Tel\\u00e9fonos\",\"Todo/Computaci\\u00f3n\",\"Todo/Consolas y Videojuegos\",\"Todo/Construcci\\u00f3n\",\"Todo/C\\u00e1maras y Accesorios\",\"Todo/Deportes y Fitness\",\"Todo/Electrodom\\u00e9sticos y Aires Ac.\",\"Todo/Electr\\u00f3nica, Audio y Video\",\"Todo/Herramientas\",\"Todo/Hogar, Muebles y Jard\\u00edn\",\"Todo/Industrias y Oficinas\",\"Todo/Instrumentos Musicales\",\"Todo/Joyas y Relojes\",\"Todo/Juegos y Juguetes\",\"Todo/Libros, Revistas y Comics\",\"Todo/M\\u00fasica, Pel\\u00edculas y Series\",\"Todo/Otras categor\\u00edas\",\"Todo/Ropa y Accesorios\",\"Todo/Salud y Equipamiento M\\u00e9dico\",\"Todo/Souvenirs, Cotill\\u00f3n y Fiestas\",\"Todo/Inmuebles\",\"Todo/Servicios\",\"Todo/Autos, Motos y Otros\",\"Todo/Computaci\\u00f3n\",\"Todo/Inmuebles\",\"Todo/Deportes y Fitness\",\"Todo/Computaci\\u00f3n\",\"Todo/Ropa y Accesorios\",\"Todo/Deportes y Fitness\",\"Todo/Inmuebles\",\"Todo/Instrumentos Musicales\",\"Todo/Instrumentos Musicales\",\"Todo/Beb\\u00e9s\",\"Todo/Juegos y Juguetes\",\"Todo/Deportes y Fitness\",\"Todo/Animales y Mascotas\",\"Todo/Instrumentos Musicales\",\"Todo/Juegos y Juguetes\",\"Todo/Juegos y Juguetes\",\"Todo/M\\u00fasica, Pel\\u00edculas y Series\",\"Todo/Electrodom\\u00e9sticos y Aires Ac.\",\"Todo/Accesorios para Veh\\u00edculos\",\"Todo/Belleza y Cuidado Personal\",\"Todo/Computaci\\u00f3n\",\"Todo/Animales y Mascotas\",\"Todo/Joyas y Relojes\",\"Todo/Joyas y Relojes\",\"Todo/Arte, Librer\\u00eda y Mercer\\u00eda\",\"Todo/Electr\\u00f3nica, Audio y Video\",\"Todo/Deportes y Fitness\",\"Todo/Construcci\\u00f3n\",\"Todo/Otras categor\\u00edas\",\"Todo/Construcci\\u00f3n\",\"Todo/Autos, Motos y Otros\",\"Todo/Construcci\\u00f3n\",\"Todo/Joyas y Relojes\",\"Todo/Ropa y Accesorios\",\"Todo/Antig\\u00fcedades y Colecciones\",\"Todo/Souvenirs, Cotill\\u00f3n y Fiestas\",\"Todo/Computaci\\u00f3n\",\"Todo/Electr\\u00f3nica, Audio y Video\",\"Todo/Industrias y Oficinas\",\"Todo/Deportes y Fitness\",\"Todo/Inmuebles\",\"Todo/Entradas para Eventos\",\"Todo/Electrodom\\u00e9sticos y Aires Ac.\",\"Todo/Joyas y Relojes\",\"Todo/Ropa y Accesorios\",\"Todo/Animales y Mascotas\",\"Todo/Accesorios para Veh\\u00edculos\",\"Todo/Agro\",\"Todo/Accesorios para Veh\\u00edculos\",\"Todo/Celulares y Tel\\u00e9fonos\",\"Todo/Accesorios para Veh\\u00edculos\",\"Todo/Consolas y Videojuegos\",\"Todo/C\\u00e1maras y Accesorios\",\"Todo/Joyas y Relojes\",\"Todo/Electr\\u00f3nica, Audio y Video\",\"Todo/C\\u00e1maras y Accesorios\",\"Todo/Libros, Revistas y Comics\",\"Todo/Animales y Mascotas\",\"Todo/Deportes y Fitness\",\"Todo/Ropa y Accesorios\",\"Todo/Ropa y Accesorios\",\"Todo/Beb\\u00e9s\",\"Todo/Ropa y Accesorios\",\"Todo/Servicios\",\"Todo/Deportes y Fitness\",\"Todo/Beb\\u00e9s\",\"Todo/Industrias y Oficinas\",\"Todo/Accesorios para Veh\\u00edculos\",\"Todo/Beb\\u00e9s\",\"Todo/Hogar, Muebles y Jard\\u00edn\",\"Todo/Autos, Motos y Otros\",\"Todo/M\\u00fasica, Pel\\u00edculas y Series\",\"Todo/Accesorios para Veh\\u00edculos\",\"Todo/Servicios\",\"Todo/Servicios\",\"Todo/Deportes y Fitness\",\"Todo/Celulares y Tel\\u00e9fonos\",\"Todo/Deportes y Fitness\",\"Todo/Computaci\\u00f3n\",\"Todo/Souvenirs, Cotill\\u00f3n y Fiestas\",\"Todo/Salud y Equipamiento M\\u00e9dico\",\"Todo/Deportes y Fitness\",\"Todo/Deportes y Fitness\",\"Todo/Computaci\\u00f3n\",\"Todo/Celulares y Tel\\u00e9fonos\",\"Todo/Entradas para Eventos\",\"Todo/Instrumentos Musicales\",\"Todo/Servicios\",\"Todo/Celulares y Tel\\u00e9fonos\",\"Todo/Celulares y Tel\\u00e9fonos\",\"Todo/Electr\\u00f3nica, Audio y Video\",\"Todo/Deportes y Fitness\",\"Todo/Salud y Equipamiento M\\u00e9dico\",\"Todo/Inmuebles\",\"Todo/Herramientas\",\"Todo/Industrias y Oficinas\",\"Todo/Hogar, Muebles y Jard\\u00edn\",\"Todo/Inmuebles\",\"Todo/Deportes y Fitness\",\"Todo/Ropa y Accesorios\",\"Todo/Ropa y Accesorios\",\"Todo/Servicios\",\"Todo/Belleza y Cuidado Personal\",\"Todo/Accesorios para Veh\\u00edculos\",\"Todo/Juegos y Juguetes\",\"Todo/Industrias y Oficinas\",\"Todo/Juegos y Juguetes\",\"Todo/Juegos y Juguetes\",\"Todo/Ropa y Accesorios\",\"Todo/Servicios\",\"Todo/Electr\\u00f3nica, Audio y Video\",\"Todo/Consolas y Videojuegos\",\"Todo/Deportes y Fitness\",\"Todo/Deportes y Fitness\",\"Todo/Deportes y Fitness\",\"Todo/Deportes y Fitness\",\"Todo/Otras categor\\u00edas\",\"Todo/C\\u00e1maras y Accesorios\",\"Todo\",\"Todo\",\"Todo\",\"Todo\",\"Todo\",\"Todo\",\"Todo\",\"Todo\",\"Todo\",\"Todo\",\"Todo\",\"Todo\",\"Todo\",\"Todo\",\"Todo\",\"Todo\",\"Todo\",\"Todo\",\"Todo\",\"Todo\",\"Todo\",\"Todo\",\"Todo\",\"Todo\",\"Todo\",\"Todo\",\"Todo\",\"Todo\",\"Todo\",\"Todo\",\"Todo\",\"Todo\",\"\"],\"type\":\"treemap\",\"values\":[86850,265528,132555,25460,157,248280,10074,186244,17251,16330,306566,30662,35526,105920,20573,662,15408,538769,51622,33703,146525,7981,67,141605,12152,6314,48687,28198,8815,14663,6717,8399,25630,27801,736,204589,42361,1114,2597,138879,5394,6217,70030,633981,74161,82023,106436,1168,32444,20712,4613,137,7831,3215,912,28627,13419,11108,1522,423141,15367,293,57991,3386,47771,164147,6010,5390,179604,5511,6010,77845,5735,132052,103107,383,55357,10216,5077,563,97436,15608,5663,47,178697,65945,510,56204,1143,1367,23595,494,14238,701,26516,1961,28919,115930,60183,114992,59562,2513,1517,31939,69633,273,295061,10285,12035,8770,30100,9181,0,74,6083,178155,37055,8315,68929,7012,2194,200036,205,64888,39936,21192,1119,5944,11579,77,35280,161,779,15347,8404,5834,37,8,3770,42,927,1403,40113,81666,5417,75402,3637,2960,302,8915,1126,104839,1680,3028,47358,24504,420,1093,8101,16019,950,9869,45420,98828,24543,8161,143473,3903,24839,42869,12335,60601,9487,5663,6,196432,240,130176,31282,2716,191,8366,118924,22268,10144,2055,460,1254,4037,5591,5489,277017,240305,21361,170538,12970,1478,9270,45978,14416,1085,26463,24974,20328,1437,1413,60155,60,197,24546,168443,48617,8250,1477,13214,314290,7605141,48,41905,4036,27853,24315,8759,35037,97,60379,971,68931,2925,2387,4208,7821,95768,1575,838,77776,3690,419,29207,27327,14820,1367,139948,13931,2444,12450,996,39672,7615,375015,256246,1842,1181277,11292,4684,101746,6653,17713,22634,15760,188,89972,2291,5578,2634,99363,51255,5938,4419,2439,6494,2365,17221,2123,10035,1531,4948,10926,24062,9159,1685,2983,52573,557106,21791,160061,12898,2264,5279,6420,3036,8698,17550,29046,1569,1699,94593,194,389,2110,14990,34730,1331,23751,22419,27982,3795,42005,157775,106392,14362,94204,75817,179097,2183,2915,195,27315,1098,72678,1217,70159,1759,69066,824,25718,42798,410,579,8841,89508,2101,5141,623,37912,105091,400495,664,8501552,3376,617424,62683,47660,1294,360,8638,60855,1170,210075,3178,10628,55758,122377,89898,9105,222,4997,1374,46242,40662,6445,81175,883,18130,14300,791,200,69,17735,1776,12153,110752,32708,57193,2228,52123,147,64,25591,1560,14814,2287,18107,18282,25052,91636,47589,28842,125995,289,13946,6328,26133,1794,16290,95187,3166,2775,13548,130535,67391,237,8620,92018,2245,751,859,13156,18,4182,10110741,13227,284673,242439,549363,494985,210512,285359,598128,495862,691178,154233,701022,105061,744615,370912,596280,3156,471129,2466794,384640,681622,320159,370746,971550,8510805,1381486,285238,2060529,216291,21461,317883,35112079]}],                        {\"legend\":{\"tracegroupgap\":0},\"margin\":{\"t\":60},\"template\":{\"data\":{\"bar\":[{\"error_x\":{\"color\":\"#2a3f5f\"},\"error_y\":{\"color\":\"#2a3f5f\"},\"marker\":{\"line\":{\"color\":\"#E5ECF6\",\"width\":0.5},\"pattern\":{\"fillmode\":\"overlay\",\"size\":10,\"solidity\":0.2}},\"type\":\"bar\"}],\"barpolar\":[{\"marker\":{\"line\":{\"color\":\"#E5ECF6\",\"width\":0.5},\"pattern\":{\"fillmode\":\"overlay\",\"size\":10,\"solidity\":0.2}},\"type\":\"barpolar\"}],\"carpet\":[{\"aaxis\":{\"endlinecolor\":\"#2a3f5f\",\"gridcolor\":\"white\",\"linecolor\":\"white\",\"minorgridcolor\":\"white\",\"startlinecolor\":\"#2a3f5f\"},\"baxis\":{\"endlinecolor\":\"#2a3f5f\",\"gridcolor\":\"white\",\"linecolor\":\"white\",\"minorgridcolor\":\"white\",\"startlinecolor\":\"#2a3f5f\"},\"type\":\"carpet\"}],\"choropleth\":[{\"colorbar\":{\"outlinewidth\":0,\"ticks\":\"\"},\"type\":\"choropleth\"}],\"contour\":[{\"colorbar\":{\"outlinewidth\":0,\"ticks\":\"\"},\"colorscale\":[[0.0,\"#0d0887\"],[0.1111111111111111,\"#46039f\"],[0.2222222222222222,\"#7201a8\"],[0.3333333333333333,\"#9c179e\"],[0.4444444444444444,\"#bd3786\"],[0.5555555555555556,\"#d8576b\"],[0.6666666666666666,\"#ed7953\"],[0.7777777777777778,\"#fb9f3a\"],[0.8888888888888888,\"#fdca26\"],[1.0,\"#f0f921\"]],\"type\":\"contour\"}],\"contourcarpet\":[{\"colorbar\":{\"outlinewidth\":0,\"ticks\":\"\"},\"type\":\"contourcarpet\"}],\"heatmap\":[{\"colorbar\":{\"outlinewidth\":0,\"ticks\":\"\"},\"colorscale\":[[0.0,\"#0d0887\"],[0.1111111111111111,\"#46039f\"],[0.2222222222222222,\"#7201a8\"],[0.3333333333333333,\"#9c179e\"],[0.4444444444444444,\"#bd3786\"],[0.5555555555555556,\"#d8576b\"],[0.6666666666666666,\"#ed7953\"],[0.7777777777777778,\"#fb9f3a\"],[0.8888888888888888,\"#fdca26\"],[1.0,\"#f0f921\"]],\"type\":\"heatmap\"}],\"heatmapgl\":[{\"colorbar\":{\"outlinewidth\":0,\"ticks\":\"\"},\"colorscale\":[[0.0,\"#0d0887\"],[0.1111111111111111,\"#46039f\"],[0.2222222222222222,\"#7201a8\"],[0.3333333333333333,\"#9c179e\"],[0.4444444444444444,\"#bd3786\"],[0.5555555555555556,\"#d8576b\"],[0.6666666666666666,\"#ed7953\"],[0.7777777777777778,\"#fb9f3a\"],[0.8888888888888888,\"#fdca26\"],[1.0,\"#f0f921\"]],\"type\":\"heatmapgl\"}],\"histogram\":[{\"marker\":{\"pattern\":{\"fillmode\":\"overlay\",\"size\":10,\"solidity\":0.2}},\"type\":\"histogram\"}],\"histogram2d\":[{\"colorbar\":{\"outlinewidth\":0,\"ticks\":\"\"},\"colorscale\":[[0.0,\"#0d0887\"],[0.1111111111111111,\"#46039f\"],[0.2222222222222222,\"#7201a8\"],[0.3333333333333333,\"#9c179e\"],[0.4444444444444444,\"#bd3786\"],[0.5555555555555556,\"#d8576b\"],[0.6666666666666666,\"#ed7953\"],[0.7777777777777778,\"#fb9f3a\"],[0.8888888888888888,\"#fdca26\"],[1.0,\"#f0f921\"]],\"type\":\"histogram2d\"}],\"histogram2dcontour\":[{\"colorbar\":{\"outlinewidth\":0,\"ticks\":\"\"},\"colorscale\":[[0.0,\"#0d0887\"],[0.1111111111111111,\"#46039f\"],[0.2222222222222222,\"#7201a8\"],[0.3333333333333333,\"#9c179e\"],[0.4444444444444444,\"#bd3786\"],[0.5555555555555556,\"#d8576b\"],[0.6666666666666666,\"#ed7953\"],[0.7777777777777778,\"#fb9f3a\"],[0.8888888888888888,\"#fdca26\"],[1.0,\"#f0f921\"]],\"type\":\"histogram2dcontour\"}],\"mesh3d\":[{\"colorbar\":{\"outlinewidth\":0,\"ticks\":\"\"},\"type\":\"mesh3d\"}],\"parcoords\":[{\"line\":{\"colorbar\":{\"outlinewidth\":0,\"ticks\":\"\"}},\"type\":\"parcoords\"}],\"pie\":[{\"automargin\":true,\"type\":\"pie\"}],\"scatter\":[{\"marker\":{\"colorbar\":{\"outlinewidth\":0,\"ticks\":\"\"}},\"type\":\"scatter\"}],\"scatter3d\":[{\"line\":{\"colorbar\":{\"outlinewidth\":0,\"ticks\":\"\"}},\"marker\":{\"colorbar\":{\"outlinewidth\":0,\"ticks\":\"\"}},\"type\":\"scatter3d\"}],\"scattercarpet\":[{\"marker\":{\"colorbar\":{\"outlinewidth\":0,\"ticks\":\"\"}},\"type\":\"scattercarpet\"}],\"scattergeo\":[{\"marker\":{\"colorbar\":{\"outlinewidth\":0,\"ticks\":\"\"}},\"type\":\"scattergeo\"}],\"scattergl\":[{\"marker\":{\"colorbar\":{\"outlinewidth\":0,\"ticks\":\"\"}},\"type\":\"scattergl\"}],\"scattermapbox\":[{\"marker\":{\"colorbar\":{\"outlinewidth\":0,\"ticks\":\"\"}},\"type\":\"scattermapbox\"}],\"scatterpolar\":[{\"marker\":{\"colorbar\":{\"outlinewidth\":0,\"ticks\":\"\"}},\"type\":\"scatterpolar\"}],\"scatterpolargl\":[{\"marker\":{\"colorbar\":{\"outlinewidth\":0,\"ticks\":\"\"}},\"type\":\"scatterpolargl\"}],\"scatterternary\":[{\"marker\":{\"colorbar\":{\"outlinewidth\":0,\"ticks\":\"\"}},\"type\":\"scatterternary\"}],\"surface\":[{\"colorbar\":{\"outlinewidth\":0,\"ticks\":\"\"},\"colorscale\":[[0.0,\"#0d0887\"],[0.1111111111111111,\"#46039f\"],[0.2222222222222222,\"#7201a8\"],[0.3333333333333333,\"#9c179e\"],[0.4444444444444444,\"#bd3786\"],[0.5555555555555556,\"#d8576b\"],[0.6666666666666666,\"#ed7953\"],[0.7777777777777778,\"#fb9f3a\"],[0.8888888888888888,\"#fdca26\"],[1.0,\"#f0f921\"]],\"type\":\"surface\"}],\"table\":[{\"cells\":{\"fill\":{\"color\":\"#EBF0F8\"},\"line\":{\"color\":\"white\"}},\"header\":{\"fill\":{\"color\":\"#C8D4E3\"},\"line\":{\"color\":\"white\"}},\"type\":\"table\"}]},\"layout\":{\"annotationdefaults\":{\"arrowcolor\":\"#2a3f5f\",\"arrowhead\":0,\"arrowwidth\":1},\"autotypenumbers\":\"strict\",\"coloraxis\":{\"colorbar\":{\"outlinewidth\":0,\"ticks\":\"\"}},\"colorscale\":{\"diverging\":[[0,\"#8e0152\"],[0.1,\"#c51b7d\"],[0.2,\"#de77ae\"],[0.3,\"#f1b6da\"],[0.4,\"#fde0ef\"],[0.5,\"#f7f7f7\"],[0.6,\"#e6f5d0\"],[0.7,\"#b8e186\"],[0.8,\"#7fbc41\"],[0.9,\"#4d9221\"],[1,\"#276419\"]],\"sequential\":[[0.0,\"#0d0887\"],[0.1111111111111111,\"#46039f\"],[0.2222222222222222,\"#7201a8\"],[0.3333333333333333,\"#9c179e\"],[0.4444444444444444,\"#bd3786\"],[0.5555555555555556,\"#d8576b\"],[0.6666666666666666,\"#ed7953\"],[0.7777777777777778,\"#fb9f3a\"],[0.8888888888888888,\"#fdca26\"],[1.0,\"#f0f921\"]],\"sequentialminus\":[[0.0,\"#0d0887\"],[0.1111111111111111,\"#46039f\"],[0.2222222222222222,\"#7201a8\"],[0.3333333333333333,\"#9c179e\"],[0.4444444444444444,\"#bd3786\"],[0.5555555555555556,\"#d8576b\"],[0.6666666666666666,\"#ed7953\"],[0.7777777777777778,\"#fb9f3a\"],[0.8888888888888888,\"#fdca26\"],[1.0,\"#f0f921\"]]},\"colorway\":[\"#636efa\",\"#EF553B\",\"#00cc96\",\"#ab63fa\",\"#FFA15A\",\"#19d3f3\",\"#FF6692\",\"#B6E880\",\"#FF97FF\",\"#FECB52\"],\"font\":{\"color\":\"#2a3f5f\"},\"geo\":{\"bgcolor\":\"white\",\"lakecolor\":\"white\",\"landcolor\":\"#E5ECF6\",\"showlakes\":true,\"showland\":true,\"subunitcolor\":\"white\"},\"hoverlabel\":{\"align\":\"left\"},\"hovermode\":\"closest\",\"mapbox\":{\"style\":\"light\"},\"paper_bgcolor\":\"white\",\"plot_bgcolor\":\"#E5ECF6\",\"polar\":{\"angularaxis\":{\"gridcolor\":\"white\",\"linecolor\":\"white\",\"ticks\":\"\"},\"bgcolor\":\"#E5ECF6\",\"radialaxis\":{\"gridcolor\":\"white\",\"linecolor\":\"white\",\"ticks\":\"\"}},\"scene\":{\"xaxis\":{\"backgroundcolor\":\"#E5ECF6\",\"gridcolor\":\"white\",\"gridwidth\":2,\"linecolor\":\"white\",\"showbackground\":true,\"ticks\":\"\",\"zerolinecolor\":\"white\"},\"yaxis\":{\"backgroundcolor\":\"#E5ECF6\",\"gridcolor\":\"white\",\"gridwidth\":2,\"linecolor\":\"white\",\"showbackground\":true,\"ticks\":\"\",\"zerolinecolor\":\"white\"},\"zaxis\":{\"backgroundcolor\":\"#E5ECF6\",\"gridcolor\":\"white\",\"gridwidth\":2,\"linecolor\":\"white\",\"showbackground\":true,\"ticks\":\"\",\"zerolinecolor\":\"white\"}},\"shapedefaults\":{\"line\":{\"color\":\"#2a3f5f\"}},\"ternary\":{\"aaxis\":{\"gridcolor\":\"white\",\"linecolor\":\"white\",\"ticks\":\"\"},\"baxis\":{\"gridcolor\":\"white\",\"linecolor\":\"white\",\"ticks\":\"\"},\"bgcolor\":\"#E5ECF6\",\"caxis\":{\"gridcolor\":\"white\",\"linecolor\":\"white\",\"ticks\":\"\"}},\"title\":{\"x\":0.05},\"xaxis\":{\"automargin\":true,\"gridcolor\":\"white\",\"linecolor\":\"white\",\"ticks\":\"\",\"title\":{\"standoff\":15},\"zerolinecolor\":\"white\",\"zerolinewidth\":2},\"yaxis\":{\"automargin\":true,\"gridcolor\":\"white\",\"linecolor\":\"white\",\"ticks\":\"\",\"title\":{\"standoff\":15},\"zerolinecolor\":\"white\",\"zerolinewidth\":2}}}},                        {\"responsive\": true}                    ).then(function(){\n",
              "                            \n",
              "var gd = document.getElementById('1f8d3d51-502a-43dc-867a-b1990b7e6096');\n",
              "var x = new MutationObserver(function (mutations, observer) {{\n",
              "        var display = window.getComputedStyle(gd).display;\n",
              "        if (!display || display === 'none') {{\n",
              "            console.log([gd, 'removed!']);\n",
              "            Plotly.purge(gd);\n",
              "            observer.disconnect();\n",
              "        }}\n",
              "}});\n",
              "\n",
              "// Listen for the removal of the full notebook cells\n",
              "var notebookContainer = gd.closest('#notebook-container');\n",
              "if (notebookContainer) {{\n",
              "    x.observe(notebookContainer, {childList: true});\n",
              "}}\n",
              "\n",
              "// Listen for the clearing of the current output cell\n",
              "var outputEl = gd.closest('.output');\n",
              "if (outputEl) {{\n",
              "    x.observe(outputEl, {childList: true});\n",
              "}}\n",
              "\n",
              "                        })                };                            </script>        </div>\n",
              "</body>\n",
              "</html>"
            ]
          },
          "metadata": {
            "tags": []
          }
        }
      ]
    },
    {
      "cell_type": "markdown",
      "metadata": {
        "id": "7g89_smCr6m1"
      },
      "source": [
        "# **5. Analisis de búsqueda \"tv 4k\"**\n",
        "Buscamos la palabra \"tv 4k\" y nos traemos 1000 registros. Nos bajamos la tabla a excel para visualizar el dataset y en python calculamos algunas métricas."
      ],
      "id": "7g89_smCr6m1"
    },
    {
      "cell_type": "code",
      "metadata": {
        "id": "p6orupSR3RGw"
      },
      "source": [
        "#Selecciono 1000 Televisores de la lista, calculo el descuento y cual sería el descuento promedio\n",
        "bm = busqueda(\"tv 4k\",n=1000)\n",
        "\n",
        "#Exportamos la tabla completa de 1000 registros a excel\n",
        "bm.to_excel(\"bm.xlsx\")"
      ],
      "id": "p6orupSR3RGw",
      "execution_count": 10,
      "outputs": []
    },
    {
      "cell_type": "code",
      "metadata": {
        "colab": {
          "base_uri": "https://localhost:8080/"
        },
        "id": "OdzlHTTVxS-S",
        "outputId": "bf91db19-7029-42ff-ae1e-2c7cbc928503"
      },
      "source": [
        "#Calculamos cual es el descuento para cada uno de los productos\n",
        "descuento = (bm.original_price - bm.price)/bm.original_price\n",
        "\n",
        "#Principales métricas de la variable \"Descuento\"\n",
        "\n",
        "print(\"Cantidad = \",descuento.mean(skipna=True)) # En promedio hay un 16% de descuento)\n",
        "print (\"Cantidad con descuento = \", descuento.count()) #hay 103 televisores con descuento#\n",
        "print (\"Porcentaje de pub con descuento = \", (descuento.count()/len(bm))) #Porcentaje de casos con descuento 10,37%\n",
        "print (\"Mínimo descuento = \", descuento.min(skipna=True))\n",
        "print (\"Máximo descuento = \", descuento.max(skipna=True))"
      ],
      "id": "OdzlHTTVxS-S",
      "execution_count": 11,
      "outputs": [
        {
          "output_type": "stream",
          "text": [
            "Cantidad =  0.16420522450010916\n",
            "Cantidad con descuento =  102\n",
            "Porcentaje de pub con descuento =  0.1027190332326284\n",
            "Mínimo descuento =  0.010638524223919657\n",
            "Máximo descuento =  0.35011890099845855\n"
          ],
          "name": "stdout"
        }
      ]
    },
    {
      "cell_type": "markdown",
      "metadata": {
        "id": "0rxPX7x2tbkn"
      },
      "source": [
        "# 5.1 Exploración de variables numéricas de la búsqueda \"tv 4k\" \n",
        "A continuación se construyen las principales medidas estadísticas de las variables numéricas"
      ],
      "id": "0rxPX7x2tbkn"
    },
    {
      "cell_type": "code",
      "metadata": {
        "colab": {
          "base_uri": "https://localhost:8080/"
        },
        "id": "jCW7U-QJa0Ad",
        "outputId": "39879b02-4a4a-4a53-da6b-4cb14ea8e4f1"
      },
      "source": [
        "#cuento cantidad de registros de variables numéricas#\n",
        "#Podremos observar si existen valores nulos en cada una de las variables, ya que \"count()\" en Python omite valores nulos.\n",
        "bm[[\"original_price\",\"price\",\"available_quantity\",\"sold_quantity\",\"seller.seller_reputation.transactions.total\",\"seller.seller_reputation.transactions.canceled\",\n",
        "    \"seller.seller_reputation.transactions.ratings.negative\",\"seller.seller_reputation.transactions.ratings.positive\",\n",
        "    \"seller.seller_reputation.transactions.ratings.neutral\",\"seller.seller_reputation.transactions.completed\",\"seller.seller_reputation.metrics.claims.rate\",\n",
        "    \"seller.seller_reputation.metrics.claims.value\",\"seller.seller_reputation.metrics.delayed_handling_time.rate\",\n",
        "    \"seller.seller_reputation.metrics.delayed_handling_time.value\",\"seller.seller_reputation.metrics.sales.completed\",\n",
        "    \"seller.seller_reputation.metrics.cancellations.rate\",\"installments.quantity\",\"installments.amount\",\"installments.rate\"]].count()"
      ],
      "id": "jCW7U-QJa0Ad",
      "execution_count": 12,
      "outputs": [
        {
          "output_type": "execute_result",
          "data": {
            "text/plain": [
              "original_price                                                  102\n",
              "price                                                           993\n",
              "available_quantity                                              993\n",
              "sold_quantity                                                   993\n",
              "seller.seller_reputation.transactions.total                     993\n",
              "seller.seller_reputation.transactions.canceled                  993\n",
              "seller.seller_reputation.transactions.ratings.negative          993\n",
              "seller.seller_reputation.transactions.ratings.positive          993\n",
              "seller.seller_reputation.transactions.ratings.neutral           993\n",
              "seller.seller_reputation.transactions.completed                 993\n",
              "seller.seller_reputation.metrics.claims.rate                    993\n",
              "seller.seller_reputation.metrics.claims.value                   993\n",
              "seller.seller_reputation.metrics.delayed_handling_time.rate     993\n",
              "seller.seller_reputation.metrics.delayed_handling_time.value    993\n",
              "seller.seller_reputation.metrics.sales.completed                993\n",
              "seller.seller_reputation.metrics.cancellations.rate             993\n",
              "installments.quantity                                           990\n",
              "installments.amount                                             990\n",
              "installments.rate                                               990\n",
              "dtype: int64"
            ]
          },
          "metadata": {
            "tags": []
          },
          "execution_count": 12
        }
      ]
    },
    {
      "cell_type": "markdown",
      "metadata": {
        "id": "Ti7PySyluIgA"
      },
      "source": [
        "Conclusión = Se observan 4 variables con valores nulos:\n",
        "\n",
        "\n",
        "*   original_price\n",
        "*   installments.quantity\n",
        "*   installments.amount\n",
        "*   installments.rate\n",
        "\n",
        "\n",
        "\n"
      ],
      "id": "Ti7PySyluIgA"
    },
    {
      "cell_type": "code",
      "metadata": {
        "colab": {
          "base_uri": "https://localhost:8080/",
          "height": 193
        },
        "id": "ueFHC1LJyuZd",
        "outputId": "a183848b-0b02-42b1-fade-a97a5c191f02"
      },
      "source": [
        "#Cálculo de medidas estadísticas básicas\n",
        "bm.agg({'price': ['mean','median','min', 'max'], 'available_quantity': ['mean','median','min', 'max'],'sold_quantity':['mean','median','min', 'max'], \n",
        "        'seller.seller_reputation.transactions.total':['mean','median','min', 'max'],\n",
        "        'seller.seller_reputation.transactions.canceled': ['mean','median','min', 'max'],\n",
        "        'seller.seller_reputation.transactions.ratings.negative': ['mean','median','min', 'max'],\n",
        "        'seller.seller_reputation.transactions.ratings.positive': ['mean','median','min', 'max'],\n",
        "        'seller.seller_reputation.transactions.ratings.neutral':['mean','median','min', 'max'],\n",
        "        'seller.seller_reputation.transactions.completed': ['mean','median','min', 'max'],\n",
        "        'seller.seller_reputation.metrics.claims.rate': ['mean','median','min', 'max'],\n",
        "        'seller.seller_reputation.metrics.claims.value': ['mean','median','min', 'max'],\n",
        "        'seller.seller_reputation.metrics.delayed_handling_time.rate': ['mean','median','min', 'max'],\n",
        "        'seller.seller_reputation.metrics.delayed_handling_time.value':['mean','median','min', 'max'],\n",
        "        'seller.seller_reputation.metrics.sales.completed': ['mean','median','min', 'max'],\n",
        "        'seller.seller_reputation.metrics.cancellations.rate':['mean','median','min', 'max'],\n",
        "        'installments.quantity': ['mean','median','min', 'max'],\n",
        "        'installments.amount':['mean','median','min', 'max'],\n",
        "        'installments.rate':['mean','median','min', 'max']})"
      ],
      "id": "ueFHC1LJyuZd",
      "execution_count": 13,
      "outputs": [
        {
          "output_type": "execute_result",
          "data": {
            "text/html": [
              "<div>\n",
              "<style scoped>\n",
              "    .dataframe tbody tr th:only-of-type {\n",
              "        vertical-align: middle;\n",
              "    }\n",
              "\n",
              "    .dataframe tbody tr th {\n",
              "        vertical-align: top;\n",
              "    }\n",
              "\n",
              "    .dataframe thead th {\n",
              "        text-align: right;\n",
              "    }\n",
              "</style>\n",
              "<table border=\"1\" class=\"dataframe\">\n",
              "  <thead>\n",
              "    <tr style=\"text-align: right;\">\n",
              "      <th></th>\n",
              "      <th>price</th>\n",
              "      <th>available_quantity</th>\n",
              "      <th>sold_quantity</th>\n",
              "      <th>seller.seller_reputation.transactions.total</th>\n",
              "      <th>seller.seller_reputation.transactions.canceled</th>\n",
              "      <th>seller.seller_reputation.transactions.ratings.negative</th>\n",
              "      <th>seller.seller_reputation.transactions.ratings.positive</th>\n",
              "      <th>seller.seller_reputation.transactions.ratings.neutral</th>\n",
              "      <th>seller.seller_reputation.transactions.completed</th>\n",
              "      <th>seller.seller_reputation.metrics.claims.rate</th>\n",
              "      <th>seller.seller_reputation.metrics.claims.value</th>\n",
              "      <th>seller.seller_reputation.metrics.delayed_handling_time.rate</th>\n",
              "      <th>seller.seller_reputation.metrics.delayed_handling_time.value</th>\n",
              "      <th>seller.seller_reputation.metrics.sales.completed</th>\n",
              "      <th>seller.seller_reputation.metrics.cancellations.rate</th>\n",
              "      <th>installments.quantity</th>\n",
              "      <th>installments.amount</th>\n",
              "      <th>installments.rate</th>\n",
              "    </tr>\n",
              "  </thead>\n",
              "  <tbody>\n",
              "    <tr>\n",
              "      <th>mean</th>\n",
              "      <td>6.938576e+04</td>\n",
              "      <td>225.467271</td>\n",
              "      <td>41.566969</td>\n",
              "      <td>40499.23565</td>\n",
              "      <td>2173.941591</td>\n",
              "      <td>0.02138</td>\n",
              "      <td>0.960443</td>\n",
              "      <td>0.018177</td>\n",
              "      <td>38325.294058</td>\n",
              "      <td>0.009929</td>\n",
              "      <td>102.485398</td>\n",
              "      <td>0.022123</td>\n",
              "      <td>112.705942</td>\n",
              "      <td>7804.040282</td>\n",
              "      <td>0.003099</td>\n",
              "      <td>11.460606</td>\n",
              "      <td>8796.177303</td>\n",
              "      <td>53.159091</td>\n",
              "    </tr>\n",
              "    <tr>\n",
              "      <th>median</th>\n",
              "      <td>6.399900e+04</td>\n",
              "      <td>1.000000</td>\n",
              "      <td>2.000000</td>\n",
              "      <td>15415.00000</td>\n",
              "      <td>906.000000</td>\n",
              "      <td>0.02000</td>\n",
              "      <td>0.970000</td>\n",
              "      <td>0.010000</td>\n",
              "      <td>13948.000000</td>\n",
              "      <td>0.011200</td>\n",
              "      <td>28.000000</td>\n",
              "      <td>0.007800</td>\n",
              "      <td>15.000000</td>\n",
              "      <td>2848.000000</td>\n",
              "      <td>0.001000</td>\n",
              "      <td>12.000000</td>\n",
              "      <td>7749.920000</td>\n",
              "      <td>70.170000</td>\n",
              "    </tr>\n",
              "    <tr>\n",
              "      <th>min</th>\n",
              "      <td>1.000000e+02</td>\n",
              "      <td>1.000000</td>\n",
              "      <td>0.000000</td>\n",
              "      <td>3.00000</td>\n",
              "      <td>0.000000</td>\n",
              "      <td>0.00000</td>\n",
              "      <td>0.850000</td>\n",
              "      <td>0.000000</td>\n",
              "      <td>2.000000</td>\n",
              "      <td>0.000000</td>\n",
              "      <td>0.000000</td>\n",
              "      <td>0.000000</td>\n",
              "      <td>0.000000</td>\n",
              "      <td>2.000000</td>\n",
              "      <td>0.000000</td>\n",
              "      <td>6.000000</td>\n",
              "      <td>14.180000</td>\n",
              "      <td>0.000000</td>\n",
              "    </tr>\n",
              "    <tr>\n",
              "      <th>max</th>\n",
              "      <td>1.040000e+06</td>\n",
              "      <td>50000.000000</td>\n",
              "      <td>6460.000000</td>\n",
              "      <td>547217.00000</td>\n",
              "      <td>25444.000000</td>\n",
              "      <td>0.09000</td>\n",
              "      <td>1.000000</td>\n",
              "      <td>0.130000</td>\n",
              "      <td>521773.000000</td>\n",
              "      <td>0.039700</td>\n",
              "      <td>1385.000000</td>\n",
              "      <td>0.177500</td>\n",
              "      <td>2102.000000</td>\n",
              "      <td>130794.000000</td>\n",
              "      <td>0.049100</td>\n",
              "      <td>12.000000</td>\n",
              "      <td>99124.030000</td>\n",
              "      <td>70.170000</td>\n",
              "    </tr>\n",
              "  </tbody>\n",
              "</table>\n",
              "</div>"
            ],
            "text/plain": [
              "               price  ...  installments.rate\n",
              "mean    6.938576e+04  ...          53.159091\n",
              "median  6.399900e+04  ...          70.170000\n",
              "min     1.000000e+02  ...           0.000000\n",
              "max     1.040000e+06  ...          70.170000\n",
              "\n",
              "[4 rows x 18 columns]"
            ]
          },
          "metadata": {
            "tags": []
          },
          "execution_count": 13
        }
      ]
    },
    {
      "cell_type": "markdown",
      "metadata": {
        "id": "ic6xSvcXxu2O"
      },
      "source": [
        "Conclusión= La comparación entre el promedio y mediana para cada una de las variables numéricas nos permite detectar la presencia de valores outliers o cierta concentración en un determinado valor.\n",
        "Las variables que difieren significativamente son las siguientes:\n",
        "\n",
        "*   Variable \"available_quantity\": tiene el valor de 1 como mediana y 225 como media debido a que hay muchos vendedores que tienen 1 unidad disponible del producto\n",
        "*   Variable \"sold quantity\": Hay vendedores que vendieron pocas unidades, por esa razón la mediana es de 2 y la media es más alta.\n",
        "\n",
        "\n",
        "\n",
        "\n"
      ],
      "id": "ic6xSvcXxu2O"
    },
    {
      "cell_type": "markdown",
      "metadata": {
        "id": "GZq6CYAm1SmB"
      },
      "source": [
        "Llama la atención en el anterior análisis que el precio mínimo de un televisos sea de $100, por esa razón se sospecha que haya quizás productos usados que presenten valores inferiores. Por ese motivo se decidió analizar la variable \"condition\" con el precio."
      ],
      "id": "GZq6CYAm1SmB"
    },
    {
      "cell_type": "code",
      "metadata": {
        "colab": {
          "base_uri": "https://localhost:8080/",
          "height": 173
        },
        "id": "0Auo2E3BoNNC",
        "outputId": "9db8bd35-a51c-4f11-aa57-753595917041"
      },
      "source": [
        "bm.groupby('condition').agg({'price': ['mean','min', 'max']})"
      ],
      "id": "0Auo2E3BoNNC",
      "execution_count": 14,
      "outputs": [
        {
          "output_type": "execute_result",
          "data": {
            "text/html": [
              "<div>\n",
              "<style scoped>\n",
              "    .dataframe tbody tr th:only-of-type {\n",
              "        vertical-align: middle;\n",
              "    }\n",
              "\n",
              "    .dataframe tbody tr th {\n",
              "        vertical-align: top;\n",
              "    }\n",
              "\n",
              "    .dataframe thead tr th {\n",
              "        text-align: left;\n",
              "    }\n",
              "\n",
              "    .dataframe thead tr:last-of-type th {\n",
              "        text-align: right;\n",
              "    }\n",
              "</style>\n",
              "<table border=\"1\" class=\"dataframe\">\n",
              "  <thead>\n",
              "    <tr>\n",
              "      <th></th>\n",
              "      <th colspan=\"3\" halign=\"left\">price</th>\n",
              "    </tr>\n",
              "    <tr>\n",
              "      <th></th>\n",
              "      <th>mean</th>\n",
              "      <th>min</th>\n",
              "      <th>max</th>\n",
              "    </tr>\n",
              "    <tr>\n",
              "      <th>condition</th>\n",
              "      <th></th>\n",
              "      <th></th>\n",
              "      <th></th>\n",
              "    </tr>\n",
              "  </thead>\n",
              "  <tbody>\n",
              "    <tr>\n",
              "      <th>new</th>\n",
              "      <td>71690.419464</td>\n",
              "      <td>199.91</td>\n",
              "      <td>1040000.0</td>\n",
              "    </tr>\n",
              "    <tr>\n",
              "      <th>used</th>\n",
              "      <td>34173.647049</td>\n",
              "      <td>100.00</td>\n",
              "      <td>317000.0</td>\n",
              "    </tr>\n",
              "  </tbody>\n",
              "</table>\n",
              "</div>"
            ],
            "text/plain": [
              "                  price                   \n",
              "                   mean     min        max\n",
              "condition                                 \n",
              "new        71690.419464  199.91  1040000.0\n",
              "used       34173.647049  100.00   317000.0"
            ]
          },
          "metadata": {
            "tags": []
          },
          "execution_count": 14
        }
      ]
    },
    {
      "cell_type": "markdown",
      "metadata": {
        "id": "dXf7-EBR4B1n"
      },
      "source": [
        "Conclusión: Se observa que si bien el promedio de precio de los artículos usados es inferior a los nuevos, el precio mínimo de los articulos nuevos es de $199,91.\n",
        "Buscamos ese producto en particular y observamos que se trata de un cable para conectar al tv, por ese motivo tiene un precio inferior.\n",
        "Esto nos dá la pauta que necesitamos hacer una mejor selección o limpieza del dataset a la hora de construir un modelo."
      ],
      "id": "dXf7-EBR4B1n"
    },
    {
      "cell_type": "markdown",
      "metadata": {
        "id": "3LRP5U2u6xn5"
      },
      "source": [
        "# 5.2 Rank de variables numéricas\n",
        "\n",
        "Otro de los tratamientos que se realizan muy a menudo al hacer análisis exploratorio y contruir modelos predictivos, es el armado de \"ranks\" de las variables numéricas.\n",
        " \n",
        "Para ello se ordenan los valores de menor a mayor y se contruyen grupos con la misma cantidad de casos.\n",
        "De esta forma se puede observar como se comporta cada grupo del rank con respecto a la variable objetivo.\n",
        "\n",
        "Para éste ejercio se armaron \"quintiles\", es decir 5 grupos del mismo tamaño."
      ],
      "id": "3LRP5U2u6xn5"
    },
    {
      "cell_type": "code",
      "metadata": {
        "id": "aDaaE869eICm"
      },
      "source": [
        "#Se crea la variable \"descuento\" y \"Porcentaje de descuento\" y se agregan al dataset\n",
        "bm['descuento']=bm.original_price-bm.price\n",
        "bm['porc_descuento']=(bm.original_price-bm.price)/bm.original_price"
      ],
      "id": "aDaaE869eICm",
      "execution_count": 15,
      "outputs": []
    },
    {
      "cell_type": "code",
      "metadata": {
        "id": "hMo9Zu8Ve52f"
      },
      "source": [
        "#Se crea la variable \"rank_xxx\" de las variables creadas anteriormente\n",
        "bm['rank_descuento'] = pd.qcut(bm['descuento'], 5, labels = False)\n",
        "bm['rank_porc_descuento'] = pd.qcut(bm['porc_descuento'],5,labels=False)"
      ],
      "id": "hMo9Zu8Ve52f",
      "execution_count": 16,
      "outputs": []
    },
    {
      "cell_type": "code",
      "metadata": {
        "id": "pje60qQF7YAH"
      },
      "source": [
        "#Se crean rank de algunas variables numéricas que componen dataset#\n",
        "bm['rank_price']= pd.qcut(bm['price'], 5, labels = False)\n",
        "bm['rank_seller.seller_reputation.t.total']= pd.qcut(bm['seller.seller_reputation.transactions.total'], 5, labels = False)\n",
        "bm['rank_seller.seller_reputation.t.canceled']= pd.qcut(bm['seller.seller_reputation.transactions.canceled'], 5, labels = False)\n",
        "bm['rank_seller.seller_reputation.t.ratings.positive']= pd.qcut(bm['seller.seller_reputation.transactions.ratings.positive'], 5, labels = False)\n",
        "bm['rank_seller.seller_reputation.t.completed']= pd.qcut(bm['seller.seller_reputation.transactions.completed'], 5, labels = False)\n",
        "bm['rank_seller.seller_reputation.metrics.claims.value']= pd.qcut(bm['seller.seller_reputation.metrics.claims.value'], 5, labels = False)\n",
        "bm['rank_seller.seller_reputation.metrics.sales.completed']= pd.qcut(bm['seller.seller_reputation.metrics.sales.completed'], 5, labels = False)\n",
        "bm['rank_installments.amount']= pd.qcut(bm['installments.amount'], 5, labels = False)"
      ],
      "id": "pje60qQF7YAH",
      "execution_count": 17,
      "outputs": []
    },
    {
      "cell_type": "markdown",
      "metadata": {
        "id": "4uOMaxTulFww"
      },
      "source": [
        "**Porcentaje de descuento**: Por cada rank se obtiene la cantidad, valor mínimo, valor máximo, y sumatoria de ventas"
      ],
      "id": "4uOMaxTulFww"
    },
    {
      "cell_type": "code",
      "metadata": {
        "colab": {
          "base_uri": "https://localhost:8080/",
          "height": 204
        },
        "id": "nryjYNdaWI0P",
        "outputId": "8914260a-0212-4e07-da32-61f940b2ed08"
      },
      "source": [
        "bm.groupby('rank_porc_descuento').agg({'porc_descuento': ['count','min', 'max'] , 'sold_quantity': 'sum'})"
      ],
      "id": "nryjYNdaWI0P",
      "execution_count": 18,
      "outputs": [
        {
          "output_type": "execute_result",
          "data": {
            "text/html": [
              "<div>\n",
              "<style scoped>\n",
              "    .dataframe tbody tr th:only-of-type {\n",
              "        vertical-align: middle;\n",
              "    }\n",
              "\n",
              "    .dataframe tbody tr th {\n",
              "        vertical-align: top;\n",
              "    }\n",
              "\n",
              "    .dataframe thead tr th {\n",
              "        text-align: left;\n",
              "    }\n",
              "\n",
              "    .dataframe thead tr:last-of-type th {\n",
              "        text-align: right;\n",
              "    }\n",
              "</style>\n",
              "<table border=\"1\" class=\"dataframe\">\n",
              "  <thead>\n",
              "    <tr>\n",
              "      <th></th>\n",
              "      <th colspan=\"3\" halign=\"left\">porc_descuento</th>\n",
              "      <th>sold_quantity</th>\n",
              "    </tr>\n",
              "    <tr>\n",
              "      <th></th>\n",
              "      <th>count</th>\n",
              "      <th>min</th>\n",
              "      <th>max</th>\n",
              "      <th>sum</th>\n",
              "    </tr>\n",
              "    <tr>\n",
              "      <th>rank_porc_descuento</th>\n",
              "      <th></th>\n",
              "      <th></th>\n",
              "      <th></th>\n",
              "      <th></th>\n",
              "    </tr>\n",
              "  </thead>\n",
              "  <tbody>\n",
              "    <tr>\n",
              "      <th>0.0</th>\n",
              "      <td>97</td>\n",
              "      <td>0.010639</td>\n",
              "      <td>0.350119</td>\n",
              "      <td>4851</td>\n",
              "    </tr>\n",
              "    <tr>\n",
              "      <th>2.0</th>\n",
              "      <td>2</td>\n",
              "      <td>0.130436</td>\n",
              "      <td>0.149684</td>\n",
              "      <td>101</td>\n",
              "    </tr>\n",
              "    <tr>\n",
              "      <th>4.0</th>\n",
              "      <td>3</td>\n",
              "      <td>0.291143</td>\n",
              "      <td>0.348870</td>\n",
              "      <td>555</td>\n",
              "    </tr>\n",
              "  </tbody>\n",
              "</table>\n",
              "</div>"
            ],
            "text/plain": [
              "                    porc_descuento                     sold_quantity\n",
              "                             count       min       max           sum\n",
              "rank_porc_descuento                                                 \n",
              "0.0                             97  0.010639  0.350119          4851\n",
              "2.0                              2  0.130436  0.149684           101\n",
              "4.0                              3  0.291143  0.348870           555"
            ]
          },
          "metadata": {
            "tags": []
          },
          "execution_count": 18
        }
      ]
    },
    {
      "cell_type": "markdown",
      "metadata": {
        "id": "MdIrqPTMlNHa"
      },
      "source": [
        "**Price**: Por cada rank se obtiene la cantidad, valor mínimo, valor máximo, y sumatoria de ventas"
      ],
      "id": "MdIrqPTMlNHa"
    },
    {
      "cell_type": "code",
      "metadata": {
        "colab": {
          "base_uri": "https://localhost:8080/",
          "height": 266
        },
        "id": "UQLkQzfe-P06",
        "outputId": "01ff079d-ebac-4db4-e7bb-a284d45d0a76"
      },
      "source": [
        "bm.groupby('rank_price').agg({'price' : ['count','min','max','mean'],'sold_quantity':'sum'})"
      ],
      "id": "UQLkQzfe-P06",
      "execution_count": 19,
      "outputs": [
        {
          "output_type": "execute_result",
          "data": {
            "text/html": [
              "<div>\n",
              "<style scoped>\n",
              "    .dataframe tbody tr th:only-of-type {\n",
              "        vertical-align: middle;\n",
              "    }\n",
              "\n",
              "    .dataframe tbody tr th {\n",
              "        vertical-align: top;\n",
              "    }\n",
              "\n",
              "    .dataframe thead tr th {\n",
              "        text-align: left;\n",
              "    }\n",
              "\n",
              "    .dataframe thead tr:last-of-type th {\n",
              "        text-align: right;\n",
              "    }\n",
              "</style>\n",
              "<table border=\"1\" class=\"dataframe\">\n",
              "  <thead>\n",
              "    <tr>\n",
              "      <th></th>\n",
              "      <th colspan=\"4\" halign=\"left\">price</th>\n",
              "      <th>sold_quantity</th>\n",
              "    </tr>\n",
              "    <tr>\n",
              "      <th></th>\n",
              "      <th>count</th>\n",
              "      <th>min</th>\n",
              "      <th>max</th>\n",
              "      <th>mean</th>\n",
              "      <th>sum</th>\n",
              "    </tr>\n",
              "    <tr>\n",
              "      <th>rank_price</th>\n",
              "      <th></th>\n",
              "      <th></th>\n",
              "      <th></th>\n",
              "      <th></th>\n",
              "      <th></th>\n",
              "    </tr>\n",
              "  </thead>\n",
              "  <tbody>\n",
              "    <tr>\n",
              "      <th>0</th>\n",
              "      <td>199</td>\n",
              "      <td>100.0</td>\n",
              "      <td>2995.0</td>\n",
              "      <td>1045.133015</td>\n",
              "      <td>8786</td>\n",
              "    </tr>\n",
              "    <tr>\n",
              "      <th>1</th>\n",
              "      <td>198</td>\n",
              "      <td>2999.0</td>\n",
              "      <td>56432.0</td>\n",
              "      <td>18669.382778</td>\n",
              "      <td>16721</td>\n",
              "    </tr>\n",
              "    <tr>\n",
              "      <th>2</th>\n",
              "      <td>205</td>\n",
              "      <td>56599.0</td>\n",
              "      <td>69999.0</td>\n",
              "      <td>63656.151220</td>\n",
              "      <td>6804</td>\n",
              "    </tr>\n",
              "    <tr>\n",
              "      <th>3</th>\n",
              "      <td>192</td>\n",
              "      <td>69999.9</td>\n",
              "      <td>90481.0</td>\n",
              "      <td>79382.242448</td>\n",
              "      <td>8047</td>\n",
              "    </tr>\n",
              "    <tr>\n",
              "      <th>4</th>\n",
              "      <td>199</td>\n",
              "      <td>90800.0</td>\n",
              "      <td>1040000.0</td>\n",
              "      <td>184445.440201</td>\n",
              "      <td>918</td>\n",
              "    </tr>\n",
              "  </tbody>\n",
              "</table>\n",
              "</div>"
            ],
            "text/plain": [
              "           price                                    sold_quantity\n",
              "           count      min        max           mean           sum\n",
              "rank_price                                                       \n",
              "0            199    100.0     2995.0    1045.133015          8786\n",
              "1            198   2999.0    56432.0   18669.382778         16721\n",
              "2            205  56599.0    69999.0   63656.151220          6804\n",
              "3            192  69999.9    90481.0   79382.242448          8047\n",
              "4            199  90800.0  1040000.0  184445.440201           918"
            ]
          },
          "metadata": {
            "tags": []
          },
          "execution_count": 19
        }
      ]
    },
    {
      "cell_type": "markdown",
      "metadata": {
        "id": "qxYTptmRZz_5"
      },
      "source": [
        "Conclusión: Se observa que cuando el precio es mayor a $2.999 (rank 1) las ventas decrecen cuando el precio del producto es mayor."
      ],
      "id": "qxYTptmRZz_5"
    },
    {
      "cell_type": "markdown",
      "metadata": {
        "id": "eoa6vcukoJqh"
      },
      "source": [
        "**seller.seller_reputation.transactions.total**: Por cada rank se obtiene la cantidad, valor mínimo, valor máximo, y sumatoria de ventas"
      ],
      "id": "eoa6vcukoJqh"
    },
    {
      "cell_type": "code",
      "metadata": {
        "colab": {
          "base_uri": "https://localhost:8080/",
          "height": 266
        },
        "id": "qGzGyBmLZSIM",
        "outputId": "e7b924b5-3700-4aa2-8aee-fe25fc753762"
      },
      "source": [
        "bm.groupby('rank_seller.seller_reputation.t.total').agg({'seller.seller_reputation.transactions.total' : ['count','min','max','mean'],'sold_quantity':'sum'})"
      ],
      "id": "qGzGyBmLZSIM",
      "execution_count": 20,
      "outputs": [
        {
          "output_type": "execute_result",
          "data": {
            "text/html": [
              "<div>\n",
              "<style scoped>\n",
              "    .dataframe tbody tr th:only-of-type {\n",
              "        vertical-align: middle;\n",
              "    }\n",
              "\n",
              "    .dataframe tbody tr th {\n",
              "        vertical-align: top;\n",
              "    }\n",
              "\n",
              "    .dataframe thead tr th {\n",
              "        text-align: left;\n",
              "    }\n",
              "\n",
              "    .dataframe thead tr:last-of-type th {\n",
              "        text-align: right;\n",
              "    }\n",
              "</style>\n",
              "<table border=\"1\" class=\"dataframe\">\n",
              "  <thead>\n",
              "    <tr>\n",
              "      <th></th>\n",
              "      <th colspan=\"4\" halign=\"left\">seller.seller_reputation.transactions.total</th>\n",
              "      <th>sold_quantity</th>\n",
              "    </tr>\n",
              "    <tr>\n",
              "      <th></th>\n",
              "      <th>count</th>\n",
              "      <th>min</th>\n",
              "      <th>max</th>\n",
              "      <th>mean</th>\n",
              "      <th>sum</th>\n",
              "    </tr>\n",
              "    <tr>\n",
              "      <th>rank_seller.seller_reputation.t.total</th>\n",
              "      <th></th>\n",
              "      <th></th>\n",
              "      <th></th>\n",
              "      <th></th>\n",
              "      <th></th>\n",
              "    </tr>\n",
              "  </thead>\n",
              "  <tbody>\n",
              "    <tr>\n",
              "      <th>0</th>\n",
              "      <td>201</td>\n",
              "      <td>3</td>\n",
              "      <td>2352</td>\n",
              "      <td>671.825871</td>\n",
              "      <td>1350</td>\n",
              "    </tr>\n",
              "    <tr>\n",
              "      <th>1</th>\n",
              "      <td>196</td>\n",
              "      <td>2383</td>\n",
              "      <td>8813</td>\n",
              "      <td>5065.392857</td>\n",
              "      <td>4057</td>\n",
              "    </tr>\n",
              "    <tr>\n",
              "      <th>2</th>\n",
              "      <td>203</td>\n",
              "      <td>9238</td>\n",
              "      <td>23424</td>\n",
              "      <td>15499.098522</td>\n",
              "      <td>3250</td>\n",
              "    </tr>\n",
              "    <tr>\n",
              "      <th>3</th>\n",
              "      <td>197</td>\n",
              "      <td>24108</td>\n",
              "      <td>56141</td>\n",
              "      <td>36616.736041</td>\n",
              "      <td>4367</td>\n",
              "    </tr>\n",
              "    <tr>\n",
              "      <th>4</th>\n",
              "      <td>196</td>\n",
              "      <td>56175</td>\n",
              "      <td>547217</td>\n",
              "      <td>146571.801020</td>\n",
              "      <td>28252</td>\n",
              "    </tr>\n",
              "  </tbody>\n",
              "</table>\n",
              "</div>"
            ],
            "text/plain": [
              "                                      seller.seller_reputation.transactions.total  ... sold_quantity\n",
              "                                                                            count  ...           sum\n",
              "rank_seller.seller_reputation.t.total                                              ...              \n",
              "0                                                                             201  ...          1350\n",
              "1                                                                             196  ...          4057\n",
              "2                                                                             203  ...          3250\n",
              "3                                                                             197  ...          4367\n",
              "4                                                                             196  ...         28252\n",
              "\n",
              "[5 rows x 5 columns]"
            ]
          },
          "metadata": {
            "tags": []
          },
          "execution_count": 20
        }
      ]
    },
    {
      "cell_type": "markdown",
      "metadata": {
        "id": "ogM6G7b2Z_o1"
      },
      "source": [
        "Conclusión: A partir de 56.126 transacciones totales (rank 4) se observa que la cantidad total de ventas aumentan significativamente. En los anteriores rank no se observa una relación directa con la cantidad de ventas"
      ],
      "id": "ogM6G7b2Z_o1"
    },
    {
      "cell_type": "markdown",
      "metadata": {
        "id": "9-_QtkqloYvI"
      },
      "source": [
        "**seller.seller_reputation.transactions.canceled**: Por cada rank se obtiene la cantidad, valor mínimo, valor máximo, y sumatoria de ventas"
      ],
      "id": "9-_QtkqloYvI"
    },
    {
      "cell_type": "code",
      "metadata": {
        "colab": {
          "base_uri": "https://localhost:8080/",
          "height": 266
        },
        "id": "stzlknGeaM-M",
        "outputId": "d96ea003-d8c6-4ba4-82dc-620be9f0c338"
      },
      "source": [
        "bm.groupby('rank_seller.seller_reputation.t.canceled').agg({'seller.seller_reputation.transactions.canceled' : ['count','min','max','mean'],'sold_quantity':'sum'})"
      ],
      "id": "stzlknGeaM-M",
      "execution_count": 21,
      "outputs": [
        {
          "output_type": "execute_result",
          "data": {
            "text/html": [
              "<div>\n",
              "<style scoped>\n",
              "    .dataframe tbody tr th:only-of-type {\n",
              "        vertical-align: middle;\n",
              "    }\n",
              "\n",
              "    .dataframe tbody tr th {\n",
              "        vertical-align: top;\n",
              "    }\n",
              "\n",
              "    .dataframe thead tr th {\n",
              "        text-align: left;\n",
              "    }\n",
              "\n",
              "    .dataframe thead tr:last-of-type th {\n",
              "        text-align: right;\n",
              "    }\n",
              "</style>\n",
              "<table border=\"1\" class=\"dataframe\">\n",
              "  <thead>\n",
              "    <tr>\n",
              "      <th></th>\n",
              "      <th colspan=\"4\" halign=\"left\">seller.seller_reputation.transactions.canceled</th>\n",
              "      <th>sold_quantity</th>\n",
              "    </tr>\n",
              "    <tr>\n",
              "      <th></th>\n",
              "      <th>count</th>\n",
              "      <th>min</th>\n",
              "      <th>max</th>\n",
              "      <th>mean</th>\n",
              "      <th>sum</th>\n",
              "    </tr>\n",
              "    <tr>\n",
              "      <th>rank_seller.seller_reputation.t.canceled</th>\n",
              "      <th></th>\n",
              "      <th></th>\n",
              "      <th></th>\n",
              "      <th></th>\n",
              "      <th></th>\n",
              "    </tr>\n",
              "  </thead>\n",
              "  <tbody>\n",
              "    <tr>\n",
              "      <th>0</th>\n",
              "      <td>199</td>\n",
              "      <td>0</td>\n",
              "      <td>134</td>\n",
              "      <td>43.477387</td>\n",
              "      <td>1595</td>\n",
              "    </tr>\n",
              "    <tr>\n",
              "      <th>1</th>\n",
              "      <td>198</td>\n",
              "      <td>135</td>\n",
              "      <td>541</td>\n",
              "      <td>320.828283</td>\n",
              "      <td>4535</td>\n",
              "    </tr>\n",
              "    <tr>\n",
              "      <th>2</th>\n",
              "      <td>199</td>\n",
              "      <td>546</td>\n",
              "      <td>1324</td>\n",
              "      <td>895.793970</td>\n",
              "      <td>2606</td>\n",
              "    </tr>\n",
              "    <tr>\n",
              "      <th>3</th>\n",
              "      <td>207</td>\n",
              "      <td>1338</td>\n",
              "      <td>3159</td>\n",
              "      <td>2009.468599</td>\n",
              "      <td>6411</td>\n",
              "    </tr>\n",
              "    <tr>\n",
              "      <th>4</th>\n",
              "      <td>190</td>\n",
              "      <td>3381</td>\n",
              "      <td>25444</td>\n",
              "      <td>7854.342105</td>\n",
              "      <td>26129</td>\n",
              "    </tr>\n",
              "  </tbody>\n",
              "</table>\n",
              "</div>"
            ],
            "text/plain": [
              "                                         seller.seller_reputation.transactions.canceled  ... sold_quantity\n",
              "                                                                                  count  ...           sum\n",
              "rank_seller.seller_reputation.t.canceled                                                 ...              \n",
              "0                                                                                   199  ...          1595\n",
              "1                                                                                   198  ...          4535\n",
              "2                                                                                   199  ...          2606\n",
              "3                                                                                   207  ...          6411\n",
              "4                                                                                   190  ...         26129\n",
              "\n",
              "[5 rows x 5 columns]"
            ]
          },
          "metadata": {
            "tags": []
          },
          "execution_count": 21
        }
      ]
    },
    {
      "cell_type": "markdown",
      "metadata": {
        "id": "N4XyY0Ds81en"
      },
      "source": [
        "Conclusión: Ocurre lo mismo que con la variable anterior."
      ],
      "id": "N4XyY0Ds81en"
    },
    {
      "cell_type": "markdown",
      "metadata": {
        "id": "CV4nOTxmol7C"
      },
      "source": [
        "**seller.seller_reputation.transactions.ratings.positive**: Por cada rank se obtiene la cantidad, valor mínimo, valor máximo, y sumatoria de ventas"
      ],
      "id": "CV4nOTxmol7C"
    },
    {
      "cell_type": "code",
      "metadata": {
        "colab": {
          "base_uri": "https://localhost:8080/",
          "height": 266
        },
        "id": "SrRzo10zcEKK",
        "outputId": "63c7b62d-befc-4daf-e8e1-03246dd086bd"
      },
      "source": [
        "bm.groupby('rank_seller.seller_reputation.t.ratings.positive').agg({'seller.seller_reputation.transactions.ratings.positive' : ['count','min','max','mean'],'sold_quantity':'sum'})"
      ],
      "id": "SrRzo10zcEKK",
      "execution_count": 22,
      "outputs": [
        {
          "output_type": "execute_result",
          "data": {
            "text/html": [
              "<div>\n",
              "<style scoped>\n",
              "    .dataframe tbody tr th:only-of-type {\n",
              "        vertical-align: middle;\n",
              "    }\n",
              "\n",
              "    .dataframe tbody tr th {\n",
              "        vertical-align: top;\n",
              "    }\n",
              "\n",
              "    .dataframe thead tr th {\n",
              "        text-align: left;\n",
              "    }\n",
              "\n",
              "    .dataframe thead tr:last-of-type th {\n",
              "        text-align: right;\n",
              "    }\n",
              "</style>\n",
              "<table border=\"1\" class=\"dataframe\">\n",
              "  <thead>\n",
              "    <tr>\n",
              "      <th></th>\n",
              "      <th colspan=\"4\" halign=\"left\">seller.seller_reputation.transactions.ratings.positive</th>\n",
              "      <th>sold_quantity</th>\n",
              "    </tr>\n",
              "    <tr>\n",
              "      <th></th>\n",
              "      <th>count</th>\n",
              "      <th>min</th>\n",
              "      <th>max</th>\n",
              "      <th>mean</th>\n",
              "      <th>sum</th>\n",
              "    </tr>\n",
              "    <tr>\n",
              "      <th>rank_seller.seller_reputation.t.ratings.positive</th>\n",
              "      <th></th>\n",
              "      <th></th>\n",
              "      <th></th>\n",
              "      <th></th>\n",
              "      <th></th>\n",
              "    </tr>\n",
              "  </thead>\n",
              "  <tbody>\n",
              "    <tr>\n",
              "      <th>0</th>\n",
              "      <td>263</td>\n",
              "      <td>0.85</td>\n",
              "      <td>0.94</td>\n",
              "      <td>0.920076</td>\n",
              "      <td>16233</td>\n",
              "    </tr>\n",
              "    <tr>\n",
              "      <th>1</th>\n",
              "      <td>213</td>\n",
              "      <td>0.95</td>\n",
              "      <td>0.96</td>\n",
              "      <td>0.956056</td>\n",
              "      <td>10691</td>\n",
              "    </tr>\n",
              "    <tr>\n",
              "      <th>2</th>\n",
              "      <td>179</td>\n",
              "      <td>0.97</td>\n",
              "      <td>0.97</td>\n",
              "      <td>0.970000</td>\n",
              "      <td>4230</td>\n",
              "    </tr>\n",
              "    <tr>\n",
              "      <th>3</th>\n",
              "      <td>241</td>\n",
              "      <td>0.98</td>\n",
              "      <td>0.99</td>\n",
              "      <td>0.985353</td>\n",
              "      <td>8568</td>\n",
              "    </tr>\n",
              "    <tr>\n",
              "      <th>4</th>\n",
              "      <td>97</td>\n",
              "      <td>1.00</td>\n",
              "      <td>1.00</td>\n",
              "      <td>1.000000</td>\n",
              "      <td>1554</td>\n",
              "    </tr>\n",
              "  </tbody>\n",
              "</table>\n",
              "</div>"
            ],
            "text/plain": [
              "                                                 seller.seller_reputation.transactions.ratings.positive  ... sold_quantity\n",
              "                                                                                                  count  ...           sum\n",
              "rank_seller.seller_reputation.t.ratings.positive                                                         ...              \n",
              "0                                                                                               263      ...         16233\n",
              "1                                                                                               213      ...         10691\n",
              "2                                                                                               179      ...          4230\n",
              "3                                                                                               241      ...          8568\n",
              "4                                                                                                97      ...          1554\n",
              "\n",
              "[5 rows x 5 columns]"
            ]
          },
          "metadata": {
            "tags": []
          },
          "execution_count": 22
        }
      ]
    },
    {
      "cell_type": "markdown",
      "metadata": {
        "id": "bRL1OYCkbVSp"
      },
      "source": [
        "No hay una relación directa entre ratings posivitos y ventas"
      ],
      "id": "bRL1OYCkbVSp"
    },
    {
      "cell_type": "markdown",
      "metadata": {
        "id": "pkfGzADuowud"
      },
      "source": [
        "**seller.seller_reputation.transactions.completed**: Por cada rank se obtiene la cantidad, valor mínimo, valor máximo, y sumatoria de ventas\n",
        "\n"
      ],
      "id": "pkfGzADuowud"
    },
    {
      "cell_type": "code",
      "metadata": {
        "colab": {
          "base_uri": "https://localhost:8080/",
          "height": 266
        },
        "id": "EtWqAPqIfLmG",
        "outputId": "af113575-4f1b-4e25-b3e6-517b52479ea9"
      },
      "source": [
        "bm.groupby('rank_seller.seller_reputation.t.completed').agg({'seller.seller_reputation.transactions.completed' : ['count','min','max','mean'],'sold_quantity':'sum'})"
      ],
      "id": "EtWqAPqIfLmG",
      "execution_count": 23,
      "outputs": [
        {
          "output_type": "execute_result",
          "data": {
            "text/html": [
              "<div>\n",
              "<style scoped>\n",
              "    .dataframe tbody tr th:only-of-type {\n",
              "        vertical-align: middle;\n",
              "    }\n",
              "\n",
              "    .dataframe tbody tr th {\n",
              "        vertical-align: top;\n",
              "    }\n",
              "\n",
              "    .dataframe thead tr th {\n",
              "        text-align: left;\n",
              "    }\n",
              "\n",
              "    .dataframe thead tr:last-of-type th {\n",
              "        text-align: right;\n",
              "    }\n",
              "</style>\n",
              "<table border=\"1\" class=\"dataframe\">\n",
              "  <thead>\n",
              "    <tr>\n",
              "      <th></th>\n",
              "      <th colspan=\"4\" halign=\"left\">seller.seller_reputation.transactions.completed</th>\n",
              "      <th>sold_quantity</th>\n",
              "    </tr>\n",
              "    <tr>\n",
              "      <th></th>\n",
              "      <th>count</th>\n",
              "      <th>min</th>\n",
              "      <th>max</th>\n",
              "      <th>mean</th>\n",
              "      <th>sum</th>\n",
              "    </tr>\n",
              "    <tr>\n",
              "      <th>rank_seller.seller_reputation.t.completed</th>\n",
              "      <th></th>\n",
              "      <th></th>\n",
              "      <th></th>\n",
              "      <th></th>\n",
              "      <th></th>\n",
              "    </tr>\n",
              "  </thead>\n",
              "  <tbody>\n",
              "    <tr>\n",
              "      <th>0</th>\n",
              "      <td>201</td>\n",
              "      <td>2</td>\n",
              "      <td>2222</td>\n",
              "      <td>625.532338</td>\n",
              "      <td>1350</td>\n",
              "    </tr>\n",
              "    <tr>\n",
              "      <th>1</th>\n",
              "      <td>196</td>\n",
              "      <td>2249</td>\n",
              "      <td>8272</td>\n",
              "      <td>4731.091837</td>\n",
              "      <td>4057</td>\n",
              "    </tr>\n",
              "    <tr>\n",
              "      <th>2</th>\n",
              "      <td>203</td>\n",
              "      <td>8687</td>\n",
              "      <td>22047</td>\n",
              "      <td>14569.950739</td>\n",
              "      <td>3250</td>\n",
              "    </tr>\n",
              "    <tr>\n",
              "      <th>3</th>\n",
              "      <td>195</td>\n",
              "      <td>22789</td>\n",
              "      <td>52982</td>\n",
              "      <td>34351.312821</td>\n",
              "      <td>4382</td>\n",
              "    </tr>\n",
              "    <tr>\n",
              "      <th>4</th>\n",
              "      <td>198</td>\n",
              "      <td>53082</td>\n",
              "      <td>521773</td>\n",
              "      <td>138120.126263</td>\n",
              "      <td>28237</td>\n",
              "    </tr>\n",
              "  </tbody>\n",
              "</table>\n",
              "</div>"
            ],
            "text/plain": [
              "                                          seller.seller_reputation.transactions.completed  ... sold_quantity\n",
              "                                                                                    count  ...           sum\n",
              "rank_seller.seller_reputation.t.completed                                                  ...              \n",
              "0                                                                                     201  ...          1350\n",
              "1                                                                                     196  ...          4057\n",
              "2                                                                                     203  ...          3250\n",
              "3                                                                                     195  ...          4382\n",
              "4                                                                                     198  ...         28237\n",
              "\n",
              "[5 rows x 5 columns]"
            ]
          },
          "metadata": {
            "tags": []
          },
          "execution_count": 23
        }
      ]
    },
    {
      "cell_type": "markdown",
      "metadata": {
        "id": "V26EL8AzgD6K"
      },
      "source": [
        "Se observa que cuando las transacciones son mayores a 55.250 (rank 4) aumentan significativamente las ventas"
      ],
      "id": "V26EL8AzgD6K"
    },
    {
      "cell_type": "markdown",
      "metadata": {
        "id": "Quui9Hxlo-iK"
      },
      "source": [
        "**seller.seller_reputation.metrics.claims.value**: Por cada rank se obtiene la cantidad, valor mínimo, valor máximo, y sumatoria de ventas"
      ],
      "id": "Quui9Hxlo-iK"
    },
    {
      "cell_type": "code",
      "metadata": {
        "colab": {
          "base_uri": "https://localhost:8080/",
          "height": 266
        },
        "id": "cwn4LrJ0cB2P",
        "outputId": "725abfd7-c0d6-4d73-f2dd-d8e34b7b412d"
      },
      "source": [
        "bm.groupby('rank_seller.seller_reputation.metrics.claims.value').agg({'seller.seller_reputation.metrics.claims.value' : ['count','min','max','mean'],'sold_quantity':'sum'})"
      ],
      "id": "cwn4LrJ0cB2P",
      "execution_count": 24,
      "outputs": [
        {
          "output_type": "execute_result",
          "data": {
            "text/html": [
              "<div>\n",
              "<style scoped>\n",
              "    .dataframe tbody tr th:only-of-type {\n",
              "        vertical-align: middle;\n",
              "    }\n",
              "\n",
              "    .dataframe tbody tr th {\n",
              "        vertical-align: top;\n",
              "    }\n",
              "\n",
              "    .dataframe thead tr th {\n",
              "        text-align: left;\n",
              "    }\n",
              "\n",
              "    .dataframe thead tr:last-of-type th {\n",
              "        text-align: right;\n",
              "    }\n",
              "</style>\n",
              "<table border=\"1\" class=\"dataframe\">\n",
              "  <thead>\n",
              "    <tr>\n",
              "      <th></th>\n",
              "      <th colspan=\"4\" halign=\"left\">seller.seller_reputation.metrics.claims.value</th>\n",
              "      <th>sold_quantity</th>\n",
              "    </tr>\n",
              "    <tr>\n",
              "      <th></th>\n",
              "      <th>count</th>\n",
              "      <th>min</th>\n",
              "      <th>max</th>\n",
              "      <th>mean</th>\n",
              "      <th>sum</th>\n",
              "    </tr>\n",
              "    <tr>\n",
              "      <th>rank_seller.seller_reputation.metrics.claims.value</th>\n",
              "      <th></th>\n",
              "      <th></th>\n",
              "      <th></th>\n",
              "      <th></th>\n",
              "      <th></th>\n",
              "    </tr>\n",
              "  </thead>\n",
              "  <tbody>\n",
              "    <tr>\n",
              "      <th>0</th>\n",
              "      <td>248</td>\n",
              "      <td>0</td>\n",
              "      <td>2</td>\n",
              "      <td>0.870968</td>\n",
              "      <td>2529</td>\n",
              "    </tr>\n",
              "    <tr>\n",
              "      <th>1</th>\n",
              "      <td>156</td>\n",
              "      <td>3</td>\n",
              "      <td>13</td>\n",
              "      <td>8.128205</td>\n",
              "      <td>2342</td>\n",
              "    </tr>\n",
              "    <tr>\n",
              "      <th>2</th>\n",
              "      <td>194</td>\n",
              "      <td>14</td>\n",
              "      <td>48</td>\n",
              "      <td>28.907216</td>\n",
              "      <td>4894</td>\n",
              "    </tr>\n",
              "    <tr>\n",
              "      <th>3</th>\n",
              "      <td>200</td>\n",
              "      <td>49</td>\n",
              "      <td>139</td>\n",
              "      <td>88.130000</td>\n",
              "      <td>5146</td>\n",
              "    </tr>\n",
              "    <tr>\n",
              "      <th>4</th>\n",
              "      <td>195</td>\n",
              "      <td>148</td>\n",
              "      <td>1385</td>\n",
              "      <td>395.128205</td>\n",
              "      <td>26365</td>\n",
              "    </tr>\n",
              "  </tbody>\n",
              "</table>\n",
              "</div>"
            ],
            "text/plain": [
              "                                                   seller.seller_reputation.metrics.claims.value  ... sold_quantity\n",
              "                                                                                           count  ...           sum\n",
              "rank_seller.seller_reputation.metrics.claims.value                                                ...              \n",
              "0                                                                                            248  ...          2529\n",
              "1                                                                                            156  ...          2342\n",
              "2                                                                                            194  ...          4894\n",
              "3                                                                                            200  ...          5146\n",
              "4                                                                                            195  ...         26365\n",
              "\n",
              "[5 rows x 5 columns]"
            ]
          },
          "metadata": {
            "tags": []
          },
          "execution_count": 24
        }
      ]
    },
    {
      "cell_type": "markdown",
      "metadata": {
        "id": "tm0aNJBNpG6_"
      },
      "source": [
        "**installments.amount**:\n",
        "Por cada rank se obtiene la cantidad, valor mínimo, valor máximo, y sumatoria de ventas"
      ],
      "id": "tm0aNJBNpG6_"
    },
    {
      "cell_type": "code",
      "metadata": {
        "colab": {
          "base_uri": "https://localhost:8080/",
          "height": 266
        },
        "id": "UHUl0eoocuyR",
        "outputId": "c813ddea-a1fa-41ae-8e55-f3cd4ec8451d"
      },
      "source": [
        "bm.groupby('rank_installments.amount').agg({'installments.amount' : ['count','min','max','mean'],'sold_quantity':'sum'})"
      ],
      "id": "UHUl0eoocuyR",
      "execution_count": 25,
      "outputs": [
        {
          "output_type": "execute_result",
          "data": {
            "text/html": [
              "<div>\n",
              "<style scoped>\n",
              "    .dataframe tbody tr th:only-of-type {\n",
              "        vertical-align: middle;\n",
              "    }\n",
              "\n",
              "    .dataframe tbody tr th {\n",
              "        vertical-align: top;\n",
              "    }\n",
              "\n",
              "    .dataframe thead tr th {\n",
              "        text-align: left;\n",
              "    }\n",
              "\n",
              "    .dataframe thead tr:last-of-type th {\n",
              "        text-align: right;\n",
              "    }\n",
              "</style>\n",
              "<table border=\"1\" class=\"dataframe\">\n",
              "  <thead>\n",
              "    <tr>\n",
              "      <th></th>\n",
              "      <th colspan=\"4\" halign=\"left\">installments.amount</th>\n",
              "      <th>sold_quantity</th>\n",
              "    </tr>\n",
              "    <tr>\n",
              "      <th></th>\n",
              "      <th>count</th>\n",
              "      <th>min</th>\n",
              "      <th>max</th>\n",
              "      <th>mean</th>\n",
              "      <th>sum</th>\n",
              "    </tr>\n",
              "    <tr>\n",
              "      <th>rank_installments.amount</th>\n",
              "      <th></th>\n",
              "      <th></th>\n",
              "      <th></th>\n",
              "      <th></th>\n",
              "      <th></th>\n",
              "    </tr>\n",
              "  </thead>\n",
              "  <tbody>\n",
              "    <tr>\n",
              "      <th>0.0</th>\n",
              "      <td>198</td>\n",
              "      <td>14.18</td>\n",
              "      <td>424.72</td>\n",
              "      <td>149.352980</td>\n",
              "      <td>8784</td>\n",
              "    </tr>\n",
              "    <tr>\n",
              "      <th>1.0</th>\n",
              "      <td>201</td>\n",
              "      <td>425.28</td>\n",
              "      <td>5833.25</td>\n",
              "      <td>2277.668159</td>\n",
              "      <td>20829</td>\n",
              "    </tr>\n",
              "    <tr>\n",
              "      <th>2.0</th>\n",
              "      <td>196</td>\n",
              "      <td>5889.83</td>\n",
              "      <td>8791.97</td>\n",
              "      <td>7589.363010</td>\n",
              "      <td>10323</td>\n",
              "    </tr>\n",
              "    <tr>\n",
              "      <th>3.0</th>\n",
              "      <td>197</td>\n",
              "      <td>8922.72</td>\n",
              "      <td>12499.83</td>\n",
              "      <td>10333.223401</td>\n",
              "      <td>899</td>\n",
              "    </tr>\n",
              "    <tr>\n",
              "      <th>4.0</th>\n",
              "      <td>198</td>\n",
              "      <td>12538.13</td>\n",
              "      <td>99124.03</td>\n",
              "      <td>23725.617071</td>\n",
              "      <td>439</td>\n",
              "    </tr>\n",
              "  </tbody>\n",
              "</table>\n",
              "</div>"
            ],
            "text/plain": [
              "                         installments.amount  ... sold_quantity\n",
              "                                       count  ...           sum\n",
              "rank_installments.amount                      ...              \n",
              "0.0                                      198  ...          8784\n",
              "1.0                                      201  ...         20829\n",
              "2.0                                      196  ...         10323\n",
              "3.0                                      197  ...           899\n",
              "4.0                                      198  ...           439\n",
              "\n",
              "[5 rows x 5 columns]"
            ]
          },
          "metadata": {
            "tags": []
          },
          "execution_count": 25
        }
      ]
    },
    {
      "cell_type": "markdown",
      "metadata": {
        "id": "Z16RFWUj9E_P"
      },
      "source": [
        "Conclusión: Se observa que a partir del rank 1 decrece la cantidad de ventas en la medida que se incrementa la variable \"installment. amount\""
      ],
      "id": "Z16RFWUj9E_P"
    },
    {
      "cell_type": "markdown",
      "metadata": {
        "id": "77-SQgNG_5xw"
      },
      "source": [
        "# 5.3. Análisis de variables categóricas"
      ],
      "id": "77-SQgNG_5xw"
    },
    {
      "cell_type": "markdown",
      "metadata": {
        "id": "ONYIX_2mpdZm"
      },
      "source": [
        "**Listing_type_id:** \n",
        "Para cada categoría se obtiene la cantidad de registros el promedio y la sumatoria de la variable \"sold quantity\""
      ],
      "id": "ONYIX_2mpdZm"
    },
    {
      "cell_type": "code",
      "metadata": {
        "colab": {
          "base_uri": "https://localhost:8080/",
          "height": 173
        },
        "id": "RnIMpNa1d4ca",
        "outputId": "f474731a-3b36-4034-bbf1-4872f224334d"
      },
      "source": [
        "bm.groupby('listing_type_id').agg({'sold_quantity':['count','mean','sum']})"
      ],
      "id": "RnIMpNa1d4ca",
      "execution_count": 26,
      "outputs": [
        {
          "output_type": "execute_result",
          "data": {
            "text/html": [
              "<div>\n",
              "<style scoped>\n",
              "    .dataframe tbody tr th:only-of-type {\n",
              "        vertical-align: middle;\n",
              "    }\n",
              "\n",
              "    .dataframe tbody tr th {\n",
              "        vertical-align: top;\n",
              "    }\n",
              "\n",
              "    .dataframe thead tr th {\n",
              "        text-align: left;\n",
              "    }\n",
              "\n",
              "    .dataframe thead tr:last-of-type th {\n",
              "        text-align: right;\n",
              "    }\n",
              "</style>\n",
              "<table border=\"1\" class=\"dataframe\">\n",
              "  <thead>\n",
              "    <tr>\n",
              "      <th></th>\n",
              "      <th colspan=\"3\" halign=\"left\">sold_quantity</th>\n",
              "    </tr>\n",
              "    <tr>\n",
              "      <th></th>\n",
              "      <th>count</th>\n",
              "      <th>mean</th>\n",
              "      <th>sum</th>\n",
              "    </tr>\n",
              "    <tr>\n",
              "      <th>listing_type_id</th>\n",
              "      <th></th>\n",
              "      <th></th>\n",
              "      <th></th>\n",
              "    </tr>\n",
              "  </thead>\n",
              "  <tbody>\n",
              "    <tr>\n",
              "      <th>gold_pro</th>\n",
              "      <td>240</td>\n",
              "      <td>73.733333</td>\n",
              "      <td>17696</td>\n",
              "    </tr>\n",
              "    <tr>\n",
              "      <th>gold_special</th>\n",
              "      <td>753</td>\n",
              "      <td>31.314741</td>\n",
              "      <td>23580</td>\n",
              "    </tr>\n",
              "  </tbody>\n",
              "</table>\n",
              "</div>"
            ],
            "text/plain": [
              "                sold_quantity                  \n",
              "                        count       mean    sum\n",
              "listing_type_id                                \n",
              "gold_pro                  240  73.733333  17696\n",
              "gold_special              753  31.314741  23580"
            ]
          },
          "metadata": {
            "tags": []
          },
          "execution_count": 26
        }
      ]
    },
    {
      "cell_type": "markdown",
      "metadata": {
        "id": "h7HZHslX9b2w"
      },
      "source": [
        "Los \"Gold pro\" venden más en promedio que los \"gold special\""
      ],
      "id": "h7HZHslX9b2w"
    },
    {
      "cell_type": "markdown",
      "metadata": {
        "id": "q3LvFbvCp3RT"
      },
      "source": [
        "**seller.eshop.nick_name:**\n",
        "Armamos una tabla con los vendedores ordenando los que poseen más cantidad de ventas"
      ],
      "id": "q3LvFbvCp3RT"
    },
    {
      "cell_type": "code",
      "metadata": {
        "colab": {
          "base_uri": "https://localhost:8080/",
          "height": 481
        },
        "id": "rz-yd_xleuiB",
        "outputId": "dbd9d768-4613-4031-ce34-76c96804eb43"
      },
      "source": [
        "vendor = bm.groupby('seller.eshop.nick_name').agg({'sold_quantity':['count','mean','sum']})\n",
        "vendor.sort_values(by=('sold_quantity',  'sum'), ascending=False)"
      ],
      "id": "rz-yd_xleuiB",
      "execution_count": 27,
      "outputs": [
        {
          "output_type": "execute_result",
          "data": {
            "text/html": [
              "<div>\n",
              "<style scoped>\n",
              "    .dataframe tbody tr th:only-of-type {\n",
              "        vertical-align: middle;\n",
              "    }\n",
              "\n",
              "    .dataframe tbody tr th {\n",
              "        vertical-align: top;\n",
              "    }\n",
              "\n",
              "    .dataframe thead tr th {\n",
              "        text-align: left;\n",
              "    }\n",
              "\n",
              "    .dataframe thead tr:last-of-type th {\n",
              "        text-align: right;\n",
              "    }\n",
              "</style>\n",
              "<table border=\"1\" class=\"dataframe\">\n",
              "  <thead>\n",
              "    <tr>\n",
              "      <th></th>\n",
              "      <th colspan=\"3\" halign=\"left\">sold_quantity</th>\n",
              "    </tr>\n",
              "    <tr>\n",
              "      <th></th>\n",
              "      <th>count</th>\n",
              "      <th>mean</th>\n",
              "      <th>sum</th>\n",
              "    </tr>\n",
              "    <tr>\n",
              "      <th>seller.eshop.nick_name</th>\n",
              "      <th></th>\n",
              "      <th></th>\n",
              "      <th></th>\n",
              "    </tr>\n",
              "  </thead>\n",
              "  <tbody>\n",
              "    <tr>\n",
              "      <th>ELECTRO POINT</th>\n",
              "      <td>3</td>\n",
              "      <td>1793.000000</td>\n",
              "      <td>5379</td>\n",
              "    </tr>\n",
              "    <tr>\n",
              "      <th>TIENDASHOPEALO</th>\n",
              "      <td>3</td>\n",
              "      <td>535.000000</td>\n",
              "      <td>1605</td>\n",
              "    </tr>\n",
              "    <tr>\n",
              "      <th>BIDCOM</th>\n",
              "      <td>5</td>\n",
              "      <td>152.000000</td>\n",
              "      <td>760</td>\n",
              "    </tr>\n",
              "    <tr>\n",
              "      <th>AYKIKESTORE</th>\n",
              "      <td>4</td>\n",
              "      <td>188.750000</td>\n",
              "      <td>755</td>\n",
              "    </tr>\n",
              "    <tr>\n",
              "      <th>SEBARUMEL</th>\n",
              "      <td>13</td>\n",
              "      <td>50.615385</td>\n",
              "      <td>658</td>\n",
              "    </tr>\n",
              "    <tr>\n",
              "      <th>...</th>\n",
              "      <td>...</td>\n",
              "      <td>...</td>\n",
              "      <td>...</td>\n",
              "    </tr>\n",
              "    <tr>\n",
              "      <th>ROSARIOALCOSTOSRL</th>\n",
              "      <td>3</td>\n",
              "      <td>0.000000</td>\n",
              "      <td>0</td>\n",
              "    </tr>\n",
              "    <tr>\n",
              "      <th>ELECTROSERVICE3</th>\n",
              "      <td>12</td>\n",
              "      <td>0.000000</td>\n",
              "      <td>0</td>\n",
              "    </tr>\n",
              "    <tr>\n",
              "      <th>DVTTIENDA</th>\n",
              "      <td>1</td>\n",
              "      <td>0.000000</td>\n",
              "      <td>0</td>\n",
              "    </tr>\n",
              "    <tr>\n",
              "      <th>SHOWMUSIC</th>\n",
              "      <td>1</td>\n",
              "      <td>0.000000</td>\n",
              "      <td>0</td>\n",
              "    </tr>\n",
              "    <tr>\n",
              "      <th>AIRSHOP1</th>\n",
              "      <td>2</td>\n",
              "      <td>0.000000</td>\n",
              "      <td>0</td>\n",
              "    </tr>\n",
              "  </tbody>\n",
              "</table>\n",
              "<p>163 rows × 3 columns</p>\n",
              "</div>"
            ],
            "text/plain": [
              "                       sold_quantity                   \n",
              "                               count         mean   sum\n",
              "seller.eshop.nick_name                                 \n",
              "ELECTRO POINT                      3  1793.000000  5379\n",
              "TIENDASHOPEALO                     3   535.000000  1605\n",
              "BIDCOM                             5   152.000000   760\n",
              "AYKIKESTORE                        4   188.750000   755\n",
              "SEBARUMEL                         13    50.615385   658\n",
              "...                              ...          ...   ...\n",
              "ROSARIOALCOSTOSRL                  3     0.000000     0\n",
              "ELECTROSERVICE3                   12     0.000000     0\n",
              "DVTTIENDA                          1     0.000000     0\n",
              "SHOWMUSIC                          1     0.000000     0\n",
              "AIRSHOP1                           2     0.000000     0\n",
              "\n",
              "[163 rows x 3 columns]"
            ]
          },
          "metadata": {
            "tags": []
          },
          "execution_count": 27
        }
      ]
    },
    {
      "cell_type": "markdown",
      "metadata": {
        "id": "q-2X48tl9pa7"
      },
      "source": [
        "**address.state_name:** Analizamos cuales son las provincias donde hay más cantidad de ventas y luego construimos la variable \"zona\" en donde agrupamos a las provincias con pocos casos"
      ],
      "id": "q-2X48tl9pa7"
    },
    {
      "cell_type": "code",
      "metadata": {
        "colab": {
          "base_uri": "https://localhost:8080/",
          "height": 390
        },
        "id": "aSLCMisbojm3",
        "outputId": "d792877b-adfb-49f1-f253-6be9d48bb736"
      },
      "source": [
        "zona = bm.groupby('address.state_name').agg({'sold_quantity':['count','mean','sum']})\n",
        "zona.sort_values(by=('sold_quantity',  'sum'), ascending=False)"
      ],
      "id": "aSLCMisbojm3",
      "execution_count": 28,
      "outputs": [
        {
          "output_type": "execute_result",
          "data": {
            "text/html": [
              "<div>\n",
              "<style scoped>\n",
              "    .dataframe tbody tr th:only-of-type {\n",
              "        vertical-align: middle;\n",
              "    }\n",
              "\n",
              "    .dataframe tbody tr th {\n",
              "        vertical-align: top;\n",
              "    }\n",
              "\n",
              "    .dataframe thead tr th {\n",
              "        text-align: left;\n",
              "    }\n",
              "\n",
              "    .dataframe thead tr:last-of-type th {\n",
              "        text-align: right;\n",
              "    }\n",
              "</style>\n",
              "<table border=\"1\" class=\"dataframe\">\n",
              "  <thead>\n",
              "    <tr>\n",
              "      <th></th>\n",
              "      <th colspan=\"3\" halign=\"left\">sold_quantity</th>\n",
              "    </tr>\n",
              "    <tr>\n",
              "      <th></th>\n",
              "      <th>count</th>\n",
              "      <th>mean</th>\n",
              "      <th>sum</th>\n",
              "    </tr>\n",
              "    <tr>\n",
              "      <th>address.state_name</th>\n",
              "      <th></th>\n",
              "      <th></th>\n",
              "      <th></th>\n",
              "    </tr>\n",
              "  </thead>\n",
              "  <tbody>\n",
              "    <tr>\n",
              "      <th>Capital Federal</th>\n",
              "      <td>545</td>\n",
              "      <td>37.722936</td>\n",
              "      <td>20559</td>\n",
              "    </tr>\n",
              "    <tr>\n",
              "      <th>Buenos Aires</th>\n",
              "      <td>316</td>\n",
              "      <td>62.107595</td>\n",
              "      <td>19626</td>\n",
              "    </tr>\n",
              "    <tr>\n",
              "      <th>Córdoba</th>\n",
              "      <td>59</td>\n",
              "      <td>8.576271</td>\n",
              "      <td>506</td>\n",
              "    </tr>\n",
              "    <tr>\n",
              "      <th>Santa Fe</th>\n",
              "      <td>47</td>\n",
              "      <td>7.787234</td>\n",
              "      <td>366</td>\n",
              "    </tr>\n",
              "    <tr>\n",
              "      <th>Tucumán</th>\n",
              "      <td>17</td>\n",
              "      <td>9.941176</td>\n",
              "      <td>169</td>\n",
              "    </tr>\n",
              "    <tr>\n",
              "      <th>Entre Ríos</th>\n",
              "      <td>3</td>\n",
              "      <td>16.666667</td>\n",
              "      <td>50</td>\n",
              "    </tr>\n",
              "    <tr>\n",
              "      <th>Mendoza</th>\n",
              "      <td>2</td>\n",
              "      <td>0.000000</td>\n",
              "      <td>0</td>\n",
              "    </tr>\n",
              "    <tr>\n",
              "      <th>Neuquén</th>\n",
              "      <td>3</td>\n",
              "      <td>0.000000</td>\n",
              "      <td>0</td>\n",
              "    </tr>\n",
              "    <tr>\n",
              "      <th>Santa Cruz</th>\n",
              "      <td>1</td>\n",
              "      <td>0.000000</td>\n",
              "      <td>0</td>\n",
              "    </tr>\n",
              "  </tbody>\n",
              "</table>\n",
              "</div>"
            ],
            "text/plain": [
              "                   sold_quantity                  \n",
              "                           count       mean    sum\n",
              "address.state_name                                \n",
              "Capital Federal              545  37.722936  20559\n",
              "Buenos Aires                 316  62.107595  19626\n",
              "Córdoba                       59   8.576271    506\n",
              "Santa Fe                      47   7.787234    366\n",
              "Tucumán                       17   9.941176    169\n",
              "Entre Ríos                     3  16.666667     50\n",
              "Mendoza                        2   0.000000      0\n",
              "Neuquén                        3   0.000000      0\n",
              "Santa Cruz                     1   0.000000      0"
            ]
          },
          "metadata": {
            "tags": []
          },
          "execution_count": 28
        }
      ]
    },
    {
      "cell_type": "markdown",
      "metadata": {
        "id": "CQrbl6Vj9397"
      },
      "source": [
        "En la tabla anterior se observa que Capital Federal y Buenos Aires concentran la mayor cantidad de ventas"
      ],
      "id": "CQrbl6Vj9397"
    },
    {
      "cell_type": "markdown",
      "metadata": {
        "id": "LYGUtBoUqceT"
      },
      "source": [
        "**shipping.mode**\n",
        "Por cada categoría de la variable traemos la cantidad de registros, el promedio de ventas y la sumatoria de ventas"
      ],
      "id": "LYGUtBoUqceT"
    },
    {
      "cell_type": "code",
      "metadata": {
        "colab": {
          "base_uri": "https://localhost:8080/",
          "height": 235
        },
        "id": "Vdx3MwnaqSQj",
        "outputId": "04e28245-62bc-444b-f9b4-5e8def1a931d"
      },
      "source": [
        "bm.groupby('shipping.mode').agg({'sold_quantity':['count','mean','sum']})"
      ],
      "id": "Vdx3MwnaqSQj",
      "execution_count": 29,
      "outputs": [
        {
          "output_type": "execute_result",
          "data": {
            "text/html": [
              "<div>\n",
              "<style scoped>\n",
              "    .dataframe tbody tr th:only-of-type {\n",
              "        vertical-align: middle;\n",
              "    }\n",
              "\n",
              "    .dataframe tbody tr th {\n",
              "        vertical-align: top;\n",
              "    }\n",
              "\n",
              "    .dataframe thead tr th {\n",
              "        text-align: left;\n",
              "    }\n",
              "\n",
              "    .dataframe thead tr:last-of-type th {\n",
              "        text-align: right;\n",
              "    }\n",
              "</style>\n",
              "<table border=\"1\" class=\"dataframe\">\n",
              "  <thead>\n",
              "    <tr>\n",
              "      <th></th>\n",
              "      <th colspan=\"3\" halign=\"left\">sold_quantity</th>\n",
              "    </tr>\n",
              "    <tr>\n",
              "      <th></th>\n",
              "      <th>count</th>\n",
              "      <th>mean</th>\n",
              "      <th>sum</th>\n",
              "    </tr>\n",
              "    <tr>\n",
              "      <th>shipping.mode</th>\n",
              "      <th></th>\n",
              "      <th></th>\n",
              "      <th></th>\n",
              "    </tr>\n",
              "  </thead>\n",
              "  <tbody>\n",
              "    <tr>\n",
              "      <th>custom</th>\n",
              "      <td>66</td>\n",
              "      <td>18.454545</td>\n",
              "      <td>1218</td>\n",
              "    </tr>\n",
              "    <tr>\n",
              "      <th>me1</th>\n",
              "      <td>12</td>\n",
              "      <td>7.916667</td>\n",
              "      <td>95</td>\n",
              "    </tr>\n",
              "    <tr>\n",
              "      <th>me2</th>\n",
              "      <td>749</td>\n",
              "      <td>52.251001</td>\n",
              "      <td>39136</td>\n",
              "    </tr>\n",
              "    <tr>\n",
              "      <th>not_specified</th>\n",
              "      <td>166</td>\n",
              "      <td>4.981928</td>\n",
              "      <td>827</td>\n",
              "    </tr>\n",
              "  </tbody>\n",
              "</table>\n",
              "</div>"
            ],
            "text/plain": [
              "              sold_quantity                  \n",
              "                      count       mean    sum\n",
              "shipping.mode                                \n",
              "custom                   66  18.454545   1218\n",
              "me1                      12   7.916667     95\n",
              "me2                     749  52.251001  39136\n",
              "not_specified           166   4.981928    827"
            ]
          },
          "metadata": {
            "tags": []
          },
          "execution_count": 29
        }
      ]
    },
    {
      "cell_type": "markdown",
      "metadata": {
        "id": "KXFg0pUC-GF2"
      },
      "source": [
        "En la anterior tabla se observa que \"me2\" de la variable \"shipping.mode\" tiene un promedio de ventas mayor"
      ],
      "id": "KXFg0pUC-GF2"
    },
    {
      "cell_type": "markdown",
      "metadata": {
        "id": "nvB4KSZPqsNO"
      },
      "source": [
        "**shipping.logistic_type**\n",
        "Por cada categoría de la variable traemos la cantidad de registros, el promedio de ventas y la sumatoria de ventas"
      ],
      "id": "nvB4KSZPqsNO"
    },
    {
      "cell_type": "code",
      "metadata": {
        "colab": {
          "base_uri": "https://localhost:8080/",
          "height": 328
        },
        "id": "reIY9JHSqcE4",
        "outputId": "6a271426-2405-41f3-f974-aa0d2dd38649"
      },
      "source": [
        "bm.groupby('shipping.logistic_type').agg({'sold_quantity':['count','mean','sum']})"
      ],
      "id": "reIY9JHSqcE4",
      "execution_count": 30,
      "outputs": [
        {
          "output_type": "execute_result",
          "data": {
            "text/html": [
              "<div>\n",
              "<style scoped>\n",
              "    .dataframe tbody tr th:only-of-type {\n",
              "        vertical-align: middle;\n",
              "    }\n",
              "\n",
              "    .dataframe tbody tr th {\n",
              "        vertical-align: top;\n",
              "    }\n",
              "\n",
              "    .dataframe thead tr th {\n",
              "        text-align: left;\n",
              "    }\n",
              "\n",
              "    .dataframe thead tr:last-of-type th {\n",
              "        text-align: right;\n",
              "    }\n",
              "</style>\n",
              "<table border=\"1\" class=\"dataframe\">\n",
              "  <thead>\n",
              "    <tr>\n",
              "      <th></th>\n",
              "      <th colspan=\"3\" halign=\"left\">sold_quantity</th>\n",
              "    </tr>\n",
              "    <tr>\n",
              "      <th></th>\n",
              "      <th>count</th>\n",
              "      <th>mean</th>\n",
              "      <th>sum</th>\n",
              "    </tr>\n",
              "    <tr>\n",
              "      <th>shipping.logistic_type</th>\n",
              "      <th></th>\n",
              "      <th></th>\n",
              "      <th></th>\n",
              "    </tr>\n",
              "  </thead>\n",
              "  <tbody>\n",
              "    <tr>\n",
              "      <th>cross_docking</th>\n",
              "      <td>379</td>\n",
              "      <td>51.005277</td>\n",
              "      <td>19331</td>\n",
              "    </tr>\n",
              "    <tr>\n",
              "      <th>custom</th>\n",
              "      <td>66</td>\n",
              "      <td>18.454545</td>\n",
              "      <td>1218</td>\n",
              "    </tr>\n",
              "    <tr>\n",
              "      <th>default</th>\n",
              "      <td>12</td>\n",
              "      <td>7.916667</td>\n",
              "      <td>95</td>\n",
              "    </tr>\n",
              "    <tr>\n",
              "      <th>drop_off</th>\n",
              "      <td>196</td>\n",
              "      <td>10.127551</td>\n",
              "      <td>1985</td>\n",
              "    </tr>\n",
              "    <tr>\n",
              "      <th>fulfillment</th>\n",
              "      <td>36</td>\n",
              "      <td>427.555556</td>\n",
              "      <td>15392</td>\n",
              "    </tr>\n",
              "    <tr>\n",
              "      <th>not_specified</th>\n",
              "      <td>166</td>\n",
              "      <td>4.981928</td>\n",
              "      <td>827</td>\n",
              "    </tr>\n",
              "    <tr>\n",
              "      <th>xd_drop_off</th>\n",
              "      <td>138</td>\n",
              "      <td>17.594203</td>\n",
              "      <td>2428</td>\n",
              "    </tr>\n",
              "  </tbody>\n",
              "</table>\n",
              "</div>"
            ],
            "text/plain": [
              "                       sold_quantity                   \n",
              "                               count        mean    sum\n",
              "shipping.logistic_type                                 \n",
              "cross_docking                    379   51.005277  19331\n",
              "custom                            66   18.454545   1218\n",
              "default                           12    7.916667     95\n",
              "drop_off                         196   10.127551   1985\n",
              "fulfillment                       36  427.555556  15392\n",
              "not_specified                    166    4.981928    827\n",
              "xd_drop_off                      138   17.594203   2428"
            ]
          },
          "metadata": {
            "tags": []
          },
          "execution_count": 30
        }
      ]
    },
    {
      "cell_type": "markdown",
      "metadata": {
        "id": "f5n2NjwCq2qD"
      },
      "source": [
        "**domain_id**: Por cada categoría de la variable traemos la cantidad de registros, el promedio de ventas y la sumatoria de ventas"
      ],
      "id": "f5n2NjwCq2qD"
    },
    {
      "cell_type": "code",
      "metadata": {
        "colab": {
          "base_uri": "https://localhost:8080/",
          "height": 669
        },
        "id": "Itl72JrjrZdQ",
        "outputId": "78c1a5d2-ec53-4884-b0f2-9ad1387750ca"
      },
      "source": [
        "bm.groupby('domain_id').agg({'sold_quantity':['count','mean','sum']})"
      ],
      "id": "Itl72JrjrZdQ",
      "execution_count": 31,
      "outputs": [
        {
          "output_type": "execute_result",
          "data": {
            "text/html": [
              "<div>\n",
              "<style scoped>\n",
              "    .dataframe tbody tr th:only-of-type {\n",
              "        vertical-align: middle;\n",
              "    }\n",
              "\n",
              "    .dataframe tbody tr th {\n",
              "        vertical-align: top;\n",
              "    }\n",
              "\n",
              "    .dataframe thead tr th {\n",
              "        text-align: left;\n",
              "    }\n",
              "\n",
              "    .dataframe thead tr:last-of-type th {\n",
              "        text-align: right;\n",
              "    }\n",
              "</style>\n",
              "<table border=\"1\" class=\"dataframe\">\n",
              "  <thead>\n",
              "    <tr>\n",
              "      <th></th>\n",
              "      <th colspan=\"3\" halign=\"left\">sold_quantity</th>\n",
              "    </tr>\n",
              "    <tr>\n",
              "      <th></th>\n",
              "      <th>count</th>\n",
              "      <th>mean</th>\n",
              "      <th>sum</th>\n",
              "    </tr>\n",
              "    <tr>\n",
              "      <th>domain_id</th>\n",
              "      <th></th>\n",
              "      <th></th>\n",
              "      <th></th>\n",
              "    </tr>\n",
              "  </thead>\n",
              "  <tbody>\n",
              "    <tr>\n",
              "      <th>MLA-AIR_CONDITIONER_REMOTE_CONTROLS</th>\n",
              "      <td>2</td>\n",
              "      <td>5.000000</td>\n",
              "      <td>10</td>\n",
              "    </tr>\n",
              "    <tr>\n",
              "      <th>MLA-AUDIO_AND_VIDEO_CABLES_AND_ADAPTERS</th>\n",
              "      <td>90</td>\n",
              "      <td>31.433333</td>\n",
              "      <td>2829</td>\n",
              "    </tr>\n",
              "    <tr>\n",
              "      <th>MLA-AUDIO_AND_VIDEO_CONVERTERS</th>\n",
              "      <td>1</td>\n",
              "      <td>1.000000</td>\n",
              "      <td>1</td>\n",
              "    </tr>\n",
              "    <tr>\n",
              "      <th>MLA-DATA_CABLES_AND_ADAPTERS</th>\n",
              "      <td>2</td>\n",
              "      <td>1.000000</td>\n",
              "      <td>2</td>\n",
              "    </tr>\n",
              "    <tr>\n",
              "      <th>MLA-ELECTRONIC_ACCESSORIES_AND_SPARE_PARTS</th>\n",
              "      <td>6</td>\n",
              "      <td>102.500000</td>\n",
              "      <td>615</td>\n",
              "    </tr>\n",
              "    <tr>\n",
              "      <th>MLA-LED_CHIPS</th>\n",
              "      <td>1</td>\n",
              "      <td>5.000000</td>\n",
              "      <td>5</td>\n",
              "    </tr>\n",
              "    <tr>\n",
              "      <th>MLA-MINI_PCS</th>\n",
              "      <td>2</td>\n",
              "      <td>75.000000</td>\n",
              "      <td>150</td>\n",
              "    </tr>\n",
              "    <tr>\n",
              "      <th>MLA-SCREWS</th>\n",
              "      <td>6</td>\n",
              "      <td>23.833333</td>\n",
              "      <td>143</td>\n",
              "    </tr>\n",
              "    <tr>\n",
              "      <th>MLA-STREAMING_MEDIA_DEVICES</th>\n",
              "      <td>74</td>\n",
              "      <td>156.175676</td>\n",
              "      <td>11557</td>\n",
              "    </tr>\n",
              "    <tr>\n",
              "      <th>MLA-STREAMING_MEDIA_PLAYER_REMOTE_CONTROLS</th>\n",
              "      <td>2</td>\n",
              "      <td>3.000000</td>\n",
              "      <td>6</td>\n",
              "    </tr>\n",
              "    <tr>\n",
              "      <th>MLA-TELEVISIONS</th>\n",
              "      <td>689</td>\n",
              "      <td>27.374456</td>\n",
              "      <td>18861</td>\n",
              "    </tr>\n",
              "    <tr>\n",
              "      <th>MLA-THERMOMETERS</th>\n",
              "      <td>1</td>\n",
              "      <td>50.000000</td>\n",
              "      <td>50</td>\n",
              "    </tr>\n",
              "    <tr>\n",
              "      <th>MLA-TRANSISTORS</th>\n",
              "      <td>1</td>\n",
              "      <td>5.000000</td>\n",
              "      <td>5</td>\n",
              "    </tr>\n",
              "    <tr>\n",
              "      <th>MLA-TV_AND_MONITOR_MOUNTS</th>\n",
              "      <td>17</td>\n",
              "      <td>101.882353</td>\n",
              "      <td>1732</td>\n",
              "    </tr>\n",
              "    <tr>\n",
              "      <th>MLA-TV_RECEIVERS_AND_DECODERS</th>\n",
              "      <td>5</td>\n",
              "      <td>37.000000</td>\n",
              "      <td>185</td>\n",
              "    </tr>\n",
              "    <tr>\n",
              "      <th>MLA-TV_REMOTE_CONTROLS</th>\n",
              "      <td>92</td>\n",
              "      <td>55.380435</td>\n",
              "      <td>5095</td>\n",
              "    </tr>\n",
              "    <tr>\n",
              "      <th>MLA-TV_REMOTE_CONTROL_COVERS</th>\n",
              "      <td>1</td>\n",
              "      <td>25.000000</td>\n",
              "      <td>25</td>\n",
              "    </tr>\n",
              "    <tr>\n",
              "      <th>MLA-UNIVERSAL_REMOTE_CONTROLS</th>\n",
              "      <td>1</td>\n",
              "      <td>5.000000</td>\n",
              "      <td>5</td>\n",
              "    </tr>\n",
              "  </tbody>\n",
              "</table>\n",
              "</div>"
            ],
            "text/plain": [
              "                                           sold_quantity                   \n",
              "                                                   count        mean    sum\n",
              "domain_id                                                                  \n",
              "MLA-AIR_CONDITIONER_REMOTE_CONTROLS                    2    5.000000     10\n",
              "MLA-AUDIO_AND_VIDEO_CABLES_AND_ADAPTERS               90   31.433333   2829\n",
              "MLA-AUDIO_AND_VIDEO_CONVERTERS                         1    1.000000      1\n",
              "MLA-DATA_CABLES_AND_ADAPTERS                           2    1.000000      2\n",
              "MLA-ELECTRONIC_ACCESSORIES_AND_SPARE_PARTS             6  102.500000    615\n",
              "MLA-LED_CHIPS                                          1    5.000000      5\n",
              "MLA-MINI_PCS                                           2   75.000000    150\n",
              "MLA-SCREWS                                             6   23.833333    143\n",
              "MLA-STREAMING_MEDIA_DEVICES                           74  156.175676  11557\n",
              "MLA-STREAMING_MEDIA_PLAYER_REMOTE_CONTROLS             2    3.000000      6\n",
              "MLA-TELEVISIONS                                      689   27.374456  18861\n",
              "MLA-THERMOMETERS                                       1   50.000000     50\n",
              "MLA-TRANSISTORS                                        1    5.000000      5\n",
              "MLA-TV_AND_MONITOR_MOUNTS                             17  101.882353   1732\n",
              "MLA-TV_RECEIVERS_AND_DECODERS                          5   37.000000    185\n",
              "MLA-TV_REMOTE_CONTROLS                                92   55.380435   5095\n",
              "MLA-TV_REMOTE_CONTROL_COVERS                           1   25.000000     25\n",
              "MLA-UNIVERSAL_REMOTE_CONTROLS                          1    5.000000      5"
            ]
          },
          "metadata": {
            "tags": []
          },
          "execution_count": 31
        }
      ]
    },
    {
      "cell_type": "markdown",
      "metadata": {
        "id": "2rQO29yI-ZlL"
      },
      "source": [
        "En la anterior tabla se observa claramente que no todos corresponden a televisores, sino que también hay ventas de cables, controles remotos, etc. Con lo cual es necesaria una mayor limpieza del dataset para poder construir un modelo"
      ],
      "id": "2rQO29yI-ZlL"
    },
    {
      "cell_type": "code",
      "metadata": {
        "id": "8XEuiJ87spl8"
      },
      "source": [
        "#Construcción de variable con principales dominios de la búsqueda \n",
        "conditionlist = [(bm['domain_id'] == 'MLA-TELEVISIONS'), bm['domain_id'] == 'MLA-TV_REMOTE_CONTROLS', bm['domain_id'] == 'MLA-AUDIO_AND_VIDEO_CABLES_AND_ADAPTERS', bm['domain_id'] == 'MLA-STREAMING_MEDIA_DEVICES'] \n",
        "choicelist = ['1.MLA-TELEVISIONS','2.MLA-TV_REMOTE_CONTROLS','3.MLA-AUDIO_AND_VIDEO_CABLES_AND_ADAPTERS','4.MLA-STREAMING_MEDIA_DEVICES']\n",
        "bm['Tipo_Dominio'] = np.select(conditionlist, choicelist, default='OTHERS')"
      ],
      "id": "8XEuiJ87spl8",
      "execution_count": 32,
      "outputs": []
    },
    {
      "cell_type": "code",
      "metadata": {
        "colab": {
          "base_uri": "https://localhost:8080/",
          "height": 266
        },
        "id": "z3vZr85nt-4K",
        "outputId": "3c60fe12-6700-425c-a820-2662222c22bc"
      },
      "source": [
        "bm.groupby('Tipo_Dominio').agg({'sold_quantity':['count','mean','sum']})"
      ],
      "id": "z3vZr85nt-4K",
      "execution_count": 33,
      "outputs": [
        {
          "output_type": "execute_result",
          "data": {
            "text/html": [
              "<div>\n",
              "<style scoped>\n",
              "    .dataframe tbody tr th:only-of-type {\n",
              "        vertical-align: middle;\n",
              "    }\n",
              "\n",
              "    .dataframe tbody tr th {\n",
              "        vertical-align: top;\n",
              "    }\n",
              "\n",
              "    .dataframe thead tr th {\n",
              "        text-align: left;\n",
              "    }\n",
              "\n",
              "    .dataframe thead tr:last-of-type th {\n",
              "        text-align: right;\n",
              "    }\n",
              "</style>\n",
              "<table border=\"1\" class=\"dataframe\">\n",
              "  <thead>\n",
              "    <tr>\n",
              "      <th></th>\n",
              "      <th colspan=\"3\" halign=\"left\">sold_quantity</th>\n",
              "    </tr>\n",
              "    <tr>\n",
              "      <th></th>\n",
              "      <th>count</th>\n",
              "      <th>mean</th>\n",
              "      <th>sum</th>\n",
              "    </tr>\n",
              "    <tr>\n",
              "      <th>Tipo_Dominio</th>\n",
              "      <th></th>\n",
              "      <th></th>\n",
              "      <th></th>\n",
              "    </tr>\n",
              "  </thead>\n",
              "  <tbody>\n",
              "    <tr>\n",
              "      <th>1.MLA-TELEVISIONS</th>\n",
              "      <td>689</td>\n",
              "      <td>27.374456</td>\n",
              "      <td>18861</td>\n",
              "    </tr>\n",
              "    <tr>\n",
              "      <th>2.MLA-TV_REMOTE_CONTROLS</th>\n",
              "      <td>92</td>\n",
              "      <td>55.380435</td>\n",
              "      <td>5095</td>\n",
              "    </tr>\n",
              "    <tr>\n",
              "      <th>3.MLA-AUDIO_AND_VIDEO_CABLES_AND_ADAPTERS</th>\n",
              "      <td>90</td>\n",
              "      <td>31.433333</td>\n",
              "      <td>2829</td>\n",
              "    </tr>\n",
              "    <tr>\n",
              "      <th>4.MLA-STREAMING_MEDIA_DEVICES</th>\n",
              "      <td>74</td>\n",
              "      <td>156.175676</td>\n",
              "      <td>11557</td>\n",
              "    </tr>\n",
              "    <tr>\n",
              "      <th>OTHERS</th>\n",
              "      <td>48</td>\n",
              "      <td>61.125000</td>\n",
              "      <td>2934</td>\n",
              "    </tr>\n",
              "  </tbody>\n",
              "</table>\n",
              "</div>"
            ],
            "text/plain": [
              "                                          sold_quantity                   \n",
              "                                                  count        mean    sum\n",
              "Tipo_Dominio                                                              \n",
              "1.MLA-TELEVISIONS                                   689   27.374456  18861\n",
              "2.MLA-TV_REMOTE_CONTROLS                             92   55.380435   5095\n",
              "3.MLA-AUDIO_AND_VIDEO_CABLES_AND_ADAPTERS            90   31.433333   2829\n",
              "4.MLA-STREAMING_MEDIA_DEVICES                        74  156.175676  11557\n",
              "OTHERS                                               48   61.125000   2934"
            ]
          },
          "metadata": {
            "tags": []
          },
          "execution_count": 33
        }
      ]
    }
  ]
}